{
  "nbformat": 4,
  "nbformat_minor": 0,
  "metadata": {
    "colab": {
      "name": "lof_variants_pre_processing_part_2_elgh_gnomad_combine.ipynb",
      "provenance": []
    },
    "kernelspec": {
      "name": "python3",
      "display_name": "Python 3"
    },
    "language_info": {
      "name": "python"
    }
  },
  "cells": [
    {
      "cell_type": "code",
      "metadata": {
        "colab": {
          "base_uri": "https://localhost:8080/"
        },
        "id": "uFI7pbC_I-6h",
        "outputId": "effd5430-dd54-4a79-aeb1-c8d64aab4228"
      },
      "source": [
        "!pip install category_encoders"
      ],
      "execution_count": null,
      "outputs": [
        {
          "output_type": "stream",
          "name": "stdout",
          "text": [
            "Collecting category_encoders\n",
            "  Downloading category_encoders-2.3.0-py2.py3-none-any.whl (82 kB)\n",
            "\u001b[?25l\r\u001b[K     |████                            | 10 kB 17.7 MB/s eta 0:00:01\r\u001b[K     |████████                        | 20 kB 9.7 MB/s eta 0:00:01\r\u001b[K     |████████████                    | 30 kB 8.4 MB/s eta 0:00:01\r\u001b[K     |████████████████                | 40 kB 7.7 MB/s eta 0:00:01\r\u001b[K     |████████████████████            | 51 kB 4.5 MB/s eta 0:00:01\r\u001b[K     |████████████████████████        | 61 kB 5.0 MB/s eta 0:00:01\r\u001b[K     |████████████████████████████    | 71 kB 5.2 MB/s eta 0:00:01\r\u001b[K     |███████████████████████████████▉| 81 kB 5.8 MB/s eta 0:00:01\r\u001b[K     |████████████████████████████████| 82 kB 183 kB/s \n",
            "\u001b[?25hRequirement already satisfied: patsy>=0.5.1 in /usr/local/lib/python3.7/dist-packages (from category_encoders) (0.5.2)\n",
            "Requirement already satisfied: numpy>=1.14.0 in /usr/local/lib/python3.7/dist-packages (from category_encoders) (1.19.5)\n",
            "Requirement already satisfied: pandas>=0.21.1 in /usr/local/lib/python3.7/dist-packages (from category_encoders) (1.1.5)\n",
            "Requirement already satisfied: scipy>=1.0.0 in /usr/local/lib/python3.7/dist-packages (from category_encoders) (1.4.1)\n",
            "Requirement already satisfied: scikit-learn>=0.20.0 in /usr/local/lib/python3.7/dist-packages (from category_encoders) (1.0.1)\n",
            "Requirement already satisfied: statsmodels>=0.9.0 in /usr/local/lib/python3.7/dist-packages (from category_encoders) (0.10.2)\n",
            "Requirement already satisfied: pytz>=2017.2 in /usr/local/lib/python3.7/dist-packages (from pandas>=0.21.1->category_encoders) (2018.9)\n",
            "Requirement already satisfied: python-dateutil>=2.7.3 in /usr/local/lib/python3.7/dist-packages (from pandas>=0.21.1->category_encoders) (2.8.2)\n",
            "Requirement already satisfied: six in /usr/local/lib/python3.7/dist-packages (from patsy>=0.5.1->category_encoders) (1.15.0)\n",
            "Requirement already satisfied: joblib>=0.11 in /usr/local/lib/python3.7/dist-packages (from scikit-learn>=0.20.0->category_encoders) (1.1.0)\n",
            "Requirement already satisfied: threadpoolctl>=2.0.0 in /usr/local/lib/python3.7/dist-packages (from scikit-learn>=0.20.0->category_encoders) (3.0.0)\n",
            "Installing collected packages: category-encoders\n",
            "Successfully installed category-encoders-2.3.0\n"
          ]
        }
      ]
    },
    {
      "cell_type": "code",
      "metadata": {
        "id": "N5C3wuaTAuLY"
      },
      "source": [
        "import pandas as pd\n",
        "import matplotlib.pyplot as plt\n",
        "import seaborn as sns\n",
        "import numpy as np\n",
        "from category_encoders.hashing import HashingEncoder\n",
        "from sklearn.model_selection import train_test_split\n",
        "from sklearn.metrics import plot_confusion_matrix\n",
        "from sklearn.metrics import classification_report\n",
        "from sklearn.metrics import f1_score"
      ],
      "execution_count": null,
      "outputs": []
    },
    {
      "cell_type": "markdown",
      "metadata": {
        "id": "zNpXNZS7z5si"
      },
      "source": [
        "Mount google drive storage."
      ]
    },
    {
      "cell_type": "code",
      "metadata": {
        "id": "cbQc2-2c4Jco",
        "colab": {
          "base_uri": "https://localhost:8080/"
        },
        "outputId": "c2ab485d-5b39-46b7-a19a-170185031346"
      },
      "source": [
        "from google.colab import drive\n",
        "drive.mount('/content/drive')"
      ],
      "execution_count": null,
      "outputs": [
        {
          "output_type": "stream",
          "name": "stdout",
          "text": [
            "Mounted at /content/drive\n"
          ]
        }
      ]
    },
    {
      "cell_type": "markdown",
      "metadata": {
        "id": "YuY7UAg_0AxT"
      },
      "source": [
        "Load sampled ELGH data"
      ]
    },
    {
      "cell_type": "code",
      "metadata": {
        "id": "rQc7i6HC4OBI"
      },
      "source": [
        "df_el_sampled = pd.read_csv(\"/content/drive/MyDrive/MSc-project-lof/df_el_sampled_5k.csv\")"
      ],
      "execution_count": null,
      "outputs": []
    },
    {
      "cell_type": "code",
      "metadata": {
        "colab": {
          "base_uri": "https://localhost:8080/"
        },
        "id": "-2SVo-WU4ZdA",
        "outputId": "5ad05563-a9ed-4c0e-e1dd-d5c5ce78856e"
      },
      "source": [
        "df_el_sampled.info()"
      ],
      "execution_count": null,
      "outputs": [
        {
          "output_type": "stream",
          "name": "stdout",
          "text": [
            "<class 'pandas.core.frame.DataFrame'>\n",
            "RangeIndex: 5000 entries, 0 to 4999\n",
            "Data columns (total 26 columns):\n",
            " #   Column              Non-Null Count  Dtype  \n",
            "---  ------              --------------  -----  \n",
            " 0   CHR                 5000 non-null   object \n",
            " 1   POS                 5000 non-null   float64\n",
            " 2   rsid                5000 non-null   object \n",
            " 3   SNPID               5000 non-null   object \n",
            " 4   Allele1             5000 non-null   object \n",
            " 5   Allele2             5000 non-null   object \n",
            " 6   AC_Allele2          5000 non-null   float64\n",
            " 7   AF_Allele2          5000 non-null   float64\n",
            " 8   imputationInfo      5000 non-null   float64\n",
            " 9   N                   5000 non-null   int64  \n",
            " 10  BETA                5000 non-null   float64\n",
            " 11  SE                  5000 non-null   float64\n",
            " 12  Tstat               5000 non-null   float64\n",
            " 13  p.value             5000 non-null   float64\n",
            " 14  p.value.NA          5000 non-null   float64\n",
            " 15  Is.SPA.converge     5000 non-null   int64  \n",
            " 16  varT                5000 non-null   float64\n",
            " 17  varTstar            5000 non-null   float64\n",
            " 18  AF.Cases            5000 non-null   float64\n",
            " 19  AF.Controls         5000 non-null   float64\n",
            " 20  N.Cases             5000 non-null   int64  \n",
            " 21  N.Controls          5000 non-null   int64  \n",
            " 22  homN_Allele2_cases  5000 non-null   int64  \n",
            " 23  hetN_Allele2_cases  5000 non-null   int64  \n",
            " 24  homN_Allele2_ctrls  5000 non-null   int64  \n",
            " 25  hetN_Allele2_ctrls  5000 non-null   int64  \n",
            "dtypes: float64(13), int64(8), object(5)\n",
            "memory usage: 1015.8+ KB\n"
          ]
        }
      ]
    },
    {
      "cell_type": "markdown",
      "metadata": {
        "id": "evWv25EG0Iv0"
      },
      "source": [
        "Drop columns not required as per schema."
      ]
    },
    {
      "cell_type": "code",
      "metadata": {
        "id": "BSPw3iP-5EEf"
      },
      "source": [
        "drop_list = ['SNPID','imputationInfo','N','BETA','SE','Tstat','p.value','p.value.NA',\n",
        "             'Is.SPA.converge','varT','varTstar','AF.Cases','N.Cases','N.Controls',\n",
        "             'homN_Allele2_cases','hetN_Allele2_cases','AF_Allele2']"
      ],
      "execution_count": null,
      "outputs": []
    },
    {
      "cell_type": "code",
      "metadata": {
        "colab": {
          "base_uri": "https://localhost:8080/"
        },
        "id": "2M4M6EhQBY4G",
        "outputId": "e0db25fa-13c0-43d3-e4ff-f691861fd9e1"
      },
      "source": [
        "df_el_sampled.info()"
      ],
      "execution_count": null,
      "outputs": [
        {
          "output_type": "stream",
          "name": "stdout",
          "text": [
            "<class 'pandas.core.frame.DataFrame'>\n",
            "RangeIndex: 5000 entries, 0 to 4999\n",
            "Data columns (total 9 columns):\n",
            " #   Column              Non-Null Count  Dtype  \n",
            "---  ------              --------------  -----  \n",
            " 0   CHR                 5000 non-null   object \n",
            " 1   POS                 5000 non-null   float64\n",
            " 2   rsid                5000 non-null   object \n",
            " 3   Allele1             5000 non-null   object \n",
            " 4   Allele2             5000 non-null   object \n",
            " 5   AC_Allele2          5000 non-null   float64\n",
            " 6   AF.Controls         5000 non-null   float64\n",
            " 7   homN_Allele2_ctrls  5000 non-null   int64  \n",
            " 8   hetN_Allele2_ctrls  5000 non-null   int64  \n",
            "dtypes: float64(3), int64(2), object(4)\n",
            "memory usage: 351.7+ KB\n"
          ]
        }
      ]
    },
    {
      "cell_type": "markdown",
      "metadata": {
        "id": "Stm0TQEi0QB4"
      },
      "source": [
        "Load VEP annotations extracted from Ensembl VEP"
      ]
    },
    {
      "cell_type": "code",
      "metadata": {
        "id": "geU5z-ffCEAW"
      },
      "source": [
        "df_vep_lookup = pd.read_csv(\"/content/drive/MyDrive/MSc-project-lof/VEP Annotation Lookup 5k sample.csv\")"
      ],
      "execution_count": null,
      "outputs": []
    },
    {
      "cell_type": "code",
      "metadata": {
        "colab": {
          "base_uri": "https://localhost:8080/",
          "height": 419
        },
        "id": "IvGHFZfbaR-2",
        "outputId": "b1da4b88-0f32-48bc-d2a5-e79763ceb2db"
      },
      "source": [
        "df_vep_lookup"
      ],
      "execution_count": null,
      "outputs": [
        {
          "output_type": "execute_result",
          "data": {
            "text/html": [
              "<div>\n",
              "<style scoped>\n",
              "    .dataframe tbody tr th:only-of-type {\n",
              "        vertical-align: middle;\n",
              "    }\n",
              "\n",
              "    .dataframe tbody tr th {\n",
              "        vertical-align: top;\n",
              "    }\n",
              "\n",
              "    .dataframe thead th {\n",
              "        text-align: right;\n",
              "    }\n",
              "</style>\n",
              "<table border=\"1\" class=\"dataframe\">\n",
              "  <thead>\n",
              "    <tr style=\"text-align: right;\">\n",
              "      <th></th>\n",
              "      <th>rsid</th>\n",
              "      <th>VEP Annotation</th>\n",
              "    </tr>\n",
              "  </thead>\n",
              "  <tbody>\n",
              "    <tr>\n",
              "      <th>0</th>\n",
              "      <td>1:2065178:C:A</td>\n",
              "      <td>intron_variant</td>\n",
              "    </tr>\n",
              "    <tr>\n",
              "      <th>1</th>\n",
              "      <td>1:2395269:T:C</td>\n",
              "      <td>intron_variant</td>\n",
              "    </tr>\n",
              "    <tr>\n",
              "      <th>2</th>\n",
              "      <td>1:3126160:A:G</td>\n",
              "      <td>intron_variant</td>\n",
              "    </tr>\n",
              "    <tr>\n",
              "      <th>3</th>\n",
              "      <td>1:3634459:C:A</td>\n",
              "      <td>intron_variant</td>\n",
              "    </tr>\n",
              "    <tr>\n",
              "      <th>4</th>\n",
              "      <td>1:5912533:A:G</td>\n",
              "      <td>intron_variant</td>\n",
              "    </tr>\n",
              "    <tr>\n",
              "      <th>...</th>\n",
              "      <td>...</td>\n",
              "      <td>...</td>\n",
              "    </tr>\n",
              "    <tr>\n",
              "      <th>3023</th>\n",
              "      <td>X:150437045:G:C</td>\n",
              "      <td>intron_variant</td>\n",
              "    </tr>\n",
              "    <tr>\n",
              "      <th>3024</th>\n",
              "      <td>X:150629258:G:A</td>\n",
              "      <td>intron_variant</td>\n",
              "    </tr>\n",
              "    <tr>\n",
              "      <th>3025</th>\n",
              "      <td>X:150731120:G:A</td>\n",
              "      <td>intron_variant</td>\n",
              "    </tr>\n",
              "    <tr>\n",
              "      <th>3026</th>\n",
              "      <td>X:151568610:T:C</td>\n",
              "      <td>intron_variant</td>\n",
              "    </tr>\n",
              "    <tr>\n",
              "      <th>3027</th>\n",
              "      <td>X:152787870:G:A</td>\n",
              "      <td>intron_variant</td>\n",
              "    </tr>\n",
              "  </tbody>\n",
              "</table>\n",
              "<p>3028 rows × 2 columns</p>\n",
              "</div>"
            ],
            "text/plain": [
              "                 rsid  VEP Annotation\n",
              "0       1:2065178:C:A  intron_variant\n",
              "1       1:2395269:T:C  intron_variant\n",
              "2       1:3126160:A:G  intron_variant\n",
              "3       1:3634459:C:A  intron_variant\n",
              "4       1:5912533:A:G  intron_variant\n",
              "...               ...             ...\n",
              "3023  X:150437045:G:C  intron_variant\n",
              "3024  X:150629258:G:A  intron_variant\n",
              "3025  X:150731120:G:A  intron_variant\n",
              "3026  X:151568610:T:C  intron_variant\n",
              "3027  X:152787870:G:A  intron_variant\n",
              "\n",
              "[3028 rows x 2 columns]"
            ]
          },
          "metadata": {},
          "execution_count": 11
        }
      ]
    },
    {
      "cell_type": "markdown",
      "metadata": {
        "id": "X2vzpt1R2UIn"
      },
      "source": [
        "Join VEP and ELGH data."
      ]
    },
    {
      "cell_type": "code",
      "metadata": {
        "id": "rGcYH1OyaUCw"
      },
      "source": [
        "df_el_sampled = df_el_sampled.join(df_vep_lookup.set_index(\"rsid\"),on=\"rsid\")"
      ],
      "execution_count": null,
      "outputs": []
    },
    {
      "cell_type": "code",
      "metadata": {
        "colab": {
          "base_uri": "https://localhost:8080/"
        },
        "id": "hvwYQ2bObXR_",
        "outputId": "e42797f8-0ccb-4833-f196-074433f01255"
      },
      "source": [
        "df_el_sampled.info()"
      ],
      "execution_count": null,
      "outputs": [
        {
          "output_type": "stream",
          "name": "stdout",
          "text": [
            "<class 'pandas.core.frame.DataFrame'>\n",
            "RangeIndex: 5000 entries, 0 to 4999\n",
            "Data columns (total 10 columns):\n",
            " #   Column              Non-Null Count  Dtype  \n",
            "---  ------              --------------  -----  \n",
            " 0   CHR                 5000 non-null   object \n",
            " 1   POS                 5000 non-null   float64\n",
            " 2   rsid                5000 non-null   object \n",
            " 3   Allele1             5000 non-null   object \n",
            " 4   Allele2             5000 non-null   object \n",
            " 5   AC_Allele2          5000 non-null   float64\n",
            " 6   AF.Controls         5000 non-null   float64\n",
            " 7   homN_Allele2_ctrls  5000 non-null   int64  \n",
            " 8   hetN_Allele2_ctrls  5000 non-null   int64  \n",
            " 9   VEP Annotation      3028 non-null   object \n",
            "dtypes: float64(3), int64(2), object(5)\n",
            "memory usage: 390.8+ KB\n"
          ]
        }
      ]
    },
    {
      "cell_type": "markdown",
      "metadata": {
        "id": "VJM3T17-2Zu-"
      },
      "source": [
        "Drop rows with null values."
      ]
    },
    {
      "cell_type": "code",
      "metadata": {
        "id": "3-2ZMD7FbZai"
      },
      "source": [
        "df_el_sampled.dropna(inplace=True)"
      ],
      "execution_count": null,
      "outputs": []
    },
    {
      "cell_type": "code",
      "metadata": {
        "colab": {
          "base_uri": "https://localhost:8080/"
        },
        "id": "4E0yTtp8bj1H",
        "outputId": "9ea3213d-607b-4148-a0a5-0ee140a1a869"
      },
      "source": [
        "df_el_sampled.info()"
      ],
      "execution_count": null,
      "outputs": [
        {
          "output_type": "stream",
          "name": "stdout",
          "text": [
            "<class 'pandas.core.frame.DataFrame'>\n",
            "Int64Index: 3028 entries, 0 to 4998\n",
            "Data columns (total 10 columns):\n",
            " #   Column              Non-Null Count  Dtype  \n",
            "---  ------              --------------  -----  \n",
            " 0   CHR                 3028 non-null   object \n",
            " 1   POS                 3028 non-null   float64\n",
            " 2   rsid                3028 non-null   object \n",
            " 3   Allele1             3028 non-null   object \n",
            " 4   Allele2             3028 non-null   object \n",
            " 5   AC_Allele2          3028 non-null   float64\n",
            " 6   AF.Controls         3028 non-null   float64\n",
            " 7   homN_Allele2_ctrls  3028 non-null   int64  \n",
            " 8   hetN_Allele2_ctrls  3028 non-null   int64  \n",
            " 9   VEP Annotation      3028 non-null   object \n",
            "dtypes: float64(3), int64(2), object(5)\n",
            "memory usage: 260.2+ KB\n"
          ]
        }
      ]
    },
    {
      "cell_type": "markdown",
      "metadata": {
        "id": "vo6qYHMn2eMv"
      },
      "source": [
        "VEP frequencies."
      ]
    },
    {
      "cell_type": "code",
      "metadata": {
        "colab": {
          "base_uri": "https://localhost:8080/"
        },
        "id": "-TvP61CobnOs",
        "outputId": "2548a3ab-1036-4681-aae6-d0f48415ec07"
      },
      "source": [
        "df_el_sampled['VEP Annotation'].value_counts()"
      ],
      "execution_count": null,
      "outputs": [
        {
          "output_type": "execute_result",
          "data": {
            "text/plain": [
              "intron_variant                        2919\n",
              "non_coding_transcript_exon_variant      90\n",
              "5_prime_UTR_variant                     11\n",
              "splice_region_variant                    4\n",
              "stop_gained                              3\n",
              "splice_acceptor_variant                  1\n",
              "Name: VEP Annotation, dtype: int64"
            ]
          },
          "metadata": {},
          "execution_count": 17
        }
      ]
    },
    {
      "cell_type": "markdown",
      "metadata": {
        "id": "cXVEGEC92iz-"
      },
      "source": [
        "Add columns and values and rename columns to make compatible with schema."
      ]
    },
    {
      "cell_type": "code",
      "metadata": {
        "id": "mLSVXD4Bf7i6"
      },
      "source": [
        "df_el_sampled['Allele Count South Asian'] = df_el_sampled['AC_Allele2']"
      ],
      "execution_count": null,
      "outputs": []
    },
    {
      "cell_type": "code",
      "metadata": {
        "id": "MtkvNS3HrryG"
      },
      "source": [
        "df_el_sampled['Allele Number South Asian'] = df_el_sampled['AC_Allele2'] / df_el_sampled['AF.Controls']"
      ],
      "execution_count": null,
      "outputs": []
    },
    {
      "cell_type": "code",
      "metadata": {
        "id": "5YtfDmBRsI9z"
      },
      "source": [
        "df_el_sampled['Homozygote Count South Asian'] = df_el_sampled['homN_Allele2_ctrls']"
      ],
      "execution_count": null,
      "outputs": []
    },
    {
      "cell_type": "code",
      "metadata": {
        "id": "uyWOYAx7sUSi"
      },
      "source": [
        "df_el_sampled[\"Hemizygote Count\"] = 0\n",
        "df_el_sampled[\"Allele Count African/African-American\"] = 0\n",
        "df_el_sampled[\"Allele Number African/African-American\"] = 0\n",
        "df_el_sampled[\"Homozygote Count African/African-American\"] = 0\n",
        "df_el_sampled[\"Hemizygote Count African/African-American\"] = 0\n",
        "df_el_sampled[\"Allele Count Latino/Admixed American\"] = 0\n",
        "df_el_sampled[\"Allele Number Latino/Admixed American\"] = 0\n",
        "df_el_sampled[\"Homozygote Count Latino/Admixed American\"] = 0\n",
        "df_el_sampled[\"Hemizygote Count Latino/Admixed American\"] = 0\n",
        "df_el_sampled[\"Allele Count Ashkenazi Jewish\"] = 0\n",
        "df_el_sampled[\"Allele Number Ashkenazi Jewish\"] = 0\n",
        "df_el_sampled[\"Homozygote Count Ashkenazi Jewish\"] = 0\n",
        "df_el_sampled[\"Hemizygote Count Ashkenazi Jewish\"] = 0\n",
        "df_el_sampled[\"Allele Count East Asian\"] = 0\n",
        "df_el_sampled[\"Allele Number East Asian\"] = 0\n",
        "df_el_sampled[\"Homozygote Count East Asian\"] = 0\n",
        "df_el_sampled[\"Hemizygote Count East Asian\"] = 0\n",
        "df_el_sampled[\"Allele Count European (Finnish)\"] = 0\n",
        "df_el_sampled[\"Allele Number European (Finnish)\"] = 0\n",
        "df_el_sampled[\"Homozygote Count European (Finnish)\"] = 0\n",
        "df_el_sampled[\"Hemizygote Count European (Finnish)\"] = 0\n",
        "df_el_sampled[\"Allele Count European (non-Finnish)\"] = 0\n",
        "df_el_sampled[\"Allele Number European (non-Finnish)\"] = 0\n",
        "df_el_sampled[\"Homozygote Count European (non-Finnish)\"] = 0\n",
        "df_el_sampled[\"Hemizygote Count European (non-Finnish)\"] = 0\n",
        "df_el_sampled[\"Allele Count Other\"] = 0\n",
        "df_el_sampled[\"Allele Number Other\"] = 0\n",
        "df_el_sampled[\"Homozygote Count Other\"] = 0\n",
        "df_el_sampled[\"Hemizygote Count Other\"] = 0\n",
        "df_el_sampled[\"Hemizygote Count South Asian\"] = 0\n",
        "df_el_sampled[\"oe_lof_upper\"] = 0"
      ],
      "execution_count": null,
      "outputs": []
    },
    {
      "cell_type": "code",
      "metadata": {
        "colab": {
          "base_uri": "https://localhost:8080/"
        },
        "id": "xj5ralfgtjJJ",
        "outputId": "b2c1a07e-ffab-41a8-bc33-73323fb17ad0"
      },
      "source": [
        "df_el_sampled.info()"
      ],
      "execution_count": null,
      "outputs": [
        {
          "output_type": "stream",
          "name": "stdout",
          "text": [
            "<class 'pandas.core.frame.DataFrame'>\n",
            "Int64Index: 3028 entries, 0 to 4998\n",
            "Data columns (total 44 columns):\n",
            " #   Column                                     Non-Null Count  Dtype  \n",
            "---  ------                                     --------------  -----  \n",
            " 0   CHR                                        3028 non-null   object \n",
            " 1   POS                                        3028 non-null   float64\n",
            " 2   rsid                                       3028 non-null   object \n",
            " 3   Allele1                                    3028 non-null   object \n",
            " 4   Allele2                                    3028 non-null   object \n",
            " 5   AC_Allele2                                 3028 non-null   float64\n",
            " 6   AF.Controls                                3028 non-null   float64\n",
            " 7   homN_Allele2_ctrls                         3028 non-null   int64  \n",
            " 8   hetN_Allele2_ctrls                         3028 non-null   int64  \n",
            " 9   VEP Annotation                             3028 non-null   object \n",
            " 10  Allele Count South Asian                   3028 non-null   float64\n",
            " 11  Allele Number South Asian                  3028 non-null   float64\n",
            " 12  Homozygote Count South Asian               3028 non-null   int64  \n",
            " 13  Hemizygote Count                           3028 non-null   int64  \n",
            " 14  Allele Count African/African-American      3028 non-null   int64  \n",
            " 15  Allele Number African/African-American     3028 non-null   int64  \n",
            " 16  Homozygote Count African/African-American  3028 non-null   int64  \n",
            " 17  Hemizygote Count African/African-American  3028 non-null   int64  \n",
            " 18  Allele Count Latino/Admixed American       3028 non-null   int64  \n",
            " 19  Allele Number Latino/Admixed American      3028 non-null   int64  \n",
            " 20  Homozygote Count Latino/Admixed American   3028 non-null   int64  \n",
            " 21  Hemizygote Count Latino/Admixed American   3028 non-null   int64  \n",
            " 22  Allele Count Ashkenazi Jewish              3028 non-null   int64  \n",
            " 23  Allele Number Ashkenazi Jewish             3028 non-null   int64  \n",
            " 24  Homozygote Count Ashkenazi Jewish          3028 non-null   int64  \n",
            " 25  Hemizygote Count Ashkenazi Jewish          3028 non-null   int64  \n",
            " 26  Allele Count East Asian                    3028 non-null   int64  \n",
            " 27  Allele Number East Asian                   3028 non-null   int64  \n",
            " 28  Homozygote Count East Asian                3028 non-null   int64  \n",
            " 29  Hemizygote Count East Asian                3028 non-null   int64  \n",
            " 30  Allele Count European (Finnish)            3028 non-null   int64  \n",
            " 31  Allele Number European (Finnish)           3028 non-null   int64  \n",
            " 32  Homozygote Count European (Finnish)        3028 non-null   int64  \n",
            " 33  Hemizygote Count European (Finnish)        3028 non-null   int64  \n",
            " 34  Allele Count European (non-Finnish)        3028 non-null   int64  \n",
            " 35  Allele Number European (non-Finnish)       3028 non-null   int64  \n",
            " 36  Homozygote Count European (non-Finnish)    3028 non-null   int64  \n",
            " 37  Hemizygote Count European (non-Finnish)    3028 non-null   int64  \n",
            " 38  Allele Count Other                         3028 non-null   int64  \n",
            " 39  Allele Number Other                        3028 non-null   int64  \n",
            " 40  Homozygote Count Other                     3028 non-null   int64  \n",
            " 41  Hemizygote Count Other                     3028 non-null   int64  \n",
            " 42  Hemizygote Count South Asian               3028 non-null   int64  \n",
            " 43  oe_lof_upper                               3028 non-null   int64  \n",
            "dtypes: float64(5), int64(34), object(5)\n",
            "memory usage: 1.0+ MB\n"
          ]
        }
      ]
    },
    {
      "cell_type": "code",
      "metadata": {
        "id": "5txlWM52PsWk"
      },
      "source": [
        "df_el_sampled.rename(columns={\"CHR\": \"Chromosome\",\n",
        "                              \"Allele1\": \"Reference\",\n",
        "                              \"Allele2\": \"Alternate\",\n",
        "                              \"AC_Allele2\": \"Allele Count\",\n",
        "                              \"AF.Controls\": \"Allele Frequency\",\n",
        "                              \"homN_Allele2_ctrls\": \"Homozygote Count\"},inplace=True)"
      ],
      "execution_count": null,
      "outputs": []
    },
    {
      "cell_type": "code",
      "metadata": {
        "colab": {
          "base_uri": "https://localhost:8080/"
        },
        "id": "YDdXuLWotkfM",
        "outputId": "b70dff97-d5b8-4fe4-9454-384f04a721fc"
      },
      "source": [
        "df_el_sampled.info()"
      ],
      "execution_count": null,
      "outputs": [
        {
          "output_type": "stream",
          "name": "stdout",
          "text": [
            "<class 'pandas.core.frame.DataFrame'>\n",
            "Int64Index: 3028 entries, 0 to 4998\n",
            "Data columns (total 44 columns):\n",
            " #   Column                                     Non-Null Count  Dtype  \n",
            "---  ------                                     --------------  -----  \n",
            " 0   Chromosome                                 3028 non-null   object \n",
            " 1   POS                                        3028 non-null   float64\n",
            " 2   rsid                                       3028 non-null   object \n",
            " 3   Reference                                  3028 non-null   object \n",
            " 4   Alternate                                  3028 non-null   object \n",
            " 5   Allele Count                               3028 non-null   float64\n",
            " 6   Allele Frequency                           3028 non-null   float64\n",
            " 7   Homozygote Count                           3028 non-null   int64  \n",
            " 8   hetN_Allele2_ctrls                         3028 non-null   int64  \n",
            " 9   VEP Annotation                             3028 non-null   object \n",
            " 10  Allele Count South Asian                   3028 non-null   float64\n",
            " 11  Allele Number South Asian                  3028 non-null   float64\n",
            " 12  Homozygote Count South Asian               3028 non-null   int64  \n",
            " 13  Hemizygote Count                           3028 non-null   int64  \n",
            " 14  Allele Count African/African-American      3028 non-null   int64  \n",
            " 15  Allele Number African/African-American     3028 non-null   int64  \n",
            " 16  Homozygote Count African/African-American  3028 non-null   int64  \n",
            " 17  Hemizygote Count African/African-American  3028 non-null   int64  \n",
            " 18  Allele Count Latino/Admixed American       3028 non-null   int64  \n",
            " 19  Allele Number Latino/Admixed American      3028 non-null   int64  \n",
            " 20  Homozygote Count Latino/Admixed American   3028 non-null   int64  \n",
            " 21  Hemizygote Count Latino/Admixed American   3028 non-null   int64  \n",
            " 22  Allele Count Ashkenazi Jewish              3028 non-null   int64  \n",
            " 23  Allele Number Ashkenazi Jewish             3028 non-null   int64  \n",
            " 24  Homozygote Count Ashkenazi Jewish          3028 non-null   int64  \n",
            " 25  Hemizygote Count Ashkenazi Jewish          3028 non-null   int64  \n",
            " 26  Allele Count East Asian                    3028 non-null   int64  \n",
            " 27  Allele Number East Asian                   3028 non-null   int64  \n",
            " 28  Homozygote Count East Asian                3028 non-null   int64  \n",
            " 29  Hemizygote Count East Asian                3028 non-null   int64  \n",
            " 30  Allele Count European (Finnish)            3028 non-null   int64  \n",
            " 31  Allele Number European (Finnish)           3028 non-null   int64  \n",
            " 32  Homozygote Count European (Finnish)        3028 non-null   int64  \n",
            " 33  Hemizygote Count European (Finnish)        3028 non-null   int64  \n",
            " 34  Allele Count European (non-Finnish)        3028 non-null   int64  \n",
            " 35  Allele Number European (non-Finnish)       3028 non-null   int64  \n",
            " 36  Homozygote Count European (non-Finnish)    3028 non-null   int64  \n",
            " 37  Hemizygote Count European (non-Finnish)    3028 non-null   int64  \n",
            " 38  Allele Count Other                         3028 non-null   int64  \n",
            " 39  Allele Number Other                        3028 non-null   int64  \n",
            " 40  Homozygote Count Other                     3028 non-null   int64  \n",
            " 41  Hemizygote Count Other                     3028 non-null   int64  \n",
            " 42  Hemizygote Count South Asian               3028 non-null   int64  \n",
            " 43  oe_lof_upper                               3028 non-null   int64  \n",
            "dtypes: float64(5), int64(34), object(5)\n",
            "memory usage: 1.0+ MB\n"
          ]
        }
      ]
    },
    {
      "cell_type": "markdown",
      "metadata": {
        "id": "wX1lsGej2xQH"
      },
      "source": [
        "Drop columns"
      ]
    },
    {
      "cell_type": "code",
      "metadata": {
        "id": "REmjacI2QLEM"
      },
      "source": [
        "drop_list2 = ['rsid','hetN_Allele2_ctrls','POS']\n",
        "df_el_sampled.drop(drop_list2,axis=1,inplace=True)"
      ],
      "execution_count": null,
      "outputs": []
    },
    {
      "cell_type": "code",
      "metadata": {
        "colab": {
          "base_uri": "https://localhost:8080/"
        },
        "id": "0lpWJXr5Q5Xk",
        "outputId": "7baf33ed-f0e1-4089-fea1-55b2cdb59e6a"
      },
      "source": [
        "df_el_sampled.info()"
      ],
      "execution_count": null,
      "outputs": [
        {
          "output_type": "stream",
          "name": "stdout",
          "text": [
            "<class 'pandas.core.frame.DataFrame'>\n",
            "Int64Index: 3028 entries, 0 to 4998\n",
            "Data columns (total 41 columns):\n",
            " #   Column                                     Non-Null Count  Dtype  \n",
            "---  ------                                     --------------  -----  \n",
            " 0   Chromosome                                 3028 non-null   object \n",
            " 1   Reference                                  3028 non-null   object \n",
            " 2   Alternate                                  3028 non-null   object \n",
            " 3   Allele Count                               3028 non-null   float64\n",
            " 4   Allele Frequency                           3028 non-null   float64\n",
            " 5   Homozygote Count                           3028 non-null   int64  \n",
            " 6   VEP Annotation                             3028 non-null   object \n",
            " 7   Allele Count South Asian                   3028 non-null   float64\n",
            " 8   Allele Number South Asian                  3028 non-null   float64\n",
            " 9   Homozygote Count South Asian               3028 non-null   int64  \n",
            " 10  Hemizygote Count                           3028 non-null   int64  \n",
            " 11  Allele Count African/African-American      3028 non-null   int64  \n",
            " 12  Allele Number African/African-American     3028 non-null   int64  \n",
            " 13  Homozygote Count African/African-American  3028 non-null   int64  \n",
            " 14  Hemizygote Count African/African-American  3028 non-null   int64  \n",
            " 15  Allele Count Latino/Admixed American       3028 non-null   int64  \n",
            " 16  Allele Number Latino/Admixed American      3028 non-null   int64  \n",
            " 17  Homozygote Count Latino/Admixed American   3028 non-null   int64  \n",
            " 18  Hemizygote Count Latino/Admixed American   3028 non-null   int64  \n",
            " 19  Allele Count Ashkenazi Jewish              3028 non-null   int64  \n",
            " 20  Allele Number Ashkenazi Jewish             3028 non-null   int64  \n",
            " 21  Homozygote Count Ashkenazi Jewish          3028 non-null   int64  \n",
            " 22  Hemizygote Count Ashkenazi Jewish          3028 non-null   int64  \n",
            " 23  Allele Count East Asian                    3028 non-null   int64  \n",
            " 24  Allele Number East Asian                   3028 non-null   int64  \n",
            " 25  Homozygote Count East Asian                3028 non-null   int64  \n",
            " 26  Hemizygote Count East Asian                3028 non-null   int64  \n",
            " 27  Allele Count European (Finnish)            3028 non-null   int64  \n",
            " 28  Allele Number European (Finnish)           3028 non-null   int64  \n",
            " 29  Homozygote Count European (Finnish)        3028 non-null   int64  \n",
            " 30  Hemizygote Count European (Finnish)        3028 non-null   int64  \n",
            " 31  Allele Count European (non-Finnish)        3028 non-null   int64  \n",
            " 32  Allele Number European (non-Finnish)       3028 non-null   int64  \n",
            " 33  Homozygote Count European (non-Finnish)    3028 non-null   int64  \n",
            " 34  Hemizygote Count European (non-Finnish)    3028 non-null   int64  \n",
            " 35  Allele Count Other                         3028 non-null   int64  \n",
            " 36  Allele Number Other                        3028 non-null   int64  \n",
            " 37  Homozygote Count Other                     3028 non-null   int64  \n",
            " 38  Hemizygote Count Other                     3028 non-null   int64  \n",
            " 39  Hemizygote Count South Asian               3028 non-null   int64  \n",
            " 40  oe_lof_upper                               3028 non-null   int64  \n",
            "dtypes: float64(4), int64(33), object(4)\n",
            "memory usage: 993.6+ KB\n"
          ]
        }
      ]
    },
    {
      "cell_type": "markdown",
      "metadata": {
        "id": "OXzu2HbF20yL"
      },
      "source": [
        "Set clinical significane as benign"
      ]
    },
    {
      "cell_type": "code",
      "metadata": {
        "id": "BDwRnceDUtov"
      },
      "source": [
        "df_el_sampled['ClinVar Clinical Significance'] = \"Benign\""
      ],
      "execution_count": null,
      "outputs": []
    },
    {
      "cell_type": "code",
      "metadata": {
        "id": "x-9VDaKwQ7Uu"
      },
      "source": [
        "df_el_sampled = df_el_sampled[[\"Chromosome\",\"Reference\",\"Alternate\",\"VEP Annotation\",\n",
        "                               \"ClinVar Clinical Significance\",\n",
        "                               \"Allele Count\",\"Allele Frequency\",\"Homozygote Count\",\n",
        "                               \"Hemizygote Count\",\"Allele Count African/African-American\",\n",
        "                               \"Allele Number African/African-American\",\n",
        "                               \"Homozygote Count African/African-American\",\n",
        "                               \"Hemizygote Count African/African-American\",\n",
        "                               \"Allele Count Latino/Admixed American\",\n",
        "                               \"Allele Number Latino/Admixed American\",\n",
        "                               \"Homozygote Count Latino/Admixed American\",\n",
        "                               \"Hemizygote Count Latino/Admixed American\",\n",
        "                               \"Allele Count Ashkenazi Jewish\",\"Allele Number Ashkenazi Jewish\",\n",
        "                               \"Homozygote Count Ashkenazi Jewish\",\n",
        "                               \"Hemizygote Count Ashkenazi Jewish\",\"Allele Count East Asian\",\n",
        "                               \"Allele Number East Asian\",\"Homozygote Count East Asian\",\n",
        "                               \"Hemizygote Count East Asian\",\"Allele Count European (Finnish)\",\n",
        "                               \"Allele Number European (Finnish)\",\"Homozygote Count European (Finnish)\",\n",
        "                               \"Hemizygote Count European (Finnish)\",\"Allele Count European (non-Finnish)\",\n",
        "                               \"Allele Number European (non-Finnish)\",\n",
        "                               \"Homozygote Count European (non-Finnish)\",\n",
        "                               \"Hemizygote Count European (non-Finnish)\",\n",
        "                               \"Allele Count Other\",\"Allele Number Other\",\n",
        "                               \"Homozygote Count Other\",\"Hemizygote Count Other\",\"Allele Count South Asian\",\n",
        "                               \"Allele Number South Asian\",\"Homozygote Count South Asian\",\n",
        "                               \"Hemizygote Count South Asian\",\"oe_lof_upper\"]]"
      ],
      "execution_count": null,
      "outputs": []
    },
    {
      "cell_type": "code",
      "metadata": {
        "colab": {
          "base_uri": "https://localhost:8080/"
        },
        "id": "gFomXMtRTahD",
        "outputId": "3a86d1e3-cc5f-41a2-f1f2-42c18756a374"
      },
      "source": [
        "df_el_sampled.info()"
      ],
      "execution_count": null,
      "outputs": [
        {
          "output_type": "stream",
          "name": "stdout",
          "text": [
            "<class 'pandas.core.frame.DataFrame'>\n",
            "Int64Index: 3028 entries, 0 to 4998\n",
            "Data columns (total 42 columns):\n",
            " #   Column                                     Non-Null Count  Dtype  \n",
            "---  ------                                     --------------  -----  \n",
            " 0   Chromosome                                 3028 non-null   object \n",
            " 1   Reference                                  3028 non-null   object \n",
            " 2   Alternate                                  3028 non-null   object \n",
            " 3   VEP Annotation                             3028 non-null   object \n",
            " 4   ClinVar Clinical Significance              3028 non-null   object \n",
            " 5   Allele Count                               3028 non-null   float64\n",
            " 6   Allele Frequency                           3028 non-null   float64\n",
            " 7   Homozygote Count                           3028 non-null   int64  \n",
            " 8   Hemizygote Count                           3028 non-null   int64  \n",
            " 9   Allele Count African/African-American      3028 non-null   int64  \n",
            " 10  Allele Number African/African-American     3028 non-null   int64  \n",
            " 11  Homozygote Count African/African-American  3028 non-null   int64  \n",
            " 12  Hemizygote Count African/African-American  3028 non-null   int64  \n",
            " 13  Allele Count Latino/Admixed American       3028 non-null   int64  \n",
            " 14  Allele Number Latino/Admixed American      3028 non-null   int64  \n",
            " 15  Homozygote Count Latino/Admixed American   3028 non-null   int64  \n",
            " 16  Hemizygote Count Latino/Admixed American   3028 non-null   int64  \n",
            " 17  Allele Count Ashkenazi Jewish              3028 non-null   int64  \n",
            " 18  Allele Number Ashkenazi Jewish             3028 non-null   int64  \n",
            " 19  Homozygote Count Ashkenazi Jewish          3028 non-null   int64  \n",
            " 20  Hemizygote Count Ashkenazi Jewish          3028 non-null   int64  \n",
            " 21  Allele Count East Asian                    3028 non-null   int64  \n",
            " 22  Allele Number East Asian                   3028 non-null   int64  \n",
            " 23  Homozygote Count East Asian                3028 non-null   int64  \n",
            " 24  Hemizygote Count East Asian                3028 non-null   int64  \n",
            " 25  Allele Count European (Finnish)            3028 non-null   int64  \n",
            " 26  Allele Number European (Finnish)           3028 non-null   int64  \n",
            " 27  Homozygote Count European (Finnish)        3028 non-null   int64  \n",
            " 28  Hemizygote Count European (Finnish)        3028 non-null   int64  \n",
            " 29  Allele Count European (non-Finnish)        3028 non-null   int64  \n",
            " 30  Allele Number European (non-Finnish)       3028 non-null   int64  \n",
            " 31  Homozygote Count European (non-Finnish)    3028 non-null   int64  \n",
            " 32  Hemizygote Count European (non-Finnish)    3028 non-null   int64  \n",
            " 33  Allele Count Other                         3028 non-null   int64  \n",
            " 34  Allele Number Other                        3028 non-null   int64  \n",
            " 35  Homozygote Count Other                     3028 non-null   int64  \n",
            " 36  Hemizygote Count Other                     3028 non-null   int64  \n",
            " 37  Allele Count South Asian                   3028 non-null   float64\n",
            " 38  Allele Number South Asian                  3028 non-null   float64\n",
            " 39  Homozygote Count South Asian               3028 non-null   int64  \n",
            " 40  Hemizygote Count South Asian               3028 non-null   int64  \n",
            " 41  oe_lof_upper                               3028 non-null   int64  \n",
            "dtypes: float64(4), int64(33), object(5)\n",
            "memory usage: 1017.2+ KB\n"
          ]
        }
      ]
    },
    {
      "cell_type": "markdown",
      "metadata": {
        "id": "8eujZIjZ27w5"
      },
      "source": [
        "Load part 1 output"
      ]
    },
    {
      "cell_type": "code",
      "metadata": {
        "id": "fBGJeVdVVXdE"
      },
      "source": [
        "df_gnomad = pd.read_csv(\"/content/drive/MyDrive/MSc-project-lof/gnomad_lof_data_with LOEUF CADD.csv\")"
      ],
      "execution_count": null,
      "outputs": []
    },
    {
      "cell_type": "code",
      "metadata": {
        "colab": {
          "base_uri": "https://localhost:8080/",
          "height": 626
        },
        "id": "eGi2wzrD2Tc3",
        "outputId": "f0ad269e-fe5d-44d4-caae-a4885d2bbbb5"
      },
      "source": [
        "df_gnomad"
      ],
      "execution_count": null,
      "outputs": [
        {
          "output_type": "execute_result",
          "data": {
            "text/html": [
              "<div>\n",
              "<style scoped>\n",
              "    .dataframe tbody tr th:only-of-type {\n",
              "        vertical-align: middle;\n",
              "    }\n",
              "\n",
              "    .dataframe tbody tr th {\n",
              "        vertical-align: top;\n",
              "    }\n",
              "\n",
              "    .dataframe thead th {\n",
              "        text-align: right;\n",
              "    }\n",
              "</style>\n",
              "<table border=\"1\" class=\"dataframe\">\n",
              "  <thead>\n",
              "    <tr style=\"text-align: right;\">\n",
              "      <th></th>\n",
              "      <th>Chromosome</th>\n",
              "      <th>Position</th>\n",
              "      <th>rsIDs</th>\n",
              "      <th>Reference</th>\n",
              "      <th>Alternate</th>\n",
              "      <th>Source</th>\n",
              "      <th>Transcript</th>\n",
              "      <th>HGVS Consequence</th>\n",
              "      <th>Protein Consequence</th>\n",
              "      <th>Transcript Consequence</th>\n",
              "      <th>VEP Annotation</th>\n",
              "      <th>ClinVar Clinical Significance</th>\n",
              "      <th>Allele Count</th>\n",
              "      <th>Allele Number</th>\n",
              "      <th>Allele Frequency</th>\n",
              "      <th>Homozygote Count</th>\n",
              "      <th>Hemizygote Count</th>\n",
              "      <th>Allele Count African/African-American</th>\n",
              "      <th>Allele Number African/African-American</th>\n",
              "      <th>Homozygote Count African/African-American</th>\n",
              "      <th>Hemizygote Count African/African-American</th>\n",
              "      <th>Allele Count Latino/Admixed American</th>\n",
              "      <th>Allele Number Latino/Admixed American</th>\n",
              "      <th>Homozygote Count Latino/Admixed American</th>\n",
              "      <th>Hemizygote Count Latino/Admixed American</th>\n",
              "      <th>Allele Count Ashkenazi Jewish</th>\n",
              "      <th>Allele Number Ashkenazi Jewish</th>\n",
              "      <th>Homozygote Count Ashkenazi Jewish</th>\n",
              "      <th>Hemizygote Count Ashkenazi Jewish</th>\n",
              "      <th>Allele Count East Asian</th>\n",
              "      <th>Allele Number East Asian</th>\n",
              "      <th>Homozygote Count East Asian</th>\n",
              "      <th>Hemizygote Count East Asian</th>\n",
              "      <th>Allele Count European (Finnish)</th>\n",
              "      <th>Allele Number European (Finnish)</th>\n",
              "      <th>Homozygote Count European (Finnish)</th>\n",
              "      <th>Hemizygote Count European (Finnish)</th>\n",
              "      <th>Allele Count European (non-Finnish)</th>\n",
              "      <th>Allele Number European (non-Finnish)</th>\n",
              "      <th>Homozygote Count European (non-Finnish)</th>\n",
              "      <th>Hemizygote Count European (non-Finnish)</th>\n",
              "      <th>Allele Count Other</th>\n",
              "      <th>Allele Number Other</th>\n",
              "      <th>Homozygote Count Other</th>\n",
              "      <th>Hemizygote Count Other</th>\n",
              "      <th>Allele Count South Asian</th>\n",
              "      <th>Allele Number South Asian</th>\n",
              "      <th>Homozygote Count South Asian</th>\n",
              "      <th>Hemizygote Count South Asian</th>\n",
              "      <th>Transcript_j</th>\n",
              "      <th>oe_lof_upper</th>\n",
              "      <th>PHRED</th>\n",
              "    </tr>\n",
              "  </thead>\n",
              "  <tbody>\n",
              "    <tr>\n",
              "      <th>0</th>\n",
              "      <td>17</td>\n",
              "      <td>56348226</td>\n",
              "      <td>rs35897051</td>\n",
              "      <td>T</td>\n",
              "      <td>G</td>\n",
              "      <td>gnomAD Exomes,gnomAD Genomes</td>\n",
              "      <td>ENST00000225275.3</td>\n",
              "      <td>c.2031-2A&gt;C</td>\n",
              "      <td>NaN</td>\n",
              "      <td>c.2031-2A&gt;C</td>\n",
              "      <td>splice_acceptor_variant</td>\n",
              "      <td>Pathogenic/Likely pathogenic</td>\n",
              "      <td>1260</td>\n",
              "      <td>282532</td>\n",
              "      <td>0.004460</td>\n",
              "      <td>2</td>\n",
              "      <td>0</td>\n",
              "      <td>24</td>\n",
              "      <td>24940</td>\n",
              "      <td>0</td>\n",
              "      <td>0</td>\n",
              "      <td>106</td>\n",
              "      <td>35436</td>\n",
              "      <td>0</td>\n",
              "      <td>0</td>\n",
              "      <td>130</td>\n",
              "      <td>10360</td>\n",
              "      <td>0</td>\n",
              "      <td>0</td>\n",
              "      <td>1</td>\n",
              "      <td>19952</td>\n",
              "      <td>0</td>\n",
              "      <td>0</td>\n",
              "      <td>42</td>\n",
              "      <td>25116</td>\n",
              "      <td>0</td>\n",
              "      <td>0</td>\n",
              "      <td>936</td>\n",
              "      <td>128900</td>\n",
              "      <td>2</td>\n",
              "      <td>0</td>\n",
              "      <td>18</td>\n",
              "      <td>7212</td>\n",
              "      <td>0</td>\n",
              "      <td>0</td>\n",
              "      <td>3</td>\n",
              "      <td>30616</td>\n",
              "      <td>0</td>\n",
              "      <td>0</td>\n",
              "      <td>ENST00000225275</td>\n",
              "      <td>1.145</td>\n",
              "      <td>NaN</td>\n",
              "    </tr>\n",
              "    <tr>\n",
              "      <th>1</th>\n",
              "      <td>17</td>\n",
              "      <td>56350827</td>\n",
              "      <td>rs963955387</td>\n",
              "      <td>GGGGTTGGGTTCCAT</td>\n",
              "      <td>G</td>\n",
              "      <td>gnomAD Exomes,gnomAD Genomes</td>\n",
              "      <td>ENST00000225275.3</td>\n",
              "      <td>p.Met519ProfsTer21</td>\n",
              "      <td>p.Met519ProfsTer21</td>\n",
              "      <td>c.1555_1568delATGGAACCCAACCC</td>\n",
              "      <td>frameshift_variant</td>\n",
              "      <td>Pathogenic/Likely pathogenic</td>\n",
              "      <td>221</td>\n",
              "      <td>282874</td>\n",
              "      <td>0.000781</td>\n",
              "      <td>0</td>\n",
              "      <td>0</td>\n",
              "      <td>4</td>\n",
              "      <td>24964</td>\n",
              "      <td>0</td>\n",
              "      <td>0</td>\n",
              "      <td>13</td>\n",
              "      <td>35440</td>\n",
              "      <td>0</td>\n",
              "      <td>0</td>\n",
              "      <td>11</td>\n",
              "      <td>10370</td>\n",
              "      <td>0</td>\n",
              "      <td>0</td>\n",
              "      <td>0</td>\n",
              "      <td>19954</td>\n",
              "      <td>0</td>\n",
              "      <td>0</td>\n",
              "      <td>0</td>\n",
              "      <td>25124</td>\n",
              "      <td>0</td>\n",
              "      <td>0</td>\n",
              "      <td>189</td>\n",
              "      <td>129180</td>\n",
              "      <td>0</td>\n",
              "      <td>0</td>\n",
              "      <td>4</td>\n",
              "      <td>7226</td>\n",
              "      <td>0</td>\n",
              "      <td>0</td>\n",
              "      <td>0</td>\n",
              "      <td>30616</td>\n",
              "      <td>0</td>\n",
              "      <td>0</td>\n",
              "      <td>ENST00000225275</td>\n",
              "      <td>1.145</td>\n",
              "      <td>NaN</td>\n",
              "    </tr>\n",
              "    <tr>\n",
              "      <th>2</th>\n",
              "      <td>17</td>\n",
              "      <td>56352986</td>\n",
              "      <td>rs762933005</td>\n",
              "      <td>TG</td>\n",
              "      <td>T</td>\n",
              "      <td>gnomAD Exomes</td>\n",
              "      <td>ENST00000225275.3</td>\n",
              "      <td>p.Thr428GlnfsTer6</td>\n",
              "      <td>p.Thr428GlnfsTer6</td>\n",
              "      <td>c.1281delC</td>\n",
              "      <td>frameshift_variant</td>\n",
              "      <td>Likely pathogenic</td>\n",
              "      <td>3</td>\n",
              "      <td>251426</td>\n",
              "      <td>0.000012</td>\n",
              "      <td>0</td>\n",
              "      <td>0</td>\n",
              "      <td>0</td>\n",
              "      <td>16252</td>\n",
              "      <td>0</td>\n",
              "      <td>0</td>\n",
              "      <td>0</td>\n",
              "      <td>34588</td>\n",
              "      <td>0</td>\n",
              "      <td>0</td>\n",
              "      <td>0</td>\n",
              "      <td>10078</td>\n",
              "      <td>0</td>\n",
              "      <td>0</td>\n",
              "      <td>0</td>\n",
              "      <td>18394</td>\n",
              "      <td>0</td>\n",
              "      <td>0</td>\n",
              "      <td>0</td>\n",
              "      <td>21624</td>\n",
              "      <td>0</td>\n",
              "      <td>0</td>\n",
              "      <td>3</td>\n",
              "      <td>113738</td>\n",
              "      <td>0</td>\n",
              "      <td>0</td>\n",
              "      <td>0</td>\n",
              "      <td>6136</td>\n",
              "      <td>0</td>\n",
              "      <td>0</td>\n",
              "      <td>0</td>\n",
              "      <td>30616</td>\n",
              "      <td>0</td>\n",
              "      <td>0</td>\n",
              "      <td>ENST00000225275</td>\n",
              "      <td>1.145</td>\n",
              "      <td>NaN</td>\n",
              "    </tr>\n",
              "    <tr>\n",
              "      <th>3</th>\n",
              "      <td>17</td>\n",
              "      <td>56356732</td>\n",
              "      <td>rs778013714</td>\n",
              "      <td>C</td>\n",
              "      <td>A</td>\n",
              "      <td>gnomAD Exomes,gnomAD Genomes</td>\n",
              "      <td>ENST00000225275.3</td>\n",
              "      <td>p.Glu202Ter</td>\n",
              "      <td>p.Glu202Ter</td>\n",
              "      <td>c.604G&gt;T</td>\n",
              "      <td>stop_gained</td>\n",
              "      <td>Likely pathogenic</td>\n",
              "      <td>32</td>\n",
              "      <td>246626</td>\n",
              "      <td>0.000130</td>\n",
              "      <td>0</td>\n",
              "      <td>0</td>\n",
              "      <td>0</td>\n",
              "      <td>21330</td>\n",
              "      <td>0</td>\n",
              "      <td>0</td>\n",
              "      <td>0</td>\n",
              "      <td>31998</td>\n",
              "      <td>0</td>\n",
              "      <td>0</td>\n",
              "      <td>0</td>\n",
              "      <td>9570</td>\n",
              "      <td>0</td>\n",
              "      <td>0</td>\n",
              "      <td>1</td>\n",
              "      <td>17686</td>\n",
              "      <td>0</td>\n",
              "      <td>0</td>\n",
              "      <td>0</td>\n",
              "      <td>21656</td>\n",
              "      <td>0</td>\n",
              "      <td>0</td>\n",
              "      <td>31</td>\n",
              "      <td>110052</td>\n",
              "      <td>0</td>\n",
              "      <td>0</td>\n",
              "      <td>0</td>\n",
              "      <td>6406</td>\n",
              "      <td>0</td>\n",
              "      <td>0</td>\n",
              "      <td>0</td>\n",
              "      <td>27928</td>\n",
              "      <td>0</td>\n",
              "      <td>0</td>\n",
              "      <td>ENST00000225275</td>\n",
              "      <td>1.145</td>\n",
              "      <td>NaN</td>\n",
              "    </tr>\n",
              "    <tr>\n",
              "      <th>4</th>\n",
              "      <td>17</td>\n",
              "      <td>48156838</td>\n",
              "      <td>rs200810866</td>\n",
              "      <td>C</td>\n",
              "      <td>T</td>\n",
              "      <td>gnomAD Exomes</td>\n",
              "      <td>ENST00000007722.7</td>\n",
              "      <td>p.Arg875Ter</td>\n",
              "      <td>p.Arg875Ter</td>\n",
              "      <td>c.2623C&gt;T</td>\n",
              "      <td>stop_gained</td>\n",
              "      <td>Likely pathogenic</td>\n",
              "      <td>3</td>\n",
              "      <td>215956</td>\n",
              "      <td>0.000014</td>\n",
              "      <td>0</td>\n",
              "      <td>0</td>\n",
              "      <td>1</td>\n",
              "      <td>15578</td>\n",
              "      <td>0</td>\n",
              "      <td>0</td>\n",
              "      <td>0</td>\n",
              "      <td>27554</td>\n",
              "      <td>0</td>\n",
              "      <td>0</td>\n",
              "      <td>0</td>\n",
              "      <td>7154</td>\n",
              "      <td>0</td>\n",
              "      <td>0</td>\n",
              "      <td>0</td>\n",
              "      <td>16708</td>\n",
              "      <td>0</td>\n",
              "      <td>0</td>\n",
              "      <td>0</td>\n",
              "      <td>19838</td>\n",
              "      <td>0</td>\n",
              "      <td>0</td>\n",
              "      <td>2</td>\n",
              "      <td>98612</td>\n",
              "      <td>0</td>\n",
              "      <td>0</td>\n",
              "      <td>0</td>\n",
              "      <td>5136</td>\n",
              "      <td>0</td>\n",
              "      <td>0</td>\n",
              "      <td>0</td>\n",
              "      <td>25376</td>\n",
              "      <td>0</td>\n",
              "      <td>0</td>\n",
              "      <td>ENST00000007722</td>\n",
              "      <td>0.534</td>\n",
              "      <td>NaN</td>\n",
              "    </tr>\n",
              "    <tr>\n",
              "      <th>...</th>\n",
              "      <td>...</td>\n",
              "      <td>...</td>\n",
              "      <td>...</td>\n",
              "      <td>...</td>\n",
              "      <td>...</td>\n",
              "      <td>...</td>\n",
              "      <td>...</td>\n",
              "      <td>...</td>\n",
              "      <td>...</td>\n",
              "      <td>...</td>\n",
              "      <td>...</td>\n",
              "      <td>...</td>\n",
              "      <td>...</td>\n",
              "      <td>...</td>\n",
              "      <td>...</td>\n",
              "      <td>...</td>\n",
              "      <td>...</td>\n",
              "      <td>...</td>\n",
              "      <td>...</td>\n",
              "      <td>...</td>\n",
              "      <td>...</td>\n",
              "      <td>...</td>\n",
              "      <td>...</td>\n",
              "      <td>...</td>\n",
              "      <td>...</td>\n",
              "      <td>...</td>\n",
              "      <td>...</td>\n",
              "      <td>...</td>\n",
              "      <td>...</td>\n",
              "      <td>...</td>\n",
              "      <td>...</td>\n",
              "      <td>...</td>\n",
              "      <td>...</td>\n",
              "      <td>...</td>\n",
              "      <td>...</td>\n",
              "      <td>...</td>\n",
              "      <td>...</td>\n",
              "      <td>...</td>\n",
              "      <td>...</td>\n",
              "      <td>...</td>\n",
              "      <td>...</td>\n",
              "      <td>...</td>\n",
              "      <td>...</td>\n",
              "      <td>...</td>\n",
              "      <td>...</td>\n",
              "      <td>...</td>\n",
              "      <td>...</td>\n",
              "      <td>...</td>\n",
              "      <td>...</td>\n",
              "      <td>...</td>\n",
              "      <td>...</td>\n",
              "      <td>...</td>\n",
              "    </tr>\n",
              "    <tr>\n",
              "      <th>2015</th>\n",
              "      <td>6</td>\n",
              "      <td>32803059</td>\n",
              "      <td>rs61736923</td>\n",
              "      <td>G</td>\n",
              "      <td>A</td>\n",
              "      <td>gnomAD Exomes</td>\n",
              "      <td>ENST00000452392.2</td>\n",
              "      <td>p.Arg273Ter</td>\n",
              "      <td>p.Arg273Ter</td>\n",
              "      <td>c.817C&gt;T</td>\n",
              "      <td>stop_gained</td>\n",
              "      <td>Pathogenic</td>\n",
              "      <td>1</td>\n",
              "      <td>246732</td>\n",
              "      <td>0.000004</td>\n",
              "      <td>0</td>\n",
              "      <td>0</td>\n",
              "      <td>0</td>\n",
              "      <td>15150</td>\n",
              "      <td>0</td>\n",
              "      <td>0</td>\n",
              "      <td>1</td>\n",
              "      <td>34480</td>\n",
              "      <td>0</td>\n",
              "      <td>0</td>\n",
              "      <td>0</td>\n",
              "      <td>9974</td>\n",
              "      <td>0</td>\n",
              "      <td>0</td>\n",
              "      <td>0</td>\n",
              "      <td>18274</td>\n",
              "      <td>0</td>\n",
              "      <td>0</td>\n",
              "      <td>0</td>\n",
              "      <td>21636</td>\n",
              "      <td>0</td>\n",
              "      <td>0</td>\n",
              "      <td>0</td>\n",
              "      <td>110762</td>\n",
              "      <td>0</td>\n",
              "      <td>0</td>\n",
              "      <td>0</td>\n",
              "      <td>6078</td>\n",
              "      <td>0</td>\n",
              "      <td>0</td>\n",
              "      <td>0</td>\n",
              "      <td>30378</td>\n",
              "      <td>0</td>\n",
              "      <td>0</td>\n",
              "      <td>ENST00000452392</td>\n",
              "      <td>0.806</td>\n",
              "      <td>NaN</td>\n",
              "    </tr>\n",
              "    <tr>\n",
              "      <th>2016</th>\n",
              "      <td>6</td>\n",
              "      <td>32805792</td>\n",
              "      <td>rs1321880935</td>\n",
              "      <td>GGT</td>\n",
              "      <td>G</td>\n",
              "      <td>gnomAD Exomes</td>\n",
              "      <td>ENST00000452392.2</td>\n",
              "      <td>p.Thr73ProfsTer93</td>\n",
              "      <td>p.Thr73ProfsTer93</td>\n",
              "      <td>c.217_218delAC</td>\n",
              "      <td>frameshift_variant</td>\n",
              "      <td>Likely pathogenic</td>\n",
              "      <td>1</td>\n",
              "      <td>246008</td>\n",
              "      <td>0.000004</td>\n",
              "      <td>0</td>\n",
              "      <td>0</td>\n",
              "      <td>0</td>\n",
              "      <td>15066</td>\n",
              "      <td>0</td>\n",
              "      <td>0</td>\n",
              "      <td>0</td>\n",
              "      <td>34478</td>\n",
              "      <td>0</td>\n",
              "      <td>0</td>\n",
              "      <td>0</td>\n",
              "      <td>9946</td>\n",
              "      <td>0</td>\n",
              "      <td>0</td>\n",
              "      <td>0</td>\n",
              "      <td>18270</td>\n",
              "      <td>0</td>\n",
              "      <td>0</td>\n",
              "      <td>0</td>\n",
              "      <td>21594</td>\n",
              "      <td>0</td>\n",
              "      <td>0</td>\n",
              "      <td>1</td>\n",
              "      <td>110218</td>\n",
              "      <td>0</td>\n",
              "      <td>0</td>\n",
              "      <td>0</td>\n",
              "      <td>6058</td>\n",
              "      <td>0</td>\n",
              "      <td>0</td>\n",
              "      <td>0</td>\n",
              "      <td>30378</td>\n",
              "      <td>0</td>\n",
              "      <td>0</td>\n",
              "      <td>ENST00000452392</td>\n",
              "      <td>0.806</td>\n",
              "      <td>NaN</td>\n",
              "    </tr>\n",
              "    <tr>\n",
              "      <th>2017</th>\n",
              "      <td>16</td>\n",
              "      <td>89986560</td>\n",
              "      <td>rs143395134</td>\n",
              "      <td>C</td>\n",
              "      <td>G</td>\n",
              "      <td>gnomAD Exomes</td>\n",
              "      <td>ENST00000555147.1</td>\n",
              "      <td>p.Tyr298Ter</td>\n",
              "      <td>p.Tyr298Ter</td>\n",
              "      <td>c.894C&gt;G</td>\n",
              "      <td>stop_gained</td>\n",
              "      <td>Likely pathogenic</td>\n",
              "      <td>2</td>\n",
              "      <td>249030</td>\n",
              "      <td>0.000008</td>\n",
              "      <td>0</td>\n",
              "      <td>0</td>\n",
              "      <td>0</td>\n",
              "      <td>15436</td>\n",
              "      <td>0</td>\n",
              "      <td>0</td>\n",
              "      <td>0</td>\n",
              "      <td>34522</td>\n",
              "      <td>0</td>\n",
              "      <td>0</td>\n",
              "      <td>0</td>\n",
              "      <td>10052</td>\n",
              "      <td>0</td>\n",
              "      <td>0</td>\n",
              "      <td>0</td>\n",
              "      <td>17970</td>\n",
              "      <td>0</td>\n",
              "      <td>0</td>\n",
              "      <td>0</td>\n",
              "      <td>21546</td>\n",
              "      <td>0</td>\n",
              "      <td>0</td>\n",
              "      <td>0</td>\n",
              "      <td>112854</td>\n",
              "      <td>0</td>\n",
              "      <td>0</td>\n",
              "      <td>1</td>\n",
              "      <td>6048</td>\n",
              "      <td>0</td>\n",
              "      <td>0</td>\n",
              "      <td>1</td>\n",
              "      <td>30602</td>\n",
              "      <td>0</td>\n",
              "      <td>0</td>\n",
              "      <td>ENST00000555147</td>\n",
              "      <td>1.967</td>\n",
              "      <td>NaN</td>\n",
              "    </tr>\n",
              "    <tr>\n",
              "      <th>2018</th>\n",
              "      <td>1</td>\n",
              "      <td>74716455</td>\n",
              "      <td>rs762721434</td>\n",
              "      <td>T</td>\n",
              "      <td>C</td>\n",
              "      <td>gnomAD Exomes</td>\n",
              "      <td>ENST00000557284.2</td>\n",
              "      <td>c.675+2T&gt;C</td>\n",
              "      <td>NaN</td>\n",
              "      <td>c.675+2T&gt;C</td>\n",
              "      <td>splice_donor_variant</td>\n",
              "      <td>Pathogenic</td>\n",
              "      <td>1</td>\n",
              "      <td>243416</td>\n",
              "      <td>0.000004</td>\n",
              "      <td>0</td>\n",
              "      <td>0</td>\n",
              "      <td>0</td>\n",
              "      <td>15894</td>\n",
              "      <td>0</td>\n",
              "      <td>0</td>\n",
              "      <td>0</td>\n",
              "      <td>32210</td>\n",
              "      <td>0</td>\n",
              "      <td>0</td>\n",
              "      <td>0</td>\n",
              "      <td>9864</td>\n",
              "      <td>0</td>\n",
              "      <td>0</td>\n",
              "      <td>0</td>\n",
              "      <td>17680</td>\n",
              "      <td>0</td>\n",
              "      <td>0</td>\n",
              "      <td>0</td>\n",
              "      <td>21546</td>\n",
              "      <td>0</td>\n",
              "      <td>0</td>\n",
              "      <td>1</td>\n",
              "      <td>111004</td>\n",
              "      <td>0</td>\n",
              "      <td>0</td>\n",
              "      <td>0</td>\n",
              "      <td>5856</td>\n",
              "      <td>0</td>\n",
              "      <td>0</td>\n",
              "      <td>0</td>\n",
              "      <td>29362</td>\n",
              "      <td>0</td>\n",
              "      <td>0</td>\n",
              "      <td>ENST00000557284</td>\n",
              "      <td>1.425</td>\n",
              "      <td>NaN</td>\n",
              "    </tr>\n",
              "    <tr>\n",
              "      <th>2019</th>\n",
              "      <td>6</td>\n",
              "      <td>88144699</td>\n",
              "      <td>rs757041711</td>\n",
              "      <td>C</td>\n",
              "      <td>CA</td>\n",
              "      <td>gnomAD Genomes</td>\n",
              "      <td>ENST00000369562.4</td>\n",
              "      <td>p.Asn477LysfsTer15</td>\n",
              "      <td>p.Asn477LysfsTer15</td>\n",
              "      <td>c.1430dupA</td>\n",
              "      <td>frameshift_variant</td>\n",
              "      <td>Pathogenic</td>\n",
              "      <td>1</td>\n",
              "      <td>30040</td>\n",
              "      <td>0.000033</td>\n",
              "      <td>0</td>\n",
              "      <td>0</td>\n",
              "      <td>0</td>\n",
              "      <td>8514</td>\n",
              "      <td>0</td>\n",
              "      <td>0</td>\n",
              "      <td>0</td>\n",
              "      <td>824</td>\n",
              "      <td>0</td>\n",
              "      <td>0</td>\n",
              "      <td>0</td>\n",
              "      <td>282</td>\n",
              "      <td>0</td>\n",
              "      <td>0</td>\n",
              "      <td>0</td>\n",
              "      <td>1554</td>\n",
              "      <td>0</td>\n",
              "      <td>0</td>\n",
              "      <td>0</td>\n",
              "      <td>3074</td>\n",
              "      <td>0</td>\n",
              "      <td>0</td>\n",
              "      <td>1</td>\n",
              "      <td>14766</td>\n",
              "      <td>0</td>\n",
              "      <td>0</td>\n",
              "      <td>0</td>\n",
              "      <td>1026</td>\n",
              "      <td>0</td>\n",
              "      <td>0</td>\n",
              "      <td>0</td>\n",
              "      <td>0</td>\n",
              "      <td>0</td>\n",
              "      <td>0</td>\n",
              "      <td>ENST00000369562</td>\n",
              "      <td>1.139</td>\n",
              "      <td>NaN</td>\n",
              "    </tr>\n",
              "  </tbody>\n",
              "</table>\n",
              "<p>2020 rows × 52 columns</p>\n",
              "</div>"
            ],
            "text/plain": [
              "     Chromosome  Position         rsIDs  ...     Transcript_j oe_lof_upper PHRED\n",
              "0            17  56348226    rs35897051  ...  ENST00000225275        1.145   NaN\n",
              "1            17  56350827   rs963955387  ...  ENST00000225275        1.145   NaN\n",
              "2            17  56352986   rs762933005  ...  ENST00000225275        1.145   NaN\n",
              "3            17  56356732   rs778013714  ...  ENST00000225275        1.145   NaN\n",
              "4            17  48156838   rs200810866  ...  ENST00000007722        0.534   NaN\n",
              "...         ...       ...           ...  ...              ...          ...   ...\n",
              "2015          6  32803059    rs61736923  ...  ENST00000452392        0.806   NaN\n",
              "2016          6  32805792  rs1321880935  ...  ENST00000452392        0.806   NaN\n",
              "2017         16  89986560   rs143395134  ...  ENST00000555147        1.967   NaN\n",
              "2018          1  74716455   rs762721434  ...  ENST00000557284        1.425   NaN\n",
              "2019          6  88144699   rs757041711  ...  ENST00000369562        1.139   NaN\n",
              "\n",
              "[2020 rows x 52 columns]"
            ]
          },
          "metadata": {},
          "execution_count": 31
        }
      ]
    },
    {
      "cell_type": "markdown",
      "metadata": {
        "id": "sWFx7eX82_1S"
      },
      "source": [
        "Drop unwanted columns"
      ]
    },
    {
      "cell_type": "code",
      "metadata": {
        "colab": {
          "base_uri": "https://localhost:8080/",
          "height": 541
        },
        "id": "3Sxn3mp92aKW",
        "outputId": "885020c7-d308-4480-b34a-2b27510a96ac"
      },
      "source": [
        "drop_list = [\"Position\",\"rsIDs\",\"Source\",\"Transcript\",\"HGVS Consequence\",\"Protein Consequence\",\"Transcript Consequence\",\"Allele Number\",\"Transcript_j\",\"PHRED\"]\n",
        "df_gnomad.drop(drop_list,axis=1,inplace=True)\n",
        "df_gnomad"
      ],
      "execution_count": null,
      "outputs": [
        {
          "output_type": "execute_result",
          "data": {
            "text/html": [
              "<div>\n",
              "<style scoped>\n",
              "    .dataframe tbody tr th:only-of-type {\n",
              "        vertical-align: middle;\n",
              "    }\n",
              "\n",
              "    .dataframe tbody tr th {\n",
              "        vertical-align: top;\n",
              "    }\n",
              "\n",
              "    .dataframe thead th {\n",
              "        text-align: right;\n",
              "    }\n",
              "</style>\n",
              "<table border=\"1\" class=\"dataframe\">\n",
              "  <thead>\n",
              "    <tr style=\"text-align: right;\">\n",
              "      <th></th>\n",
              "      <th>Chromosome</th>\n",
              "      <th>Reference</th>\n",
              "      <th>Alternate</th>\n",
              "      <th>VEP Annotation</th>\n",
              "      <th>ClinVar Clinical Significance</th>\n",
              "      <th>Allele Count</th>\n",
              "      <th>Allele Frequency</th>\n",
              "      <th>Homozygote Count</th>\n",
              "      <th>Hemizygote Count</th>\n",
              "      <th>Allele Count African/African-American</th>\n",
              "      <th>Allele Number African/African-American</th>\n",
              "      <th>Homozygote Count African/African-American</th>\n",
              "      <th>Hemizygote Count African/African-American</th>\n",
              "      <th>Allele Count Latino/Admixed American</th>\n",
              "      <th>Allele Number Latino/Admixed American</th>\n",
              "      <th>Homozygote Count Latino/Admixed American</th>\n",
              "      <th>Hemizygote Count Latino/Admixed American</th>\n",
              "      <th>Allele Count Ashkenazi Jewish</th>\n",
              "      <th>Allele Number Ashkenazi Jewish</th>\n",
              "      <th>Homozygote Count Ashkenazi Jewish</th>\n",
              "      <th>Hemizygote Count Ashkenazi Jewish</th>\n",
              "      <th>Allele Count East Asian</th>\n",
              "      <th>Allele Number East Asian</th>\n",
              "      <th>Homozygote Count East Asian</th>\n",
              "      <th>Hemizygote Count East Asian</th>\n",
              "      <th>Allele Count European (Finnish)</th>\n",
              "      <th>Allele Number European (Finnish)</th>\n",
              "      <th>Homozygote Count European (Finnish)</th>\n",
              "      <th>Hemizygote Count European (Finnish)</th>\n",
              "      <th>Allele Count European (non-Finnish)</th>\n",
              "      <th>Allele Number European (non-Finnish)</th>\n",
              "      <th>Homozygote Count European (non-Finnish)</th>\n",
              "      <th>Hemizygote Count European (non-Finnish)</th>\n",
              "      <th>Allele Count Other</th>\n",
              "      <th>Allele Number Other</th>\n",
              "      <th>Homozygote Count Other</th>\n",
              "      <th>Hemizygote Count Other</th>\n",
              "      <th>Allele Count South Asian</th>\n",
              "      <th>Allele Number South Asian</th>\n",
              "      <th>Homozygote Count South Asian</th>\n",
              "      <th>Hemizygote Count South Asian</th>\n",
              "      <th>oe_lof_upper</th>\n",
              "    </tr>\n",
              "  </thead>\n",
              "  <tbody>\n",
              "    <tr>\n",
              "      <th>0</th>\n",
              "      <td>17</td>\n",
              "      <td>T</td>\n",
              "      <td>G</td>\n",
              "      <td>splice_acceptor_variant</td>\n",
              "      <td>Pathogenic/Likely pathogenic</td>\n",
              "      <td>1260</td>\n",
              "      <td>0.004460</td>\n",
              "      <td>2</td>\n",
              "      <td>0</td>\n",
              "      <td>24</td>\n",
              "      <td>24940</td>\n",
              "      <td>0</td>\n",
              "      <td>0</td>\n",
              "      <td>106</td>\n",
              "      <td>35436</td>\n",
              "      <td>0</td>\n",
              "      <td>0</td>\n",
              "      <td>130</td>\n",
              "      <td>10360</td>\n",
              "      <td>0</td>\n",
              "      <td>0</td>\n",
              "      <td>1</td>\n",
              "      <td>19952</td>\n",
              "      <td>0</td>\n",
              "      <td>0</td>\n",
              "      <td>42</td>\n",
              "      <td>25116</td>\n",
              "      <td>0</td>\n",
              "      <td>0</td>\n",
              "      <td>936</td>\n",
              "      <td>128900</td>\n",
              "      <td>2</td>\n",
              "      <td>0</td>\n",
              "      <td>18</td>\n",
              "      <td>7212</td>\n",
              "      <td>0</td>\n",
              "      <td>0</td>\n",
              "      <td>3</td>\n",
              "      <td>30616</td>\n",
              "      <td>0</td>\n",
              "      <td>0</td>\n",
              "      <td>1.145</td>\n",
              "    </tr>\n",
              "    <tr>\n",
              "      <th>1</th>\n",
              "      <td>17</td>\n",
              "      <td>GGGGTTGGGTTCCAT</td>\n",
              "      <td>G</td>\n",
              "      <td>frameshift_variant</td>\n",
              "      <td>Pathogenic/Likely pathogenic</td>\n",
              "      <td>221</td>\n",
              "      <td>0.000781</td>\n",
              "      <td>0</td>\n",
              "      <td>0</td>\n",
              "      <td>4</td>\n",
              "      <td>24964</td>\n",
              "      <td>0</td>\n",
              "      <td>0</td>\n",
              "      <td>13</td>\n",
              "      <td>35440</td>\n",
              "      <td>0</td>\n",
              "      <td>0</td>\n",
              "      <td>11</td>\n",
              "      <td>10370</td>\n",
              "      <td>0</td>\n",
              "      <td>0</td>\n",
              "      <td>0</td>\n",
              "      <td>19954</td>\n",
              "      <td>0</td>\n",
              "      <td>0</td>\n",
              "      <td>0</td>\n",
              "      <td>25124</td>\n",
              "      <td>0</td>\n",
              "      <td>0</td>\n",
              "      <td>189</td>\n",
              "      <td>129180</td>\n",
              "      <td>0</td>\n",
              "      <td>0</td>\n",
              "      <td>4</td>\n",
              "      <td>7226</td>\n",
              "      <td>0</td>\n",
              "      <td>0</td>\n",
              "      <td>0</td>\n",
              "      <td>30616</td>\n",
              "      <td>0</td>\n",
              "      <td>0</td>\n",
              "      <td>1.145</td>\n",
              "    </tr>\n",
              "    <tr>\n",
              "      <th>2</th>\n",
              "      <td>17</td>\n",
              "      <td>TG</td>\n",
              "      <td>T</td>\n",
              "      <td>frameshift_variant</td>\n",
              "      <td>Likely pathogenic</td>\n",
              "      <td>3</td>\n",
              "      <td>0.000012</td>\n",
              "      <td>0</td>\n",
              "      <td>0</td>\n",
              "      <td>0</td>\n",
              "      <td>16252</td>\n",
              "      <td>0</td>\n",
              "      <td>0</td>\n",
              "      <td>0</td>\n",
              "      <td>34588</td>\n",
              "      <td>0</td>\n",
              "      <td>0</td>\n",
              "      <td>0</td>\n",
              "      <td>10078</td>\n",
              "      <td>0</td>\n",
              "      <td>0</td>\n",
              "      <td>0</td>\n",
              "      <td>18394</td>\n",
              "      <td>0</td>\n",
              "      <td>0</td>\n",
              "      <td>0</td>\n",
              "      <td>21624</td>\n",
              "      <td>0</td>\n",
              "      <td>0</td>\n",
              "      <td>3</td>\n",
              "      <td>113738</td>\n",
              "      <td>0</td>\n",
              "      <td>0</td>\n",
              "      <td>0</td>\n",
              "      <td>6136</td>\n",
              "      <td>0</td>\n",
              "      <td>0</td>\n",
              "      <td>0</td>\n",
              "      <td>30616</td>\n",
              "      <td>0</td>\n",
              "      <td>0</td>\n",
              "      <td>1.145</td>\n",
              "    </tr>\n",
              "    <tr>\n",
              "      <th>3</th>\n",
              "      <td>17</td>\n",
              "      <td>C</td>\n",
              "      <td>A</td>\n",
              "      <td>stop_gained</td>\n",
              "      <td>Likely pathogenic</td>\n",
              "      <td>32</td>\n",
              "      <td>0.000130</td>\n",
              "      <td>0</td>\n",
              "      <td>0</td>\n",
              "      <td>0</td>\n",
              "      <td>21330</td>\n",
              "      <td>0</td>\n",
              "      <td>0</td>\n",
              "      <td>0</td>\n",
              "      <td>31998</td>\n",
              "      <td>0</td>\n",
              "      <td>0</td>\n",
              "      <td>0</td>\n",
              "      <td>9570</td>\n",
              "      <td>0</td>\n",
              "      <td>0</td>\n",
              "      <td>1</td>\n",
              "      <td>17686</td>\n",
              "      <td>0</td>\n",
              "      <td>0</td>\n",
              "      <td>0</td>\n",
              "      <td>21656</td>\n",
              "      <td>0</td>\n",
              "      <td>0</td>\n",
              "      <td>31</td>\n",
              "      <td>110052</td>\n",
              "      <td>0</td>\n",
              "      <td>0</td>\n",
              "      <td>0</td>\n",
              "      <td>6406</td>\n",
              "      <td>0</td>\n",
              "      <td>0</td>\n",
              "      <td>0</td>\n",
              "      <td>27928</td>\n",
              "      <td>0</td>\n",
              "      <td>0</td>\n",
              "      <td>1.145</td>\n",
              "    </tr>\n",
              "    <tr>\n",
              "      <th>4</th>\n",
              "      <td>17</td>\n",
              "      <td>C</td>\n",
              "      <td>T</td>\n",
              "      <td>stop_gained</td>\n",
              "      <td>Likely pathogenic</td>\n",
              "      <td>3</td>\n",
              "      <td>0.000014</td>\n",
              "      <td>0</td>\n",
              "      <td>0</td>\n",
              "      <td>1</td>\n",
              "      <td>15578</td>\n",
              "      <td>0</td>\n",
              "      <td>0</td>\n",
              "      <td>0</td>\n",
              "      <td>27554</td>\n",
              "      <td>0</td>\n",
              "      <td>0</td>\n",
              "      <td>0</td>\n",
              "      <td>7154</td>\n",
              "      <td>0</td>\n",
              "      <td>0</td>\n",
              "      <td>0</td>\n",
              "      <td>16708</td>\n",
              "      <td>0</td>\n",
              "      <td>0</td>\n",
              "      <td>0</td>\n",
              "      <td>19838</td>\n",
              "      <td>0</td>\n",
              "      <td>0</td>\n",
              "      <td>2</td>\n",
              "      <td>98612</td>\n",
              "      <td>0</td>\n",
              "      <td>0</td>\n",
              "      <td>0</td>\n",
              "      <td>5136</td>\n",
              "      <td>0</td>\n",
              "      <td>0</td>\n",
              "      <td>0</td>\n",
              "      <td>25376</td>\n",
              "      <td>0</td>\n",
              "      <td>0</td>\n",
              "      <td>0.534</td>\n",
              "    </tr>\n",
              "    <tr>\n",
              "      <th>...</th>\n",
              "      <td>...</td>\n",
              "      <td>...</td>\n",
              "      <td>...</td>\n",
              "      <td>...</td>\n",
              "      <td>...</td>\n",
              "      <td>...</td>\n",
              "      <td>...</td>\n",
              "      <td>...</td>\n",
              "      <td>...</td>\n",
              "      <td>...</td>\n",
              "      <td>...</td>\n",
              "      <td>...</td>\n",
              "      <td>...</td>\n",
              "      <td>...</td>\n",
              "      <td>...</td>\n",
              "      <td>...</td>\n",
              "      <td>...</td>\n",
              "      <td>...</td>\n",
              "      <td>...</td>\n",
              "      <td>...</td>\n",
              "      <td>...</td>\n",
              "      <td>...</td>\n",
              "      <td>...</td>\n",
              "      <td>...</td>\n",
              "      <td>...</td>\n",
              "      <td>...</td>\n",
              "      <td>...</td>\n",
              "      <td>...</td>\n",
              "      <td>...</td>\n",
              "      <td>...</td>\n",
              "      <td>...</td>\n",
              "      <td>...</td>\n",
              "      <td>...</td>\n",
              "      <td>...</td>\n",
              "      <td>...</td>\n",
              "      <td>...</td>\n",
              "      <td>...</td>\n",
              "      <td>...</td>\n",
              "      <td>...</td>\n",
              "      <td>...</td>\n",
              "      <td>...</td>\n",
              "      <td>...</td>\n",
              "    </tr>\n",
              "    <tr>\n",
              "      <th>2015</th>\n",
              "      <td>6</td>\n",
              "      <td>G</td>\n",
              "      <td>A</td>\n",
              "      <td>stop_gained</td>\n",
              "      <td>Pathogenic</td>\n",
              "      <td>1</td>\n",
              "      <td>0.000004</td>\n",
              "      <td>0</td>\n",
              "      <td>0</td>\n",
              "      <td>0</td>\n",
              "      <td>15150</td>\n",
              "      <td>0</td>\n",
              "      <td>0</td>\n",
              "      <td>1</td>\n",
              "      <td>34480</td>\n",
              "      <td>0</td>\n",
              "      <td>0</td>\n",
              "      <td>0</td>\n",
              "      <td>9974</td>\n",
              "      <td>0</td>\n",
              "      <td>0</td>\n",
              "      <td>0</td>\n",
              "      <td>18274</td>\n",
              "      <td>0</td>\n",
              "      <td>0</td>\n",
              "      <td>0</td>\n",
              "      <td>21636</td>\n",
              "      <td>0</td>\n",
              "      <td>0</td>\n",
              "      <td>0</td>\n",
              "      <td>110762</td>\n",
              "      <td>0</td>\n",
              "      <td>0</td>\n",
              "      <td>0</td>\n",
              "      <td>6078</td>\n",
              "      <td>0</td>\n",
              "      <td>0</td>\n",
              "      <td>0</td>\n",
              "      <td>30378</td>\n",
              "      <td>0</td>\n",
              "      <td>0</td>\n",
              "      <td>0.806</td>\n",
              "    </tr>\n",
              "    <tr>\n",
              "      <th>2016</th>\n",
              "      <td>6</td>\n",
              "      <td>GGT</td>\n",
              "      <td>G</td>\n",
              "      <td>frameshift_variant</td>\n",
              "      <td>Likely pathogenic</td>\n",
              "      <td>1</td>\n",
              "      <td>0.000004</td>\n",
              "      <td>0</td>\n",
              "      <td>0</td>\n",
              "      <td>0</td>\n",
              "      <td>15066</td>\n",
              "      <td>0</td>\n",
              "      <td>0</td>\n",
              "      <td>0</td>\n",
              "      <td>34478</td>\n",
              "      <td>0</td>\n",
              "      <td>0</td>\n",
              "      <td>0</td>\n",
              "      <td>9946</td>\n",
              "      <td>0</td>\n",
              "      <td>0</td>\n",
              "      <td>0</td>\n",
              "      <td>18270</td>\n",
              "      <td>0</td>\n",
              "      <td>0</td>\n",
              "      <td>0</td>\n",
              "      <td>21594</td>\n",
              "      <td>0</td>\n",
              "      <td>0</td>\n",
              "      <td>1</td>\n",
              "      <td>110218</td>\n",
              "      <td>0</td>\n",
              "      <td>0</td>\n",
              "      <td>0</td>\n",
              "      <td>6058</td>\n",
              "      <td>0</td>\n",
              "      <td>0</td>\n",
              "      <td>0</td>\n",
              "      <td>30378</td>\n",
              "      <td>0</td>\n",
              "      <td>0</td>\n",
              "      <td>0.806</td>\n",
              "    </tr>\n",
              "    <tr>\n",
              "      <th>2017</th>\n",
              "      <td>16</td>\n",
              "      <td>C</td>\n",
              "      <td>G</td>\n",
              "      <td>stop_gained</td>\n",
              "      <td>Likely pathogenic</td>\n",
              "      <td>2</td>\n",
              "      <td>0.000008</td>\n",
              "      <td>0</td>\n",
              "      <td>0</td>\n",
              "      <td>0</td>\n",
              "      <td>15436</td>\n",
              "      <td>0</td>\n",
              "      <td>0</td>\n",
              "      <td>0</td>\n",
              "      <td>34522</td>\n",
              "      <td>0</td>\n",
              "      <td>0</td>\n",
              "      <td>0</td>\n",
              "      <td>10052</td>\n",
              "      <td>0</td>\n",
              "      <td>0</td>\n",
              "      <td>0</td>\n",
              "      <td>17970</td>\n",
              "      <td>0</td>\n",
              "      <td>0</td>\n",
              "      <td>0</td>\n",
              "      <td>21546</td>\n",
              "      <td>0</td>\n",
              "      <td>0</td>\n",
              "      <td>0</td>\n",
              "      <td>112854</td>\n",
              "      <td>0</td>\n",
              "      <td>0</td>\n",
              "      <td>1</td>\n",
              "      <td>6048</td>\n",
              "      <td>0</td>\n",
              "      <td>0</td>\n",
              "      <td>1</td>\n",
              "      <td>30602</td>\n",
              "      <td>0</td>\n",
              "      <td>0</td>\n",
              "      <td>1.967</td>\n",
              "    </tr>\n",
              "    <tr>\n",
              "      <th>2018</th>\n",
              "      <td>1</td>\n",
              "      <td>T</td>\n",
              "      <td>C</td>\n",
              "      <td>splice_donor_variant</td>\n",
              "      <td>Pathogenic</td>\n",
              "      <td>1</td>\n",
              "      <td>0.000004</td>\n",
              "      <td>0</td>\n",
              "      <td>0</td>\n",
              "      <td>0</td>\n",
              "      <td>15894</td>\n",
              "      <td>0</td>\n",
              "      <td>0</td>\n",
              "      <td>0</td>\n",
              "      <td>32210</td>\n",
              "      <td>0</td>\n",
              "      <td>0</td>\n",
              "      <td>0</td>\n",
              "      <td>9864</td>\n",
              "      <td>0</td>\n",
              "      <td>0</td>\n",
              "      <td>0</td>\n",
              "      <td>17680</td>\n",
              "      <td>0</td>\n",
              "      <td>0</td>\n",
              "      <td>0</td>\n",
              "      <td>21546</td>\n",
              "      <td>0</td>\n",
              "      <td>0</td>\n",
              "      <td>1</td>\n",
              "      <td>111004</td>\n",
              "      <td>0</td>\n",
              "      <td>0</td>\n",
              "      <td>0</td>\n",
              "      <td>5856</td>\n",
              "      <td>0</td>\n",
              "      <td>0</td>\n",
              "      <td>0</td>\n",
              "      <td>29362</td>\n",
              "      <td>0</td>\n",
              "      <td>0</td>\n",
              "      <td>1.425</td>\n",
              "    </tr>\n",
              "    <tr>\n",
              "      <th>2019</th>\n",
              "      <td>6</td>\n",
              "      <td>C</td>\n",
              "      <td>CA</td>\n",
              "      <td>frameshift_variant</td>\n",
              "      <td>Pathogenic</td>\n",
              "      <td>1</td>\n",
              "      <td>0.000033</td>\n",
              "      <td>0</td>\n",
              "      <td>0</td>\n",
              "      <td>0</td>\n",
              "      <td>8514</td>\n",
              "      <td>0</td>\n",
              "      <td>0</td>\n",
              "      <td>0</td>\n",
              "      <td>824</td>\n",
              "      <td>0</td>\n",
              "      <td>0</td>\n",
              "      <td>0</td>\n",
              "      <td>282</td>\n",
              "      <td>0</td>\n",
              "      <td>0</td>\n",
              "      <td>0</td>\n",
              "      <td>1554</td>\n",
              "      <td>0</td>\n",
              "      <td>0</td>\n",
              "      <td>0</td>\n",
              "      <td>3074</td>\n",
              "      <td>0</td>\n",
              "      <td>0</td>\n",
              "      <td>1</td>\n",
              "      <td>14766</td>\n",
              "      <td>0</td>\n",
              "      <td>0</td>\n",
              "      <td>0</td>\n",
              "      <td>1026</td>\n",
              "      <td>0</td>\n",
              "      <td>0</td>\n",
              "      <td>0</td>\n",
              "      <td>0</td>\n",
              "      <td>0</td>\n",
              "      <td>0</td>\n",
              "      <td>1.139</td>\n",
              "    </tr>\n",
              "  </tbody>\n",
              "</table>\n",
              "<p>2020 rows × 42 columns</p>\n",
              "</div>"
            ],
            "text/plain": [
              "     Chromosome        Reference  ... Hemizygote Count South Asian oe_lof_upper\n",
              "0            17                T  ...                            0        1.145\n",
              "1            17  GGGGTTGGGTTCCAT  ...                            0        1.145\n",
              "2            17               TG  ...                            0        1.145\n",
              "3            17                C  ...                            0        1.145\n",
              "4            17                C  ...                            0        0.534\n",
              "...         ...              ...  ...                          ...          ...\n",
              "2015          6                G  ...                            0        0.806\n",
              "2016          6              GGT  ...                            0        0.806\n",
              "2017         16                C  ...                            0        1.967\n",
              "2018          1                T  ...                            0        1.425\n",
              "2019          6                C  ...                            0        1.139\n",
              "\n",
              "[2020 rows x 42 columns]"
            ]
          },
          "metadata": {},
          "execution_count": 32
        }
      ]
    },
    {
      "cell_type": "markdown",
      "metadata": {
        "id": "4SSdjupb3Hws"
      },
      "source": [
        "Verify that schema are aligned and then perofrm join to combine gnomAD and ELGH data."
      ]
    },
    {
      "cell_type": "code",
      "metadata": {
        "colab": {
          "base_uri": "https://localhost:8080/"
        },
        "id": "xX_Zc_Ya4PPQ",
        "outputId": "11954bb7-b509-45e8-810f-df88d866ae2d"
      },
      "source": [
        "df_el_sampled.columns == df_gnomad.columns"
      ],
      "execution_count": null,
      "outputs": [
        {
          "output_type": "execute_result",
          "data": {
            "text/plain": [
              "array([ True,  True,  True,  True,  True,  True,  True,  True,  True,\n",
              "        True,  True,  True,  True,  True,  True,  True,  True,  True,\n",
              "        True,  True,  True,  True,  True,  True,  True,  True,  True,\n",
              "        True,  True,  True,  True,  True,  True,  True,  True,  True,\n",
              "        True,  True,  True,  True,  True,  True])"
            ]
          },
          "metadata": {},
          "execution_count": 33
        }
      ]
    },
    {
      "cell_type": "code",
      "metadata": {
        "colab": {
          "base_uri": "https://localhost:8080/"
        },
        "id": "-pNY9rVQ4dSX",
        "outputId": "ecc2456a-f62c-47db-b559-a1d8e8b80c56"
      },
      "source": [
        "df_el_sampled.shape[0]+df_gnomad.shape[0]"
      ],
      "execution_count": null,
      "outputs": [
        {
          "output_type": "execute_result",
          "data": {
            "text/plain": [
              "5048"
            ]
          },
          "metadata": {},
          "execution_count": 34
        }
      ]
    },
    {
      "cell_type": "code",
      "metadata": {
        "id": "O-AZRCKB4m2M"
      },
      "source": [
        "df_comb_el_gnomad = pd.concat([df_gnomad,df_el_sampled],axis=0,ignore_index=True)"
      ],
      "execution_count": null,
      "outputs": []
    },
    {
      "cell_type": "code",
      "metadata": {
        "colab": {
          "base_uri": "https://localhost:8080/"
        },
        "id": "ZQ_L8d_mdeYA",
        "outputId": "288e4918-e475-4f13-fcc2-2223bdd31997"
      },
      "source": [
        "df_comb_el_gnomad.info()"
      ],
      "execution_count": null,
      "outputs": [
        {
          "output_type": "stream",
          "name": "stdout",
          "text": [
            "<class 'pandas.core.frame.DataFrame'>\n",
            "RangeIndex: 5048 entries, 0 to 5047\n",
            "Data columns (total 42 columns):\n",
            " #   Column                                     Non-Null Count  Dtype  \n",
            "---  ------                                     --------------  -----  \n",
            " 0   Chromosome                                 5048 non-null   object \n",
            " 1   Reference                                  5048 non-null   object \n",
            " 2   Alternate                                  5048 non-null   object \n",
            " 3   VEP Annotation                             5048 non-null   object \n",
            " 4   ClinVar Clinical Significance              5048 non-null   object \n",
            " 5   Allele Count                               5048 non-null   float64\n",
            " 6   Allele Frequency                           5048 non-null   float64\n",
            " 7   Homozygote Count                           5048 non-null   int64  \n",
            " 8   Hemizygote Count                           5048 non-null   int64  \n",
            " 9   Allele Count African/African-American      5048 non-null   int64  \n",
            " 10  Allele Number African/African-American     5048 non-null   int64  \n",
            " 11  Homozygote Count African/African-American  5048 non-null   int64  \n",
            " 12  Hemizygote Count African/African-American  5048 non-null   int64  \n",
            " 13  Allele Count Latino/Admixed American       5048 non-null   int64  \n",
            " 14  Allele Number Latino/Admixed American      5048 non-null   int64  \n",
            " 15  Homozygote Count Latino/Admixed American   5048 non-null   int64  \n",
            " 16  Hemizygote Count Latino/Admixed American   5048 non-null   int64  \n",
            " 17  Allele Count Ashkenazi Jewish              5048 non-null   int64  \n",
            " 18  Allele Number Ashkenazi Jewish             5048 non-null   int64  \n",
            " 19  Homozygote Count Ashkenazi Jewish          5048 non-null   int64  \n",
            " 20  Hemizygote Count Ashkenazi Jewish          5048 non-null   int64  \n",
            " 21  Allele Count East Asian                    5048 non-null   int64  \n",
            " 22  Allele Number East Asian                   5048 non-null   int64  \n",
            " 23  Homozygote Count East Asian                5048 non-null   int64  \n",
            " 24  Hemizygote Count East Asian                5048 non-null   int64  \n",
            " 25  Allele Count European (Finnish)            5048 non-null   int64  \n",
            " 26  Allele Number European (Finnish)           5048 non-null   int64  \n",
            " 27  Homozygote Count European (Finnish)        5048 non-null   int64  \n",
            " 28  Hemizygote Count European (Finnish)        5048 non-null   int64  \n",
            " 29  Allele Count European (non-Finnish)        5048 non-null   int64  \n",
            " 30  Allele Number European (non-Finnish)       5048 non-null   int64  \n",
            " 31  Homozygote Count European (non-Finnish)    5048 non-null   int64  \n",
            " 32  Hemizygote Count European (non-Finnish)    5048 non-null   int64  \n",
            " 33  Allele Count Other                         5048 non-null   int64  \n",
            " 34  Allele Number Other                        5048 non-null   int64  \n",
            " 35  Homozygote Count Other                     5048 non-null   int64  \n",
            " 36  Hemizygote Count Other                     5048 non-null   int64  \n",
            " 37  Allele Count South Asian                   5048 non-null   float64\n",
            " 38  Allele Number South Asian                  5048 non-null   float64\n",
            " 39  Homozygote Count South Asian               5048 non-null   int64  \n",
            " 40  Hemizygote Count South Asian               5048 non-null   int64  \n",
            " 41  oe_lof_upper                               5040 non-null   float64\n",
            "dtypes: float64(5), int64(32), object(5)\n",
            "memory usage: 1.6+ MB\n"
          ]
        }
      ]
    },
    {
      "cell_type": "code",
      "metadata": {
        "colab": {
          "base_uri": "https://localhost:8080/"
        },
        "id": "3Uab0Jo1djfD",
        "outputId": "677b3db1-0765-46d6-ba0c-cc11164483d7"
      },
      "source": [
        "df_comb_el_gnomad.dropna(inplace=True)\n",
        "df_comb_el_gnomad.info()"
      ],
      "execution_count": null,
      "outputs": [
        {
          "output_type": "stream",
          "name": "stdout",
          "text": [
            "<class 'pandas.core.frame.DataFrame'>\n",
            "Int64Index: 5040 entries, 0 to 5047\n",
            "Data columns (total 42 columns):\n",
            " #   Column                                     Non-Null Count  Dtype  \n",
            "---  ------                                     --------------  -----  \n",
            " 0   Chromosome                                 5040 non-null   object \n",
            " 1   Reference                                  5040 non-null   object \n",
            " 2   Alternate                                  5040 non-null   object \n",
            " 3   VEP Annotation                             5040 non-null   object \n",
            " 4   ClinVar Clinical Significance              5040 non-null   object \n",
            " 5   Allele Count                               5040 non-null   float64\n",
            " 6   Allele Frequency                           5040 non-null   float64\n",
            " 7   Homozygote Count                           5040 non-null   int64  \n",
            " 8   Hemizygote Count                           5040 non-null   int64  \n",
            " 9   Allele Count African/African-American      5040 non-null   int64  \n",
            " 10  Allele Number African/African-American     5040 non-null   int64  \n",
            " 11  Homozygote Count African/African-American  5040 non-null   int64  \n",
            " 12  Hemizygote Count African/African-American  5040 non-null   int64  \n",
            " 13  Allele Count Latino/Admixed American       5040 non-null   int64  \n",
            " 14  Allele Number Latino/Admixed American      5040 non-null   int64  \n",
            " 15  Homozygote Count Latino/Admixed American   5040 non-null   int64  \n",
            " 16  Hemizygote Count Latino/Admixed American   5040 non-null   int64  \n",
            " 17  Allele Count Ashkenazi Jewish              5040 non-null   int64  \n",
            " 18  Allele Number Ashkenazi Jewish             5040 non-null   int64  \n",
            " 19  Homozygote Count Ashkenazi Jewish          5040 non-null   int64  \n",
            " 20  Hemizygote Count Ashkenazi Jewish          5040 non-null   int64  \n",
            " 21  Allele Count East Asian                    5040 non-null   int64  \n",
            " 22  Allele Number East Asian                   5040 non-null   int64  \n",
            " 23  Homozygote Count East Asian                5040 non-null   int64  \n",
            " 24  Hemizygote Count East Asian                5040 non-null   int64  \n",
            " 25  Allele Count European (Finnish)            5040 non-null   int64  \n",
            " 26  Allele Number European (Finnish)           5040 non-null   int64  \n",
            " 27  Homozygote Count European (Finnish)        5040 non-null   int64  \n",
            " 28  Hemizygote Count European (Finnish)        5040 non-null   int64  \n",
            " 29  Allele Count European (non-Finnish)        5040 non-null   int64  \n",
            " 30  Allele Number European (non-Finnish)       5040 non-null   int64  \n",
            " 31  Homozygote Count European (non-Finnish)    5040 non-null   int64  \n",
            " 32  Hemizygote Count European (non-Finnish)    5040 non-null   int64  \n",
            " 33  Allele Count Other                         5040 non-null   int64  \n",
            " 34  Allele Number Other                        5040 non-null   int64  \n",
            " 35  Homozygote Count Other                     5040 non-null   int64  \n",
            " 36  Hemizygote Count Other                     5040 non-null   int64  \n",
            " 37  Allele Count South Asian                   5040 non-null   float64\n",
            " 38  Allele Number South Asian                  5040 non-null   float64\n",
            " 39  Homozygote Count South Asian               5040 non-null   int64  \n",
            " 40  Hemizygote Count South Asian               5040 non-null   int64  \n",
            " 41  oe_lof_upper                               5040 non-null   float64\n",
            "dtypes: float64(5), int64(32), object(5)\n",
            "memory usage: 1.7+ MB\n"
          ]
        }
      ]
    },
    {
      "cell_type": "markdown",
      "metadata": {
        "id": "wv_qTHUw3UR4"
      },
      "source": [
        "VEP annotation frequencies, for benign and not benign classes."
      ]
    },
    {
      "cell_type": "code",
      "metadata": {
        "colab": {
          "base_uri": "https://localhost:8080/"
        },
        "id": "avF0NeCo5LyH",
        "outputId": "160ca941-b8d7-4baf-9c76-01d00100076e"
      },
      "source": [
        "df_comb_el_gnomad[df_comb_el_gnomad['ClinVar Clinical Significance']=='Benign']['VEP Annotation'].value_counts()"
      ],
      "execution_count": null,
      "outputs": [
        {
          "output_type": "execute_result",
          "data": {
            "text/plain": [
              "intron_variant                        2919\n",
              "non_coding_transcript_exon_variant      90\n",
              "5_prime_UTR_variant                     11\n",
              "splice_region_variant                    4\n",
              "stop_gained                              3\n",
              "splice_acceptor_variant                  1\n",
              "Name: VEP Annotation, dtype: int64"
            ]
          },
          "metadata": {},
          "execution_count": 239
        }
      ]
    },
    {
      "cell_type": "code",
      "metadata": {
        "colab": {
          "base_uri": "https://localhost:8080/"
        },
        "id": "Z8awGEhc5uGZ",
        "outputId": "46f99545-2824-4800-b9ee-ee573ac5a30f"
      },
      "source": [
        "df_comb_el_gnomad[df_comb_el_gnomad['ClinVar Clinical Significance']!='Benign']['VEP Annotation'].value_counts()"
      ],
      "execution_count": null,
      "outputs": [
        {
          "output_type": "execute_result",
          "data": {
            "text/plain": [
              "stop_gained                861\n",
              "frameshift_variant         684\n",
              "splice_donor_variant       239\n",
              "splice_acceptor_variant    163\n",
              "splice_region_variant       45\n",
              "intron_variant              19\n",
              "5_prime_UTR_variant          1\n",
              "Name: VEP Annotation, dtype: int64"
            ]
          },
          "metadata": {},
          "execution_count": 38
        }
      ]
    },
    {
      "cell_type": "markdown",
      "metadata": {
        "id": "sXeObZjzBMH0"
      },
      "source": [
        "**Merge Pathogenic/Likely pathogenic and Likely pathogenic into Likely pathogenic.**"
      ]
    },
    {
      "cell_type": "code",
      "metadata": {
        "id": "fZftsljv_8VQ"
      },
      "source": [
        "df_comb_el_gnomad.loc[df_comb_el_gnomad['ClinVar Clinical Significance']=='Pathogenic/Likely pathogenic','ClinVar Clinical Significance'] = 'Likely pathogenic'"
      ],
      "execution_count": null,
      "outputs": []
    },
    {
      "cell_type": "code",
      "metadata": {
        "colab": {
          "base_uri": "https://localhost:8080/",
          "height": 341
        },
        "id": "MWPIo-FS_UF1",
        "outputId": "a67e6cdd-e039-4a01-c242-d5addf18f5da"
      },
      "source": [
        "df_comb_el_gnomad['ClinVar Clinical Significance'].hist(alpha=1,grid=False,xrot=45)"
      ],
      "execution_count": null,
      "outputs": [
        {
          "output_type": "execute_result",
          "data": {
            "text/plain": [
              "<matplotlib.axes._subplots.AxesSubplot at 0x7f89bd10f490>"
            ]
          },
          "metadata": {},
          "execution_count": 40
        },
        {
          "output_type": "display_data",
          "data": {
            "image/png": "[encoded data removed]",
            "text/plain": [
              "<Figure size 432x288 with 1 Axes>"
            ]
          },
          "metadata": {
            "needs_background": "light"
          }
        }
      ]
    },
    {
      "cell_type": "markdown",
      "metadata": {
        "id": "z3sYit5Y3lnh"
      },
      "source": [
        "Plot VEP annotations for Benign and Not Benign classes."
      ]
    },
    {
      "cell_type": "code",
      "metadata": {
        "colab": {
          "base_uri": "https://localhost:8080/",
          "height": 530
        },
        "id": "beKyYOC86CpV",
        "outputId": "f9d4ca40-d11d-4951-b860-3ed807649318"
      },
      "source": [
        "plt.figure(figsize=(10,6))\n",
        "df_comb_el_gnomad[df_comb_el_gnomad['ClinVar Clinical Significance']=='Benign']['VEP Annotation'].hist(\n",
        "    alpha=0.5,color='blue',bins=15,label='Benign',xrot=45,grid=False)\n",
        "df_comb_el_gnomad[df_comb_el_gnomad['ClinVar Clinical Significance']!='Benign']['VEP Annotation'].hist(\n",
        "    alpha=0.5,color='red',bins=15,label='Not Benign',xrot=45,grid=False)\n",
        "plt.legend()\n",
        "plt.xlabel(\"VEP Annotation\")"
      ],
      "execution_count": null,
      "outputs": [
        {
          "output_type": "execute_result",
          "data": {
            "text/plain": [
              "Text(0.5, 0, 'VEP Annotation')"
            ]
          },
          "metadata": {},
          "execution_count": 41
        },
        {
          "output_type": "display_data",
          "data": {
            "image/png": "[encoded data removed]",
            "text/plain": [
              "<Figure size 720x432 with 1 Axes>"
            ]
          },
          "metadata": {
            "needs_background": "light"
          }
        }
      ]
    },
    {
      "cell_type": "markdown",
      "metadata": {
        "id": "AuBN_Mj23rOW"
      },
      "source": [
        "Plot allele frequencies for Benign and Not benign classes."
      ]
    },
    {
      "cell_type": "code",
      "metadata": {
        "colab": {
          "base_uri": "https://localhost:8080/",
          "height": 441
        },
        "id": "iwU-1KLB-9dL",
        "outputId": "bdd352a1-4add-4e75-d8d2-f29a9a57891b"
      },
      "source": [
        "plt.figure(figsize=(10,6))\n",
        "df_comb_el_gnomad[df_comb_el_gnomad['ClinVar Clinical Significance']=='Benign']['Allele Frequency'].plot(alpha=0.5,color='blue',label='Benign')\n",
        "df_comb_el_gnomad[df_comb_el_gnomad['ClinVar Clinical Significance']!='Benign']['Allele Frequency'].plot(alpha=0.5,color='red',label='Not Benign')\n",
        "plt.legend()\n",
        "plt.xlabel(\"Number of variants\")\n",
        "plt.ylabel(\"Allele Frequency\")\n",
        "plt.tight_layout()"
      ],
      "execution_count": null,
      "outputs": [
        {
          "output_type": "display_data",
          "data": {
            "image/png": "[encoded data removed]",
            "text/plain": [
              "<Figure size 720x432 with 1 Axes>"
            ]
          },
          "metadata": {
            "needs_background": "light"
          }
        }
      ]
    },
    {
      "cell_type": "markdown",
      "metadata": {
        "id": "1Hcvqyv93x96"
      },
      "source": [
        "Split features and lables."
      ]
    },
    {
      "cell_type": "code",
      "metadata": {
        "id": "INWS-jW3ETDs"
      },
      "source": [
        "df_X = df_comb_el_gnomad\n",
        "df_y = pd.DataFrame(df_comb_el_gnomad[\"ClinVar Clinical Significance\"])"
      ],
      "execution_count": null,
      "outputs": []
    },
    {
      "cell_type": "code",
      "metadata": {
        "colab": {
          "base_uri": "https://localhost:8080/",
          "height": 419
        },
        "id": "9vkht1JwaTqT",
        "outputId": "414f3bcb-2b51-465a-bae4-c58c89e72151"
      },
      "source": [
        "df_y"
      ],
      "execution_count": null,
      "outputs": [
        {
          "output_type": "execute_result",
          "data": {
            "text/html": [
              "<div>\n",
              "<style scoped>\n",
              "    .dataframe tbody tr th:only-of-type {\n",
              "        vertical-align: middle;\n",
              "    }\n",
              "\n",
              "    .dataframe tbody tr th {\n",
              "        vertical-align: top;\n",
              "    }\n",
              "\n",
              "    .dataframe thead th {\n",
              "        text-align: right;\n",
              "    }\n",
              "</style>\n",
              "<table border=\"1\" class=\"dataframe\">\n",
              "  <thead>\n",
              "    <tr style=\"text-align: right;\">\n",
              "      <th></th>\n",
              "      <th>ClinVar Clinical Significance</th>\n",
              "    </tr>\n",
              "  </thead>\n",
              "  <tbody>\n",
              "    <tr>\n",
              "      <th>0</th>\n",
              "      <td>Likely pathogenic</td>\n",
              "    </tr>\n",
              "    <tr>\n",
              "      <th>1</th>\n",
              "      <td>Likely pathogenic</td>\n",
              "    </tr>\n",
              "    <tr>\n",
              "      <th>2</th>\n",
              "      <td>Likely pathogenic</td>\n",
              "    </tr>\n",
              "    <tr>\n",
              "      <th>3</th>\n",
              "      <td>Likely pathogenic</td>\n",
              "    </tr>\n",
              "    <tr>\n",
              "      <th>4</th>\n",
              "      <td>Likely pathogenic</td>\n",
              "    </tr>\n",
              "    <tr>\n",
              "      <th>...</th>\n",
              "      <td>...</td>\n",
              "    </tr>\n",
              "    <tr>\n",
              "      <th>5043</th>\n",
              "      <td>Benign</td>\n",
              "    </tr>\n",
              "    <tr>\n",
              "      <th>5044</th>\n",
              "      <td>Benign</td>\n",
              "    </tr>\n",
              "    <tr>\n",
              "      <th>5045</th>\n",
              "      <td>Benign</td>\n",
              "    </tr>\n",
              "    <tr>\n",
              "      <th>5046</th>\n",
              "      <td>Benign</td>\n",
              "    </tr>\n",
              "    <tr>\n",
              "      <th>5047</th>\n",
              "      <td>Benign</td>\n",
              "    </tr>\n",
              "  </tbody>\n",
              "</table>\n",
              "<p>5040 rows × 1 columns</p>\n",
              "</div>"
            ],
            "text/plain": [
              "     ClinVar Clinical Significance\n",
              "0                Likely pathogenic\n",
              "1                Likely pathogenic\n",
              "2                Likely pathogenic\n",
              "3                Likely pathogenic\n",
              "4                Likely pathogenic\n",
              "...                            ...\n",
              "5043                        Benign\n",
              "5044                        Benign\n",
              "5045                        Benign\n",
              "5046                        Benign\n",
              "5047                        Benign\n",
              "\n",
              "[5040 rows x 1 columns]"
            ]
          },
          "metadata": {},
          "execution_count": 246
        }
      ]
    },
    {
      "cell_type": "code",
      "metadata": {
        "id": "lpPPmL0vWfBp"
      },
      "source": [
        "df_X.drop('ClinVar Clinical Significance',axis=1,inplace=True)"
      ],
      "execution_count": null,
      "outputs": []
    },
    {
      "cell_type": "code",
      "metadata": {
        "colab": {
          "base_uri": "https://localhost:8080/",
          "height": 419
        },
        "id": "pPCzlDoNWy_4",
        "outputId": "963aeb5c-3db1-419c-e5aa-cfbe853f1c1c"
      },
      "source": [
        "df_y"
      ],
      "execution_count": null,
      "outputs": [
        {
          "output_type": "execute_result",
          "data": {
            "text/html": [
              "<div>\n",
              "<style scoped>\n",
              "    .dataframe tbody tr th:only-of-type {\n",
              "        vertical-align: middle;\n",
              "    }\n",
              "\n",
              "    .dataframe tbody tr th {\n",
              "        vertical-align: top;\n",
              "    }\n",
              "\n",
              "    .dataframe thead th {\n",
              "        text-align: right;\n",
              "    }\n",
              "</style>\n",
              "<table border=\"1\" class=\"dataframe\">\n",
              "  <thead>\n",
              "    <tr style=\"text-align: right;\">\n",
              "      <th></th>\n",
              "      <th>ClinVar Clinical Significance</th>\n",
              "    </tr>\n",
              "  </thead>\n",
              "  <tbody>\n",
              "    <tr>\n",
              "      <th>0</th>\n",
              "      <td>Likely pathogenic</td>\n",
              "    </tr>\n",
              "    <tr>\n",
              "      <th>1</th>\n",
              "      <td>Likely pathogenic</td>\n",
              "    </tr>\n",
              "    <tr>\n",
              "      <th>2</th>\n",
              "      <td>Likely pathogenic</td>\n",
              "    </tr>\n",
              "    <tr>\n",
              "      <th>3</th>\n",
              "      <td>Likely pathogenic</td>\n",
              "    </tr>\n",
              "    <tr>\n",
              "      <th>4</th>\n",
              "      <td>Likely pathogenic</td>\n",
              "    </tr>\n",
              "    <tr>\n",
              "      <th>...</th>\n",
              "      <td>...</td>\n",
              "    </tr>\n",
              "    <tr>\n",
              "      <th>5043</th>\n",
              "      <td>Benign</td>\n",
              "    </tr>\n",
              "    <tr>\n",
              "      <th>5044</th>\n",
              "      <td>Benign</td>\n",
              "    </tr>\n",
              "    <tr>\n",
              "      <th>5045</th>\n",
              "      <td>Benign</td>\n",
              "    </tr>\n",
              "    <tr>\n",
              "      <th>5046</th>\n",
              "      <td>Benign</td>\n",
              "    </tr>\n",
              "    <tr>\n",
              "      <th>5047</th>\n",
              "      <td>Benign</td>\n",
              "    </tr>\n",
              "  </tbody>\n",
              "</table>\n",
              "<p>5040 rows × 1 columns</p>\n",
              "</div>"
            ],
            "text/plain": [
              "     ClinVar Clinical Significance\n",
              "0                Likely pathogenic\n",
              "1                Likely pathogenic\n",
              "2                Likely pathogenic\n",
              "3                Likely pathogenic\n",
              "4                Likely pathogenic\n",
              "...                            ...\n",
              "5043                        Benign\n",
              "5044                        Benign\n",
              "5045                        Benign\n",
              "5046                        Benign\n",
              "5047                        Benign\n",
              "\n",
              "[5040 rows x 1 columns]"
            ]
          },
          "metadata": {},
          "execution_count": 249
        }
      ]
    },
    {
      "cell_type": "code",
      "metadata": {
        "colab": {
          "base_uri": "https://localhost:8080/"
        },
        "id": "w1YqdnKvW0gA",
        "outputId": "b2d730b2-a73a-4ad0-e57c-119b61cedaff"
      },
      "source": [
        "df_X.info()"
      ],
      "execution_count": null,
      "outputs": [
        {
          "output_type": "stream",
          "name": "stdout",
          "text": [
            "<class 'pandas.core.frame.DataFrame'>\n",
            "Int64Index: 5040 entries, 0 to 5047\n",
            "Data columns (total 41 columns):\n",
            " #   Column                                     Non-Null Count  Dtype  \n",
            "---  ------                                     --------------  -----  \n",
            " 0   Chromosome                                 5040 non-null   object \n",
            " 1   Reference                                  5040 non-null   object \n",
            " 2   Alternate                                  5040 non-null   object \n",
            " 3   VEP Annotation                             5040 non-null   object \n",
            " 4   Allele Count                               5040 non-null   float64\n",
            " 5   Allele Frequency                           5040 non-null   float64\n",
            " 6   Homozygote Count                           5040 non-null   int64  \n",
            " 7   Hemizygote Count                           5040 non-null   int64  \n",
            " 8   Allele Count African/African-American      5040 non-null   int64  \n",
            " 9   Allele Number African/African-American     5040 non-null   int64  \n",
            " 10  Homozygote Count African/African-American  5040 non-null   int64  \n",
            " 11  Hemizygote Count African/African-American  5040 non-null   int64  \n",
            " 12  Allele Count Latino/Admixed American       5040 non-null   int64  \n",
            " 13  Allele Number Latino/Admixed American      5040 non-null   int64  \n",
            " 14  Homozygote Count Latino/Admixed American   5040 non-null   int64  \n",
            " 15  Hemizygote Count Latino/Admixed American   5040 non-null   int64  \n",
            " 16  Allele Count Ashkenazi Jewish              5040 non-null   int64  \n",
            " 17  Allele Number Ashkenazi Jewish             5040 non-null   int64  \n",
            " 18  Homozygote Count Ashkenazi Jewish          5040 non-null   int64  \n",
            " 19  Hemizygote Count Ashkenazi Jewish          5040 non-null   int64  \n",
            " 20  Allele Count East Asian                    5040 non-null   int64  \n",
            " 21  Allele Number East Asian                   5040 non-null   int64  \n",
            " 22  Homozygote Count East Asian                5040 non-null   int64  \n",
            " 23  Hemizygote Count East Asian                5040 non-null   int64  \n",
            " 24  Allele Count European (Finnish)            5040 non-null   int64  \n",
            " 25  Allele Number European (Finnish)           5040 non-null   int64  \n",
            " 26  Homozygote Count European (Finnish)        5040 non-null   int64  \n",
            " 27  Hemizygote Count European (Finnish)        5040 non-null   int64  \n",
            " 28  Allele Count European (non-Finnish)        5040 non-null   int64  \n",
            " 29  Allele Number European (non-Finnish)       5040 non-null   int64  \n",
            " 30  Homozygote Count European (non-Finnish)    5040 non-null   int64  \n",
            " 31  Hemizygote Count European (non-Finnish)    5040 non-null   int64  \n",
            " 32  Allele Count Other                         5040 non-null   int64  \n",
            " 33  Allele Number Other                        5040 non-null   int64  \n",
            " 34  Homozygote Count Other                     5040 non-null   int64  \n",
            " 35  Hemizygote Count Other                     5040 non-null   int64  \n",
            " 36  Allele Count South Asian                   5040 non-null   float64\n",
            " 37  Allele Number South Asian                  5040 non-null   float64\n",
            " 38  Homozygote Count South Asian               5040 non-null   int64  \n",
            " 39  Hemizygote Count South Asian               5040 non-null   int64  \n",
            " 40  oe_lof_upper                               5040 non-null   float64\n",
            "dtypes: float64(5), int64(32), object(4)\n",
            "memory usage: 1.6+ MB\n"
          ]
        }
      ]
    },
    {
      "cell_type": "markdown",
      "metadata": {
        "id": "cfSKG4F535Ar"
      },
      "source": [
        "Update data types."
      ]
    },
    {
      "cell_type": "code",
      "metadata": {
        "id": "-AW2wlCvW49W"
      },
      "source": [
        "dict_astype = {\"Chromosome\":\"category\",  \n",
        "               \"Reference\":\"object\",\n",
        "               \"Alternate\":\"object\",\n",
        "               \"VEP Annotation\":\"category\",\\\n",
        "               \"Allele Count\":\"int32\",\"Allele Frequency\":\"float64\",\"Homozygote Count\":\"int32\",\\\n",
        "               \"Hemizygote Count\":\"int32\",\"Allele Count African/African-American\":\"int32\",\\\n",
        "               \"Allele Number African/African-American\":\"int32\",\\\n",
        "               \"Homozygote Count African/African-American\":\"int32\",\"Hemizygote Count African/African-American\":\"int32\",\\\n",
        "               \"Allele Count Latino/Admixed American\":\"int32\",\"Allele Number Latino/Admixed American\":\"int32\",\\\n",
        "               \"Homozygote Count Latino/Admixed American\":\"int32\",\\\n",
        "               \"Hemizygote Count Latino/Admixed American\":\"int32\",\"Allele Count Ashkenazi Jewish\":\"int32\",\\\n",
        "               \"Allele Number Ashkenazi Jewish\":\"int32\",\"Homozygote Count Ashkenazi Jewish\":\"int32\",\\\n",
        "               \"Hemizygote Count Ashkenazi Jewish\":\"int32\",\"Allele Count East Asian\":\"int32\",\\\n",
        "               \"Allele Number East Asian\":\"int32\",\"Homozygote Count East Asian\":\"int32\",\\\n",
        "               \"Hemizygote Count East Asian\":\"int32\",\"Allele Count European (Finnish)\":\"int32\",\\\n",
        "               \"Allele Number European (Finnish)\":\"int32\",\"Homozygote Count European (Finnish)\":\"int32\",\\\n",
        "               \"Hemizygote Count European (Finnish)\":\"int32\",\"Allele Count European (non-Finnish)\":\"int32\",\\\n",
        "               \"Allele Number European (non-Finnish)\":\"int32\",\"Homozygote Count European (non-Finnish)\":\"int32\",\\\n",
        "               \"Hemizygote Count European (non-Finnish)\":\"int32\",\"Allele Count Other\":\"int32\",\\\n",
        "               \"Allele Number Other\":\"int32\",\"Homozygote Count Other\":\"int32\",\"Hemizygote Count Other\":\"int32\",\\\n",
        "               \"Allele Count South Asian\":\"int32\",\"Allele Number South Asian\":\"int32\",\\\n",
        "               \"Homozygote Count South Asian\":\"int32\",\"Hemizygote Count South Asian\":\"int32\",\\\n",
        "               \"oe_lof_upper\":\"float64\"}  #,\"PHRED\":\"float64\"}"
      ],
      "execution_count": null,
      "outputs": []
    },
    {
      "cell_type": "code",
      "metadata": {
        "colab": {
          "base_uri": "https://localhost:8080/"
        },
        "id": "oyzm-0sEXb7q",
        "outputId": "67ea61c1-8cd4-450e-ce88-b13c02c84b95"
      },
      "source": [
        "df_X = df_X.astype(dict_astype)\n",
        "df_X.info()"
      ],
      "execution_count": null,
      "outputs": [
        {
          "output_type": "stream",
          "name": "stdout",
          "text": [
            "<class 'pandas.core.frame.DataFrame'>\n",
            "Int64Index: 5040 entries, 0 to 5047\n",
            "Data columns (total 41 columns):\n",
            " #   Column                                     Non-Null Count  Dtype   \n",
            "---  ------                                     --------------  -----   \n",
            " 0   Chromosome                                 5040 non-null   category\n",
            " 1   Reference                                  5040 non-null   object  \n",
            " 2   Alternate                                  5040 non-null   object  \n",
            " 3   VEP Annotation                             5040 non-null   category\n",
            " 4   Allele Count                               5040 non-null   int32   \n",
            " 5   Allele Frequency                           5040 non-null   float64 \n",
            " 6   Homozygote Count                           5040 non-null   int32   \n",
            " 7   Hemizygote Count                           5040 non-null   int32   \n",
            " 8   Allele Count African/African-American      5040 non-null   int32   \n",
            " 9   Allele Number African/African-American     5040 non-null   int32   \n",
            " 10  Homozygote Count African/African-American  5040 non-null   int32   \n",
            " 11  Hemizygote Count African/African-American  5040 non-null   int32   \n",
            " 12  Allele Count Latino/Admixed American       5040 non-null   int32   \n",
            " 13  Allele Number Latino/Admixed American      5040 non-null   int32   \n",
            " 14  Homozygote Count Latino/Admixed American   5040 non-null   int32   \n",
            " 15  Hemizygote Count Latino/Admixed American   5040 non-null   int32   \n",
            " 16  Allele Count Ashkenazi Jewish              5040 non-null   int32   \n",
            " 17  Allele Number Ashkenazi Jewish             5040 non-null   int32   \n",
            " 18  Homozygote Count Ashkenazi Jewish          5040 non-null   int32   \n",
            " 19  Hemizygote Count Ashkenazi Jewish          5040 non-null   int32   \n",
            " 20  Allele Count East Asian                    5040 non-null   int32   \n",
            " 21  Allele Number East Asian                   5040 non-null   int32   \n",
            " 22  Homozygote Count East Asian                5040 non-null   int32   \n",
            " 23  Hemizygote Count East Asian                5040 non-null   int32   \n",
            " 24  Allele Count European (Finnish)            5040 non-null   int32   \n",
            " 25  Allele Number European (Finnish)           5040 non-null   int32   \n",
            " 26  Homozygote Count European (Finnish)        5040 non-null   int32   \n",
            " 27  Hemizygote Count European (Finnish)        5040 non-null   int32   \n",
            " 28  Allele Count European (non-Finnish)        5040 non-null   int32   \n",
            " 29  Allele Number European (non-Finnish)       5040 non-null   int32   \n",
            " 30  Homozygote Count European (non-Finnish)    5040 non-null   int32   \n",
            " 31  Hemizygote Count European (non-Finnish)    5040 non-null   int32   \n",
            " 32  Allele Count Other                         5040 non-null   int32   \n",
            " 33  Allele Number Other                        5040 non-null   int32   \n",
            " 34  Homozygote Count Other                     5040 non-null   int32   \n",
            " 35  Hemizygote Count Other                     5040 non-null   int32   \n",
            " 36  Allele Count South Asian                   5040 non-null   int32   \n",
            " 37  Allele Number South Asian                  5040 non-null   int32   \n",
            " 38  Homozygote Count South Asian               5040 non-null   int32   \n",
            " 39  Hemizygote Count South Asian               5040 non-null   int32   \n",
            " 40  oe_lof_upper                               5040 non-null   float64 \n",
            "dtypes: category(2), float64(2), int32(35), object(2)\n",
            "memory usage: 897.0+ KB\n"
          ]
        }
      ]
    },
    {
      "cell_type": "markdown",
      "metadata": {
        "id": "2h31ygcp38Zp"
      },
      "source": [
        "Numeric values for VEP Annotation"
      ]
    },
    {
      "cell_type": "code",
      "metadata": {
        "colab": {
          "base_uri": "https://localhost:8080/"
        },
        "id": "JCPk57GnYN6V",
        "outputId": "1d16c5cd-d342-4c78-e1a5-f8fc560c50d0"
      },
      "source": [
        "tup_vep = df_X[\"VEP Annotation\"].factorize()\n",
        "tup_vep "
      ],
      "execution_count": null,
      "outputs": [
        {
          "output_type": "execute_result",
          "data": {
            "text/plain": [
              "(array([0, 1, 1, ..., 5, 5, 5]),\n",
              " CategoricalIndex(['splice_acceptor_variant', 'frameshift_variant',\n",
              "                   'stop_gained', 'splice_region_variant',\n",
              "                   'splice_donor_variant', 'intron_variant',\n",
              "                   '5_prime_UTR_variant', 'non_coding_transcript_exon_variant'],\n",
              "                  categories=['5_prime_UTR_variant', 'frameshift_variant', 'intron_variant', 'non_coding_transcript_exon_variant', 'splice_acceptor_variant', 'splice_donor_variant', 'splice_region_variant', 'stop_gained'], ordered=False, dtype='category'))"
            ]
          },
          "metadata": {},
          "execution_count": 255
        }
      ]
    },
    {
      "cell_type": "code",
      "metadata": {
        "id": "ZWfncf5YYROq"
      },
      "source": [
        "list_vep = tup_vep[0]"
      ],
      "execution_count": null,
      "outputs": []
    },
    {
      "cell_type": "code",
      "metadata": {
        "colab": {
          "base_uri": "https://localhost:8080/"
        },
        "id": "RWUs_663YVzs",
        "outputId": "4c8a1c39-f8c5-47c6-9878-d9dcddcdc534"
      },
      "source": [
        "df_X[\"VEP Annotation\"] = list_vep\n",
        "df_X[\"VEP Annotation\"] "
      ],
      "execution_count": null,
      "outputs": [
        {
          "output_type": "execute_result",
          "data": {
            "text/plain": [
              "0       0\n",
              "1       1\n",
              "2       1\n",
              "3       2\n",
              "4       2\n",
              "       ..\n",
              "5043    5\n",
              "5044    5\n",
              "5045    5\n",
              "5046    5\n",
              "5047    5\n",
              "Name: VEP Annotation, Length: 5040, dtype: int64"
            ]
          },
          "metadata": {},
          "execution_count": 257
        }
      ]
    },
    {
      "cell_type": "code",
      "metadata": {
        "colab": {
          "base_uri": "https://localhost:8080/"
        },
        "id": "6PJCSqJkYafE",
        "outputId": "e47dbc2e-0bd7-4ede-e587-8d6ff69539ce"
      },
      "source": [
        "list_vep_char = list(tup_vep[1])\n",
        "list_vep_char"
      ],
      "execution_count": null,
      "outputs": [
        {
          "output_type": "execute_result",
          "data": {
            "text/plain": [
              "['splice_acceptor_variant',\n",
              " 'frameshift_variant',\n",
              " 'stop_gained',\n",
              " 'splice_region_variant',\n",
              " 'splice_donor_variant',\n",
              " 'intron_variant',\n",
              " '5_prime_UTR_variant',\n",
              " 'non_coding_transcript_exon_variant']"
            ]
          },
          "metadata": {},
          "execution_count": 258
        }
      ]
    },
    {
      "cell_type": "markdown",
      "metadata": {
        "id": "fKTAItcw4DJ8"
      },
      "source": [
        "Numeric values for Chromosome."
      ]
    },
    {
      "cell_type": "code",
      "metadata": {
        "colab": {
          "base_uri": "https://localhost:8080/"
        },
        "id": "DIV8yNJZYhW0",
        "outputId": "82e87a8a-62c6-4f3b-bf52-298a3336eb5b"
      },
      "source": [
        "tup_chrom = df_X[\"Chromosome\"].factorize()\n",
        "df_X[\"Chromosome\"] = tup_chrom[0]\n",
        "df_X[\"Chromosome\"].value_counts()"
      ],
      "execution_count": null,
      "outputs": [
        {
          "output_type": "execute_result",
          "data": {
            "text/plain": [
              "2     513\n",
              "10    477\n",
              "8     355\n",
              "4     336\n",
              "20    306\n",
              "3     296\n",
              "17    294\n",
              "19    270\n",
              "16    231\n",
              "1     230\n",
              "11    210\n",
              "7     207\n",
              "0     187\n",
              "12    168\n",
              "5     166\n",
              "18    158\n",
              "9     147\n",
              "15    109\n",
              "6      92\n",
              "21     90\n",
              "13     82\n",
              "14     75\n",
              "22     41\n",
              "Name: Chromosome, dtype: int64"
            ]
          },
          "metadata": {},
          "execution_count": 259
        }
      ]
    },
    {
      "cell_type": "code",
      "metadata": {
        "colab": {
          "base_uri": "https://localhost:8080/"
        },
        "id": "3Rq9yYZWYnU9",
        "outputId": "f70ce42a-aaab-4936-c880-60d7d8336c6d"
      },
      "source": [
        "df_X[\"Chromosome\"].nunique()"
      ],
      "execution_count": null,
      "outputs": [
        {
          "output_type": "execute_result",
          "data": {
            "text/plain": [
              "23"
            ]
          },
          "metadata": {},
          "execution_count": 260
        }
      ]
    },
    {
      "cell_type": "markdown",
      "metadata": {
        "id": "85cNOkKN4Hpb"
      },
      "source": [
        "Convert Clinical Significance into numeric format."
      ]
    },
    {
      "cell_type": "code",
      "metadata": {
        "colab": {
          "base_uri": "https://localhost:8080/"
        },
        "id": "cCJSAKR8Ytpq",
        "outputId": "29b191f5-0eab-491e-be20-254605dbc16e"
      },
      "source": [
        "tup_y = df_y[\"ClinVar Clinical Significance\"].factorize()\n",
        "tup_y"
      ],
      "execution_count": null,
      "outputs": [
        {
          "output_type": "execute_result",
          "data": {
            "text/plain": [
              "(array([0, 0, 0, ..., 2, 2, 2]),\n",
              " Index(['Likely pathogenic', 'Pathogenic', 'Benign'], dtype='object'))"
            ]
          },
          "metadata": {},
          "execution_count": 261
        }
      ]
    },
    {
      "cell_type": "code",
      "metadata": {
        "colab": {
          "base_uri": "https://localhost:8080/",
          "height": 419
        },
        "id": "0qvRaJCPY4QJ",
        "outputId": "1cc2b0eb-6991-4146-80cf-a1d34cef900e"
      },
      "source": [
        "df_y[\"ClinVar Clinical Significance\"] = tup_y[0]\n",
        "df_y"
      ],
      "execution_count": null,
      "outputs": [
        {
          "output_type": "execute_result",
          "data": {
            "text/html": [
              "<div>\n",
              "<style scoped>\n",
              "    .dataframe tbody tr th:only-of-type {\n",
              "        vertical-align: middle;\n",
              "    }\n",
              "\n",
              "    .dataframe tbody tr th {\n",
              "        vertical-align: top;\n",
              "    }\n",
              "\n",
              "    .dataframe thead th {\n",
              "        text-align: right;\n",
              "    }\n",
              "</style>\n",
              "<table border=\"1\" class=\"dataframe\">\n",
              "  <thead>\n",
              "    <tr style=\"text-align: right;\">\n",
              "      <th></th>\n",
              "      <th>ClinVar Clinical Significance</th>\n",
              "    </tr>\n",
              "  </thead>\n",
              "  <tbody>\n",
              "    <tr>\n",
              "      <th>0</th>\n",
              "      <td>0</td>\n",
              "    </tr>\n",
              "    <tr>\n",
              "      <th>1</th>\n",
              "      <td>0</td>\n",
              "    </tr>\n",
              "    <tr>\n",
              "      <th>2</th>\n",
              "      <td>0</td>\n",
              "    </tr>\n",
              "    <tr>\n",
              "      <th>3</th>\n",
              "      <td>0</td>\n",
              "    </tr>\n",
              "    <tr>\n",
              "      <th>4</th>\n",
              "      <td>0</td>\n",
              "    </tr>\n",
              "    <tr>\n",
              "      <th>...</th>\n",
              "      <td>...</td>\n",
              "    </tr>\n",
              "    <tr>\n",
              "      <th>5043</th>\n",
              "      <td>2</td>\n",
              "    </tr>\n",
              "    <tr>\n",
              "      <th>5044</th>\n",
              "      <td>2</td>\n",
              "    </tr>\n",
              "    <tr>\n",
              "      <th>5045</th>\n",
              "      <td>2</td>\n",
              "    </tr>\n",
              "    <tr>\n",
              "      <th>5046</th>\n",
              "      <td>2</td>\n",
              "    </tr>\n",
              "    <tr>\n",
              "      <th>5047</th>\n",
              "      <td>2</td>\n",
              "    </tr>\n",
              "  </tbody>\n",
              "</table>\n",
              "<p>5040 rows × 1 columns</p>\n",
              "</div>"
            ],
            "text/plain": [
              "      ClinVar Clinical Significance\n",
              "0                                 0\n",
              "1                                 0\n",
              "2                                 0\n",
              "3                                 0\n",
              "4                                 0\n",
              "...                             ...\n",
              "5043                              2\n",
              "5044                              2\n",
              "5045                              2\n",
              "5046                              2\n",
              "5047                              2\n",
              "\n",
              "[5040 rows x 1 columns]"
            ]
          },
          "metadata": {},
          "execution_count": 262
        }
      ]
    },
    {
      "cell_type": "markdown",
      "metadata": {
        "id": "DWCH8P0U4SPu"
      },
      "source": [
        "Convert Alternate and Reference alleles into numeric format using hash encoding."
      ]
    },
    {
      "cell_type": "code",
      "metadata": {
        "colab": {
          "base_uri": "https://localhost:8080/"
        },
        "id": "0yH0oUMYav6D",
        "outputId": "122686f1-4795-4eb9-82f2-86bd34841d6c"
      },
      "source": [
        "df_X['Alternate'].nunique()"
      ],
      "execution_count": null,
      "outputs": [
        {
          "output_type": "execute_result",
          "data": {
            "text/plain": [
              "68"
            ]
          },
          "metadata": {},
          "execution_count": 263
        }
      ]
    },
    {
      "cell_type": "code",
      "metadata": {
        "colab": {
          "base_uri": "https://localhost:8080/"
        },
        "id": "yeh4-UcSa8-k",
        "outputId": "0b5858c1-aa52-4889-b91e-894c49199854"
      },
      "source": [
        "df_X['Reference'].nunique()"
      ],
      "execution_count": null,
      "outputs": [
        {
          "output_type": "execute_result",
          "data": {
            "text/plain": [
              "178"
            ]
          },
          "metadata": {},
          "execution_count": 264
        }
      ]
    },
    {
      "cell_type": "code",
      "metadata": {
        "colab": {
          "base_uri": "https://localhost:8080/"
        },
        "id": "e9njt9-CbB69",
        "outputId": "3f13f875-d589-41ad-b03e-55b6aa2b7ac0"
      },
      "source": [
        "hashEnc = HashingEncoder(cols=[\"Alternate\",\"Reference\"]).fit(df_X,df_y)"
      ],
      "execution_count": null,
      "outputs": [
        {
          "output_type": "stream",
          "name": "stderr",
          "text": [
            "/usr/local/lib/python3.7/dist-packages/category_encoders/utils.py:21: FutureWarning: is_categorical is deprecated and will be removed in a future version.  Use is_categorical_dtype instead\n",
            "  elif pd.api.types.is_categorical(cols):\n"
          ]
        }
      ]
    },
    {
      "cell_type": "code",
      "metadata": {
        "colab": {
          "base_uri": "https://localhost:8080/",
          "height": 507
        },
        "id": "VijnqE4vbmbD",
        "outputId": "f0bc1206-9d38-4692-d4f2-e9e968956db1"
      },
      "source": [
        "df_X_transformed = hashEnc.transform(df_X)\n",
        "df_X_transformed"
      ],
      "execution_count": null,
      "outputs": [
        {
          "output_type": "execute_result",
          "data": {
            "text/html": [
              "<div>\n",
              "<style scoped>\n",
              "    .dataframe tbody tr th:only-of-type {\n",
              "        vertical-align: middle;\n",
              "    }\n",
              "\n",
              "    .dataframe tbody tr th {\n",
              "        vertical-align: top;\n",
              "    }\n",
              "\n",
              "    .dataframe thead th {\n",
              "        text-align: right;\n",
              "    }\n",
              "</style>\n",
              "<table border=\"1\" class=\"dataframe\">\n",
              "  <thead>\n",
              "    <tr style=\"text-align: right;\">\n",
              "      <th></th>\n",
              "      <th>col_0</th>\n",
              "      <th>col_1</th>\n",
              "      <th>col_2</th>\n",
              "      <th>col_3</th>\n",
              "      <th>col_4</th>\n",
              "      <th>col_5</th>\n",
              "      <th>col_6</th>\n",
              "      <th>col_7</th>\n",
              "      <th>Chromosome</th>\n",
              "      <th>VEP Annotation</th>\n",
              "      <th>Allele Count</th>\n",
              "      <th>Allele Frequency</th>\n",
              "      <th>Homozygote Count</th>\n",
              "      <th>Hemizygote Count</th>\n",
              "      <th>Allele Count African/African-American</th>\n",
              "      <th>Allele Number African/African-American</th>\n",
              "      <th>Homozygote Count African/African-American</th>\n",
              "      <th>Hemizygote Count African/African-American</th>\n",
              "      <th>Allele Count Latino/Admixed American</th>\n",
              "      <th>Allele Number Latino/Admixed American</th>\n",
              "      <th>Homozygote Count Latino/Admixed American</th>\n",
              "      <th>Hemizygote Count Latino/Admixed American</th>\n",
              "      <th>Allele Count Ashkenazi Jewish</th>\n",
              "      <th>Allele Number Ashkenazi Jewish</th>\n",
              "      <th>Homozygote Count Ashkenazi Jewish</th>\n",
              "      <th>Hemizygote Count Ashkenazi Jewish</th>\n",
              "      <th>Allele Count East Asian</th>\n",
              "      <th>Allele Number East Asian</th>\n",
              "      <th>Homozygote Count East Asian</th>\n",
              "      <th>Hemizygote Count East Asian</th>\n",
              "      <th>Allele Count European (Finnish)</th>\n",
              "      <th>Allele Number European (Finnish)</th>\n",
              "      <th>Homozygote Count European (Finnish)</th>\n",
              "      <th>Hemizygote Count European (Finnish)</th>\n",
              "      <th>Allele Count European (non-Finnish)</th>\n",
              "      <th>Allele Number European (non-Finnish)</th>\n",
              "      <th>Homozygote Count European (non-Finnish)</th>\n",
              "      <th>Hemizygote Count European (non-Finnish)</th>\n",
              "      <th>Allele Count Other</th>\n",
              "      <th>Allele Number Other</th>\n",
              "      <th>Homozygote Count Other</th>\n",
              "      <th>Hemizygote Count Other</th>\n",
              "      <th>Allele Count South Asian</th>\n",
              "      <th>Allele Number South Asian</th>\n",
              "      <th>Homozygote Count South Asian</th>\n",
              "      <th>Hemizygote Count South Asian</th>\n",
              "      <th>oe_lof_upper</th>\n",
              "    </tr>\n",
              "  </thead>\n",
              "  <tbody>\n",
              "    <tr>\n",
              "      <th>0</th>\n",
              "      <td>0</td>\n",
              "      <td>0</td>\n",
              "      <td>0</td>\n",
              "      <td>1</td>\n",
              "      <td>0</td>\n",
              "      <td>0</td>\n",
              "      <td>0</td>\n",
              "      <td>1</td>\n",
              "      <td>0</td>\n",
              "      <td>0</td>\n",
              "      <td>1260</td>\n",
              "      <td>0.004460</td>\n",
              "      <td>2</td>\n",
              "      <td>0</td>\n",
              "      <td>24</td>\n",
              "      <td>24940</td>\n",
              "      <td>0</td>\n",
              "      <td>0</td>\n",
              "      <td>106</td>\n",
              "      <td>35436</td>\n",
              "      <td>0</td>\n",
              "      <td>0</td>\n",
              "      <td>130</td>\n",
              "      <td>10360</td>\n",
              "      <td>0</td>\n",
              "      <td>0</td>\n",
              "      <td>1</td>\n",
              "      <td>19952</td>\n",
              "      <td>0</td>\n",
              "      <td>0</td>\n",
              "      <td>42</td>\n",
              "      <td>25116</td>\n",
              "      <td>0</td>\n",
              "      <td>0</td>\n",
              "      <td>936</td>\n",
              "      <td>128900</td>\n",
              "      <td>2</td>\n",
              "      <td>0</td>\n",
              "      <td>18</td>\n",
              "      <td>7212</td>\n",
              "      <td>0</td>\n",
              "      <td>0</td>\n",
              "      <td>3</td>\n",
              "      <td>30616</td>\n",
              "      <td>0</td>\n",
              "      <td>0</td>\n",
              "      <td>1.145</td>\n",
              "    </tr>\n",
              "    <tr>\n",
              "      <th>1</th>\n",
              "      <td>0</td>\n",
              "      <td>1</td>\n",
              "      <td>0</td>\n",
              "      <td>0</td>\n",
              "      <td>0</td>\n",
              "      <td>0</td>\n",
              "      <td>0</td>\n",
              "      <td>1</td>\n",
              "      <td>0</td>\n",
              "      <td>1</td>\n",
              "      <td>221</td>\n",
              "      <td>0.000781</td>\n",
              "      <td>0</td>\n",
              "      <td>0</td>\n",
              "      <td>4</td>\n",
              "      <td>24964</td>\n",
              "      <td>0</td>\n",
              "      <td>0</td>\n",
              "      <td>13</td>\n",
              "      <td>35440</td>\n",
              "      <td>0</td>\n",
              "      <td>0</td>\n",
              "      <td>11</td>\n",
              "      <td>10370</td>\n",
              "      <td>0</td>\n",
              "      <td>0</td>\n",
              "      <td>0</td>\n",
              "      <td>19954</td>\n",
              "      <td>0</td>\n",
              "      <td>0</td>\n",
              "      <td>0</td>\n",
              "      <td>25124</td>\n",
              "      <td>0</td>\n",
              "      <td>0</td>\n",
              "      <td>189</td>\n",
              "      <td>129180</td>\n",
              "      <td>0</td>\n",
              "      <td>0</td>\n",
              "      <td>4</td>\n",
              "      <td>7226</td>\n",
              "      <td>0</td>\n",
              "      <td>0</td>\n",
              "      <td>0</td>\n",
              "      <td>30616</td>\n",
              "      <td>0</td>\n",
              "      <td>0</td>\n",
              "      <td>1.145</td>\n",
              "    </tr>\n",
              "    <tr>\n",
              "      <th>2</th>\n",
              "      <td>0</td>\n",
              "      <td>0</td>\n",
              "      <td>0</td>\n",
              "      <td>1</td>\n",
              "      <td>0</td>\n",
              "      <td>1</td>\n",
              "      <td>0</td>\n",
              "      <td>0</td>\n",
              "      <td>0</td>\n",
              "      <td>1</td>\n",
              "      <td>3</td>\n",
              "      <td>0.000012</td>\n",
              "      <td>0</td>\n",
              "      <td>0</td>\n",
              "      <td>0</td>\n",
              "      <td>16252</td>\n",
              "      <td>0</td>\n",
              "      <td>0</td>\n",
              "      <td>0</td>\n",
              "      <td>34588</td>\n",
              "      <td>0</td>\n",
              "      <td>0</td>\n",
              "      <td>0</td>\n",
              "      <td>10078</td>\n",
              "      <td>0</td>\n",
              "      <td>0</td>\n",
              "      <td>0</td>\n",
              "      <td>18394</td>\n",
              "      <td>0</td>\n",
              "      <td>0</td>\n",
              "      <td>0</td>\n",
              "      <td>21624</td>\n",
              "      <td>0</td>\n",
              "      <td>0</td>\n",
              "      <td>3</td>\n",
              "      <td>113738</td>\n",
              "      <td>0</td>\n",
              "      <td>0</td>\n",
              "      <td>0</td>\n",
              "      <td>6136</td>\n",
              "      <td>0</td>\n",
              "      <td>0</td>\n",
              "      <td>0</td>\n",
              "      <td>30616</td>\n",
              "      <td>0</td>\n",
              "      <td>0</td>\n",
              "      <td>1.145</td>\n",
              "    </tr>\n",
              "    <tr>\n",
              "      <th>3</th>\n",
              "      <td>0</td>\n",
              "      <td>1</td>\n",
              "      <td>0</td>\n",
              "      <td>0</td>\n",
              "      <td>0</td>\n",
              "      <td>0</td>\n",
              "      <td>0</td>\n",
              "      <td>1</td>\n",
              "      <td>0</td>\n",
              "      <td>2</td>\n",
              "      <td>32</td>\n",
              "      <td>0.000130</td>\n",
              "      <td>0</td>\n",
              "      <td>0</td>\n",
              "      <td>0</td>\n",
              "      <td>21330</td>\n",
              "      <td>0</td>\n",
              "      <td>0</td>\n",
              "      <td>0</td>\n",
              "      <td>31998</td>\n",
              "      <td>0</td>\n",
              "      <td>0</td>\n",
              "      <td>0</td>\n",
              "      <td>9570</td>\n",
              "      <td>0</td>\n",
              "      <td>0</td>\n",
              "      <td>1</td>\n",
              "      <td>17686</td>\n",
              "      <td>0</td>\n",
              "      <td>0</td>\n",
              "      <td>0</td>\n",
              "      <td>21656</td>\n",
              "      <td>0</td>\n",
              "      <td>0</td>\n",
              "      <td>31</td>\n",
              "      <td>110052</td>\n",
              "      <td>0</td>\n",
              "      <td>0</td>\n",
              "      <td>0</td>\n",
              "      <td>6406</td>\n",
              "      <td>0</td>\n",
              "      <td>0</td>\n",
              "      <td>0</td>\n",
              "      <td>27928</td>\n",
              "      <td>0</td>\n",
              "      <td>0</td>\n",
              "      <td>1.145</td>\n",
              "    </tr>\n",
              "    <tr>\n",
              "      <th>4</th>\n",
              "      <td>0</td>\n",
              "      <td>0</td>\n",
              "      <td>0</td>\n",
              "      <td>1</td>\n",
              "      <td>0</td>\n",
              "      <td>0</td>\n",
              "      <td>0</td>\n",
              "      <td>1</td>\n",
              "      <td>0</td>\n",
              "      <td>2</td>\n",
              "      <td>3</td>\n",
              "      <td>0.000014</td>\n",
              "      <td>0</td>\n",
              "      <td>0</td>\n",
              "      <td>1</td>\n",
              "      <td>15578</td>\n",
              "      <td>0</td>\n",
              "      <td>0</td>\n",
              "      <td>0</td>\n",
              "      <td>27554</td>\n",
              "      <td>0</td>\n",
              "      <td>0</td>\n",
              "      <td>0</td>\n",
              "      <td>7154</td>\n",
              "      <td>0</td>\n",
              "      <td>0</td>\n",
              "      <td>0</td>\n",
              "      <td>16708</td>\n",
              "      <td>0</td>\n",
              "      <td>0</td>\n",
              "      <td>0</td>\n",
              "      <td>19838</td>\n",
              "      <td>0</td>\n",
              "      <td>0</td>\n",
              "      <td>2</td>\n",
              "      <td>98612</td>\n",
              "      <td>0</td>\n",
              "      <td>0</td>\n",
              "      <td>0</td>\n",
              "      <td>5136</td>\n",
              "      <td>0</td>\n",
              "      <td>0</td>\n",
              "      <td>0</td>\n",
              "      <td>25376</td>\n",
              "      <td>0</td>\n",
              "      <td>0</td>\n",
              "      <td>0.534</td>\n",
              "    </tr>\n",
              "    <tr>\n",
              "      <th>...</th>\n",
              "      <td>...</td>\n",
              "      <td>...</td>\n",
              "      <td>...</td>\n",
              "      <td>...</td>\n",
              "      <td>...</td>\n",
              "      <td>...</td>\n",
              "      <td>...</td>\n",
              "      <td>...</td>\n",
              "      <td>...</td>\n",
              "      <td>...</td>\n",
              "      <td>...</td>\n",
              "      <td>...</td>\n",
              "      <td>...</td>\n",
              "      <td>...</td>\n",
              "      <td>...</td>\n",
              "      <td>...</td>\n",
              "      <td>...</td>\n",
              "      <td>...</td>\n",
              "      <td>...</td>\n",
              "      <td>...</td>\n",
              "      <td>...</td>\n",
              "      <td>...</td>\n",
              "      <td>...</td>\n",
              "      <td>...</td>\n",
              "      <td>...</td>\n",
              "      <td>...</td>\n",
              "      <td>...</td>\n",
              "      <td>...</td>\n",
              "      <td>...</td>\n",
              "      <td>...</td>\n",
              "      <td>...</td>\n",
              "      <td>...</td>\n",
              "      <td>...</td>\n",
              "      <td>...</td>\n",
              "      <td>...</td>\n",
              "      <td>...</td>\n",
              "      <td>...</td>\n",
              "      <td>...</td>\n",
              "      <td>...</td>\n",
              "      <td>...</td>\n",
              "      <td>...</td>\n",
              "      <td>...</td>\n",
              "      <td>...</td>\n",
              "      <td>...</td>\n",
              "      <td>...</td>\n",
              "      <td>...</td>\n",
              "      <td>...</td>\n",
              "    </tr>\n",
              "    <tr>\n",
              "      <th>5043</th>\n",
              "      <td>0</td>\n",
              "      <td>0</td>\n",
              "      <td>0</td>\n",
              "      <td>1</td>\n",
              "      <td>0</td>\n",
              "      <td>0</td>\n",
              "      <td>0</td>\n",
              "      <td>1</td>\n",
              "      <td>11</td>\n",
              "      <td>5</td>\n",
              "      <td>216</td>\n",
              "      <td>0.005003</td>\n",
              "      <td>1</td>\n",
              "      <td>0</td>\n",
              "      <td>0</td>\n",
              "      <td>0</td>\n",
              "      <td>0</td>\n",
              "      <td>0</td>\n",
              "      <td>0</td>\n",
              "      <td>0</td>\n",
              "      <td>0</td>\n",
              "      <td>0</td>\n",
              "      <td>0</td>\n",
              "      <td>0</td>\n",
              "      <td>0</td>\n",
              "      <td>0</td>\n",
              "      <td>0</td>\n",
              "      <td>0</td>\n",
              "      <td>0</td>\n",
              "      <td>0</td>\n",
              "      <td>0</td>\n",
              "      <td>0</td>\n",
              "      <td>0</td>\n",
              "      <td>0</td>\n",
              "      <td>0</td>\n",
              "      <td>0</td>\n",
              "      <td>0</td>\n",
              "      <td>0</td>\n",
              "      <td>0</td>\n",
              "      <td>0</td>\n",
              "      <td>0</td>\n",
              "      <td>0</td>\n",
              "      <td>216</td>\n",
              "      <td>43274</td>\n",
              "      <td>1</td>\n",
              "      <td>0</td>\n",
              "      <td>0.000</td>\n",
              "    </tr>\n",
              "    <tr>\n",
              "      <th>5044</th>\n",
              "      <td>0</td>\n",
              "      <td>1</td>\n",
              "      <td>0</td>\n",
              "      <td>0</td>\n",
              "      <td>0</td>\n",
              "      <td>0</td>\n",
              "      <td>0</td>\n",
              "      <td>1</td>\n",
              "      <td>8</td>\n",
              "      <td>5</td>\n",
              "      <td>1851</td>\n",
              "      <td>0.042456</td>\n",
              "      <td>33</td>\n",
              "      <td>0</td>\n",
              "      <td>0</td>\n",
              "      <td>0</td>\n",
              "      <td>0</td>\n",
              "      <td>0</td>\n",
              "      <td>0</td>\n",
              "      <td>0</td>\n",
              "      <td>0</td>\n",
              "      <td>0</td>\n",
              "      <td>0</td>\n",
              "      <td>0</td>\n",
              "      <td>0</td>\n",
              "      <td>0</td>\n",
              "      <td>0</td>\n",
              "      <td>0</td>\n",
              "      <td>0</td>\n",
              "      <td>0</td>\n",
              "      <td>0</td>\n",
              "      <td>0</td>\n",
              "      <td>0</td>\n",
              "      <td>0</td>\n",
              "      <td>0</td>\n",
              "      <td>0</td>\n",
              "      <td>0</td>\n",
              "      <td>0</td>\n",
              "      <td>0</td>\n",
              "      <td>0</td>\n",
              "      <td>0</td>\n",
              "      <td>0</td>\n",
              "      <td>1851</td>\n",
              "      <td>43620</td>\n",
              "      <td>33</td>\n",
              "      <td>0</td>\n",
              "      <td>0.000</td>\n",
              "    </tr>\n",
              "    <tr>\n",
              "      <th>5045</th>\n",
              "      <td>0</td>\n",
              "      <td>1</td>\n",
              "      <td>0</td>\n",
              "      <td>0</td>\n",
              "      <td>0</td>\n",
              "      <td>0</td>\n",
              "      <td>0</td>\n",
              "      <td>1</td>\n",
              "      <td>15</td>\n",
              "      <td>5</td>\n",
              "      <td>518</td>\n",
              "      <td>0.011621</td>\n",
              "      <td>5</td>\n",
              "      <td>0</td>\n",
              "      <td>0</td>\n",
              "      <td>0</td>\n",
              "      <td>0</td>\n",
              "      <td>0</td>\n",
              "      <td>0</td>\n",
              "      <td>0</td>\n",
              "      <td>0</td>\n",
              "      <td>0</td>\n",
              "      <td>0</td>\n",
              "      <td>0</td>\n",
              "      <td>0</td>\n",
              "      <td>0</td>\n",
              "      <td>0</td>\n",
              "      <td>0</td>\n",
              "      <td>0</td>\n",
              "      <td>0</td>\n",
              "      <td>0</td>\n",
              "      <td>0</td>\n",
              "      <td>0</td>\n",
              "      <td>0</td>\n",
              "      <td>0</td>\n",
              "      <td>0</td>\n",
              "      <td>0</td>\n",
              "      <td>0</td>\n",
              "      <td>0</td>\n",
              "      <td>0</td>\n",
              "      <td>0</td>\n",
              "      <td>0</td>\n",
              "      <td>518</td>\n",
              "      <td>44609</td>\n",
              "      <td>5</td>\n",
              "      <td>0</td>\n",
              "      <td>0.000</td>\n",
              "    </tr>\n",
              "    <tr>\n",
              "      <th>5046</th>\n",
              "      <td>0</td>\n",
              "      <td>1</td>\n",
              "      <td>0</td>\n",
              "      <td>1</td>\n",
              "      <td>0</td>\n",
              "      <td>0</td>\n",
              "      <td>0</td>\n",
              "      <td>0</td>\n",
              "      <td>20</td>\n",
              "      <td>5</td>\n",
              "      <td>7752</td>\n",
              "      <td>0.176462</td>\n",
              "      <td>486</td>\n",
              "      <td>0</td>\n",
              "      <td>0</td>\n",
              "      <td>0</td>\n",
              "      <td>0</td>\n",
              "      <td>0</td>\n",
              "      <td>0</td>\n",
              "      <td>0</td>\n",
              "      <td>0</td>\n",
              "      <td>0</td>\n",
              "      <td>0</td>\n",
              "      <td>0</td>\n",
              "      <td>0</td>\n",
              "      <td>0</td>\n",
              "      <td>0</td>\n",
              "      <td>0</td>\n",
              "      <td>0</td>\n",
              "      <td>0</td>\n",
              "      <td>0</td>\n",
              "      <td>0</td>\n",
              "      <td>0</td>\n",
              "      <td>0</td>\n",
              "      <td>0</td>\n",
              "      <td>0</td>\n",
              "      <td>0</td>\n",
              "      <td>0</td>\n",
              "      <td>0</td>\n",
              "      <td>0</td>\n",
              "      <td>0</td>\n",
              "      <td>0</td>\n",
              "      <td>7752</td>\n",
              "      <td>43933</td>\n",
              "      <td>486</td>\n",
              "      <td>0</td>\n",
              "      <td>0.000</td>\n",
              "    </tr>\n",
              "    <tr>\n",
              "      <th>5047</th>\n",
              "      <td>0</td>\n",
              "      <td>1</td>\n",
              "      <td>0</td>\n",
              "      <td>0</td>\n",
              "      <td>0</td>\n",
              "      <td>0</td>\n",
              "      <td>0</td>\n",
              "      <td>1</td>\n",
              "      <td>17</td>\n",
              "      <td>5</td>\n",
              "      <td>2248</td>\n",
              "      <td>0.051198</td>\n",
              "      <td>53</td>\n",
              "      <td>0</td>\n",
              "      <td>0</td>\n",
              "      <td>0</td>\n",
              "      <td>0</td>\n",
              "      <td>0</td>\n",
              "      <td>0</td>\n",
              "      <td>0</td>\n",
              "      <td>0</td>\n",
              "      <td>0</td>\n",
              "      <td>0</td>\n",
              "      <td>0</td>\n",
              "      <td>0</td>\n",
              "      <td>0</td>\n",
              "      <td>0</td>\n",
              "      <td>0</td>\n",
              "      <td>0</td>\n",
              "      <td>0</td>\n",
              "      <td>0</td>\n",
              "      <td>0</td>\n",
              "      <td>0</td>\n",
              "      <td>0</td>\n",
              "      <td>0</td>\n",
              "      <td>0</td>\n",
              "      <td>0</td>\n",
              "      <td>0</td>\n",
              "      <td>0</td>\n",
              "      <td>0</td>\n",
              "      <td>0</td>\n",
              "      <td>0</td>\n",
              "      <td>2248</td>\n",
              "      <td>43920</td>\n",
              "      <td>53</td>\n",
              "      <td>0</td>\n",
              "      <td>0.000</td>\n",
              "    </tr>\n",
              "  </tbody>\n",
              "</table>\n",
              "<p>5040 rows × 47 columns</p>\n",
              "</div>"
            ],
            "text/plain": [
              "      col_0  col_1  ...  Hemizygote Count South Asian  oe_lof_upper\n",
              "0         0      0  ...                             0         1.145\n",
              "1         0      1  ...                             0         1.145\n",
              "2         0      0  ...                             0         1.145\n",
              "3         0      1  ...                             0         1.145\n",
              "4         0      0  ...                             0         0.534\n",
              "...     ...    ...  ...                           ...           ...\n",
              "5043      0      0  ...                             0         0.000\n",
              "5044      0      1  ...                             0         0.000\n",
              "5045      0      1  ...                             0         0.000\n",
              "5046      0      1  ...                             0         0.000\n",
              "5047      0      1  ...                             0         0.000\n",
              "\n",
              "[5040 rows x 47 columns]"
            ]
          },
          "metadata": {},
          "execution_count": 266
        }
      ]
    },
    {
      "cell_type": "code",
      "metadata": {
        "colab": {
          "base_uri": "https://localhost:8080/"
        },
        "id": "N3pCtbyXbrn4",
        "outputId": "1e77aea2-bd90-4f34-80e7-8352b7a898c6"
      },
      "source": [
        "df_X_transformed.info()"
      ],
      "execution_count": null,
      "outputs": [
        {
          "output_type": "stream",
          "name": "stdout",
          "text": [
            "<class 'pandas.core.frame.DataFrame'>\n",
            "Int64Index: 5040 entries, 0 to 5047\n",
            "Data columns (total 47 columns):\n",
            " #   Column                                     Non-Null Count  Dtype  \n",
            "---  ------                                     --------------  -----  \n",
            " 0   col_0                                      5040 non-null   int64  \n",
            " 1   col_1                                      5040 non-null   int64  \n",
            " 2   col_2                                      5040 non-null   int64  \n",
            " 3   col_3                                      5040 non-null   int64  \n",
            " 4   col_4                                      5040 non-null   int64  \n",
            " 5   col_5                                      5040 non-null   int64  \n",
            " 6   col_6                                      5040 non-null   int64  \n",
            " 7   col_7                                      5040 non-null   int64  \n",
            " 8   Chromosome                                 5040 non-null   int64  \n",
            " 9   VEP Annotation                             5040 non-null   int64  \n",
            " 10  Allele Count                               5040 non-null   int32  \n",
            " 11  Allele Frequency                           5040 non-null   float64\n",
            " 12  Homozygote Count                           5040 non-null   int32  \n",
            " 13  Hemizygote Count                           5040 non-null   int32  \n",
            " 14  Allele Count African/African-American      5040 non-null   int32  \n",
            " 15  Allele Number African/African-American     5040 non-null   int32  \n",
            " 16  Homozygote Count African/African-American  5040 non-null   int32  \n",
            " 17  Hemizygote Count African/African-American  5040 non-null   int32  \n",
            " 18  Allele Count Latino/Admixed American       5040 non-null   int32  \n",
            " 19  Allele Number Latino/Admixed American      5040 non-null   int32  \n",
            " 20  Homozygote Count Latino/Admixed American   5040 non-null   int32  \n",
            " 21  Hemizygote Count Latino/Admixed American   5040 non-null   int32  \n",
            " 22  Allele Count Ashkenazi Jewish              5040 non-null   int32  \n",
            " 23  Allele Number Ashkenazi Jewish             5040 non-null   int32  \n",
            " 24  Homozygote Count Ashkenazi Jewish          5040 non-null   int32  \n",
            " 25  Hemizygote Count Ashkenazi Jewish          5040 non-null   int32  \n",
            " 26  Allele Count East Asian                    5040 non-null   int32  \n",
            " 27  Allele Number East Asian                   5040 non-null   int32  \n",
            " 28  Homozygote Count East Asian                5040 non-null   int32  \n",
            " 29  Hemizygote Count East Asian                5040 non-null   int32  \n",
            " 30  Allele Count European (Finnish)            5040 non-null   int32  \n",
            " 31  Allele Number European (Finnish)           5040 non-null   int32  \n",
            " 32  Homozygote Count European (Finnish)        5040 non-null   int32  \n",
            " 33  Hemizygote Count European (Finnish)        5040 non-null   int32  \n",
            " 34  Allele Count European (non-Finnish)        5040 non-null   int32  \n",
            " 35  Allele Number European (non-Finnish)       5040 non-null   int32  \n",
            " 36  Homozygote Count European (non-Finnish)    5040 non-null   int32  \n",
            " 37  Hemizygote Count European (non-Finnish)    5040 non-null   int32  \n",
            " 38  Allele Count Other                         5040 non-null   int32  \n",
            " 39  Allele Number Other                        5040 non-null   int32  \n",
            " 40  Homozygote Count Other                     5040 non-null   int32  \n",
            " 41  Hemizygote Count Other                     5040 non-null   int32  \n",
            " 42  Allele Count South Asian                   5040 non-null   int32  \n",
            " 43  Allele Number South Asian                  5040 non-null   int32  \n",
            " 44  Homozygote Count South Asian               5040 non-null   int32  \n",
            " 45  Hemizygote Count South Asian               5040 non-null   int32  \n",
            " 46  oe_lof_upper                               5040 non-null   float64\n",
            "dtypes: float64(2), int32(35), int64(10)\n",
            "memory usage: 1.2 MB\n"
          ]
        }
      ]
    },
    {
      "cell_type": "code",
      "metadata": {
        "colab": {
          "base_uri": "https://localhost:8080/"
        },
        "id": "isMkZydib1nQ",
        "outputId": "b27b45da-1a1f-49a8-f4be-96acddf20936"
      },
      "source": [
        "df_y.value_counts()"
      ],
      "execution_count": null,
      "outputs": [
        {
          "output_type": "execute_result",
          "data": {
            "text/plain": [
              "ClinVar Clinical Significance\n",
              "2                                3028\n",
              "1                                1175\n",
              "0                                 837\n",
              "dtype: int64"
            ]
          },
          "metadata": {},
          "execution_count": 268
        }
      ]
    },
    {
      "cell_type": "markdown",
      "metadata": {
        "id": "evm5qf_P4fu2"
      },
      "source": [
        "Save the processed data to google drive"
      ]
    },
    {
      "cell_type": "code",
      "metadata": {
        "id": "Jy-u-ODqcLaU"
      },
      "source": [
        "df_X_transformed.to_csv(\"/content/drive/MyDrive/MSc-project-lof/df_X_iter3_v1_transformed_ready to train.csv\", index=False)\n",
        "df_y.to_csv(\"/content/drive/MyDrive/MSc-project-lof/df_y_iter3_v1_transformed_ready to train.csv\", index=False)"
      ],
      "execution_count": null,
      "outputs": []
    }
  ]
}