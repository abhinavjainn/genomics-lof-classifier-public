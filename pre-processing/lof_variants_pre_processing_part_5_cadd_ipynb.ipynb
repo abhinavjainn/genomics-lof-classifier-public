{
  "nbformat": 4,
  "nbformat_minor": 0,
  "metadata": {
    "colab": {
      "name": "lof_variants_pre_processing_part_5_cadd.ipynb.ipynb",
      "provenance": []
    },
    "kernelspec": {
      "name": "python3",
      "display_name": "Python 3"
    },
    "language_info": {
      "name": "python"
    }
  },
  "cells": [
    {
      "cell_type": "markdown",
      "metadata": {
        "id": "Ru4Csnnl1rPV"
      },
      "source": [
        "Import libararies and mount google drive storage."
      ]
    },
    {
      "cell_type": "code",
      "metadata": {
        "colab": {
          "base_uri": "https://localhost:8080/"
        },
        "id": "Fs3yGE6X-jhW",
        "outputId": "6b195bce-8a1d-418b-ddcc-560c4406fe1b"
      },
      "source": [
        "import pandas as pd\n",
        "from google.colab import drive\n",
        "drive.mount('/content/drive')"
      ],
      "execution_count": null,
      "outputs": [
        {
          "output_type": "stream",
          "name": "stdout",
          "text": [
            "Mounted at /content/drive\n"
          ]
        }
      ]
    },
    {
      "cell_type": "markdown",
      "metadata": {
        "id": "SV0trDi91xXP"
      },
      "source": [
        "Load raw gnomAD and ELGH combined data."
      ]
    },
    {
      "cell_type": "code",
      "metadata": {
        "id": "N2caCpV6-rk1"
      },
      "source": [
        "df_comb_el_gnomad = pd.read_csv(\"/content/drive/MyDrive/MSc-project-lof/df_comb_el_gnomad_before tranform for train.csv\")"
      ],
      "execution_count": null,
      "outputs": []
    },
    {
      "cell_type": "markdown",
      "metadata": {
        "id": "9hD68OEA2Euy"
      },
      "source": [
        "Load  CADD annotations for indels."
      ]
    },
    {
      "cell_type": "code",
      "metadata": {
        "id": "Ocku6SlQJ37G"
      },
      "source": [
        "df_cadd_indel = pd.read_csv(\"/content/drive/MyDrive/MSc-project-lof/gnomad.genomes.r2.1.1.indel_cadd.tsv\",sep='\\t')"
      ],
      "execution_count": null,
      "outputs": []
    },
    {
      "cell_type": "code",
      "metadata": {
        "colab": {
          "base_uri": "https://localhost:8080/",
          "height": 224
        },
        "id": "3ACNaDY4KLyZ",
        "outputId": "60c68bb6-c800-47ad-c7c2-ecc3696bee99"
      },
      "source": [
        "df_cadd_indel.head()"
      ],
      "execution_count": null,
      "outputs": [
        {
          "output_type": "execute_result",
          "data": {
            "text/html": [
              "<div>\n",
              "<style scoped>\n",
              "    .dataframe tbody tr th:only-of-type {\n",
              "        vertical-align: middle;\n",
              "    }\n",
              "\n",
              "    .dataframe tbody tr th {\n",
              "        vertical-align: top;\n",
              "    }\n",
              "\n",
              "    .dataframe thead th {\n",
              "        text-align: right;\n",
              "    }\n",
              "</style>\n",
              "<table border=\"1\" class=\"dataframe\">\n",
              "  <thead>\n",
              "    <tr style=\"text-align: right;\">\n",
              "      <th></th>\n",
              "      <th>#Chrom</th>\n",
              "      <th>Pos</th>\n",
              "      <th>Ref</th>\n",
              "      <th>Alt</th>\n",
              "      <th>RawScore</th>\n",
              "      <th>PHRED</th>\n",
              "    </tr>\n",
              "  </thead>\n",
              "  <tbody>\n",
              "    <tr>\n",
              "      <th>0</th>\n",
              "      <td>1</td>\n",
              "      <td>10067</td>\n",
              "      <td>T</td>\n",
              "      <td>TAACCCTAACCCTAACCCTAACCCTAACCCTAACCCTAACCC</td>\n",
              "      <td>-0.259293</td>\n",
              "      <td>0.483</td>\n",
              "    </tr>\n",
              "    <tr>\n",
              "      <th>1</th>\n",
              "      <td>1</td>\n",
              "      <td>10108</td>\n",
              "      <td>CAACCCT</td>\n",
              "      <td>C</td>\n",
              "      <td>-0.066959</td>\n",
              "      <td>1.743</td>\n",
              "    </tr>\n",
              "    <tr>\n",
              "      <th>2</th>\n",
              "      <td>1</td>\n",
              "      <td>10109</td>\n",
              "      <td>AACCCT</td>\n",
              "      <td>A</td>\n",
              "      <td>-0.063097</td>\n",
              "      <td>1.787</td>\n",
              "    </tr>\n",
              "    <tr>\n",
              "      <th>3</th>\n",
              "      <td>1</td>\n",
              "      <td>10119</td>\n",
              "      <td>CT</td>\n",
              "      <td>C</td>\n",
              "      <td>-0.104301</td>\n",
              "      <td>1.367</td>\n",
              "    </tr>\n",
              "    <tr>\n",
              "      <th>4</th>\n",
              "      <td>1</td>\n",
              "      <td>10128</td>\n",
              "      <td>ACCCTAACCCTAACCCTAAC</td>\n",
              "      <td>A</td>\n",
              "      <td>-0.171410</td>\n",
              "      <td>0.870</td>\n",
              "    </tr>\n",
              "  </tbody>\n",
              "</table>\n",
              "</div>"
            ],
            "text/plain": [
              "  #Chrom    Pos  ...  RawScore  PHRED\n",
              "0      1  10067  ... -0.259293  0.483\n",
              "1      1  10108  ... -0.066959  1.743\n",
              "2      1  10109  ... -0.063097  1.787\n",
              "3      1  10119  ... -0.104301  1.367\n",
              "4      1  10128  ... -0.171410  0.870\n",
              "\n",
              "[5 rows x 6 columns]"
            ]
          },
          "metadata": {},
          "execution_count": 86
        }
      ]
    },
    {
      "cell_type": "code",
      "metadata": {
        "colab": {
          "base_uri": "https://localhost:8080/"
        },
        "id": "fE8B-xZoM-Rg",
        "outputId": "2e7c9eb9-e139-43ec-d1dc-001eb0ef3ab3"
      },
      "source": [
        "df_cadd_indel.info()"
      ],
      "execution_count": null,
      "outputs": [
        {
          "output_type": "stream",
          "name": "stdout",
          "text": [
            "<class 'pandas.core.frame.DataFrame'>\n",
            "RangeIndex: 32847037 entries, 0 to 32847036\n",
            "Data columns (total 6 columns):\n",
            " #   Column    Dtype  \n",
            "---  ------    -----  \n",
            " 0   #Chrom    object \n",
            " 1   Pos       int64  \n",
            " 2   Ref       object \n",
            " 3   Alt       object \n",
            " 4   RawScore  float64\n",
            " 5   PHRED     float64\n",
            "dtypes: float64(2), int64(1), object(3)\n",
            "memory usage: 1.5+ GB\n"
          ]
        }
      ]
    },
    {
      "cell_type": "code",
      "metadata": {
        "id": "uHSYU8vTb76T"
      },
      "source": [
        "df_cadd_indel.drop(\"RawScore\",axis=1,inplace=True)"
      ],
      "execution_count": null,
      "outputs": []
    },
    {
      "cell_type": "code",
      "metadata": {
        "id": "Sds6x8IAcI1c",
        "colab": {
          "base_uri": "https://localhost:8080/"
        },
        "outputId": "29236cfd-f4b0-485a-ea57-ec9a08842127"
      },
      "source": [
        "df_cadd_indel.info()"
      ],
      "execution_count": null,
      "outputs": [
        {
          "output_type": "stream",
          "name": "stdout",
          "text": [
            "<class 'pandas.core.frame.DataFrame'>\n",
            "RangeIndex: 32847037 entries, 0 to 32847036\n",
            "Data columns (total 5 columns):\n",
            " #   Column  Dtype  \n",
            "---  ------  -----  \n",
            " 0   #Chrom  object \n",
            " 1   Pos     int64  \n",
            " 2   Ref     object \n",
            " 3   Alt     object \n",
            " 4   PHRED   float64\n",
            "dtypes: float64(1), int64(1), object(3)\n",
            "memory usage: 1.2+ GB\n"
          ]
        }
      ]
    },
    {
      "cell_type": "code",
      "metadata": {
        "colab": {
          "base_uri": "https://localhost:8080/",
          "height": 439
        },
        "id": "JGe_2nCEfIQV",
        "outputId": "20150646-c368-4421-a5a8-7edfa3e6cb56"
      },
      "source": [
        "df_cadd_indel.rename(columns={\"#Chrom\": \"Chromosome\",\n",
        "                              \"Pos\": \"Position\",\n",
        "                              \"Ref\": \"Reference\",\n",
        "                              \"Alt\": \"Alternate\"},inplace=True)\n",
        "df_cadd_indel"
      ],
      "execution_count": null,
      "outputs": [
        {
          "output_type": "execute_result",
          "data": {
            "text/html": [
              "<div>\n",
              "<style scoped>\n",
              "    .dataframe tbody tr th:only-of-type {\n",
              "        vertical-align: middle;\n",
              "    }\n",
              "\n",
              "    .dataframe tbody tr th {\n",
              "        vertical-align: top;\n",
              "    }\n",
              "\n",
              "    .dataframe thead th {\n",
              "        text-align: right;\n",
              "    }\n",
              "</style>\n",
              "<table border=\"1\" class=\"dataframe\">\n",
              "  <thead>\n",
              "    <tr style=\"text-align: right;\">\n",
              "      <th></th>\n",
              "      <th>Chromosome</th>\n",
              "      <th>Position</th>\n",
              "      <th>Reference</th>\n",
              "      <th>Alternate</th>\n",
              "      <th>PHRED</th>\n",
              "    </tr>\n",
              "  </thead>\n",
              "  <tbody>\n",
              "    <tr>\n",
              "      <th>0</th>\n",
              "      <td>1</td>\n",
              "      <td>10067</td>\n",
              "      <td>T</td>\n",
              "      <td>TAACCCTAACCCTAACCCTAACCCTAACCCTAACCCTAACCC</td>\n",
              "      <td>0.483</td>\n",
              "    </tr>\n",
              "    <tr>\n",
              "      <th>1</th>\n",
              "      <td>1</td>\n",
              "      <td>10108</td>\n",
              "      <td>CAACCCT</td>\n",
              "      <td>C</td>\n",
              "      <td>1.743</td>\n",
              "    </tr>\n",
              "    <tr>\n",
              "      <th>2</th>\n",
              "      <td>1</td>\n",
              "      <td>10109</td>\n",
              "      <td>AACCCT</td>\n",
              "      <td>A</td>\n",
              "      <td>1.787</td>\n",
              "    </tr>\n",
              "    <tr>\n",
              "      <th>3</th>\n",
              "      <td>1</td>\n",
              "      <td>10119</td>\n",
              "      <td>CT</td>\n",
              "      <td>C</td>\n",
              "      <td>1.367</td>\n",
              "    </tr>\n",
              "    <tr>\n",
              "      <th>4</th>\n",
              "      <td>1</td>\n",
              "      <td>10128</td>\n",
              "      <td>ACCCTAACCCTAACCCTAAC</td>\n",
              "      <td>A</td>\n",
              "      <td>0.870</td>\n",
              "    </tr>\n",
              "    <tr>\n",
              "      <th>...</th>\n",
              "      <td>...</td>\n",
              "      <td>...</td>\n",
              "      <td>...</td>\n",
              "      <td>...</td>\n",
              "      <td>...</td>\n",
              "    </tr>\n",
              "    <tr>\n",
              "      <th>32847032</th>\n",
              "      <td>X</td>\n",
              "      <td>155260465</td>\n",
              "      <td>T</td>\n",
              "      <td>TTAGGGTTAGGGTTAGGGTTA</td>\n",
              "      <td>1.663</td>\n",
              "    </tr>\n",
              "    <tr>\n",
              "      <th>32847033</th>\n",
              "      <td>X</td>\n",
              "      <td>155260465</td>\n",
              "      <td>TG</td>\n",
              "      <td>T</td>\n",
              "      <td>2.584</td>\n",
              "    </tr>\n",
              "    <tr>\n",
              "      <th>32847034</th>\n",
              "      <td>X</td>\n",
              "      <td>155260467</td>\n",
              "      <td>T</td>\n",
              "      <td>TTA</td>\n",
              "      <td>2.633</td>\n",
              "    </tr>\n",
              "    <tr>\n",
              "      <th>32847035</th>\n",
              "      <td>X</td>\n",
              "      <td>155260469</td>\n",
              "      <td>GTGT</td>\n",
              "      <td>G</td>\n",
              "      <td>2.578</td>\n",
              "    </tr>\n",
              "    <tr>\n",
              "      <th>32847036</th>\n",
              "      <td>X</td>\n",
              "      <td>155260474</td>\n",
              "      <td>T</td>\n",
              "      <td>TTA</td>\n",
              "      <td>2.662</td>\n",
              "    </tr>\n",
              "  </tbody>\n",
              "</table>\n",
              "<p>32847037 rows × 5 columns</p>\n",
              "</div>"
            ],
            "text/plain": [
              "         Chromosome  ...  PHRED\n",
              "0                 1  ...  0.483\n",
              "1                 1  ...  1.743\n",
              "2                 1  ...  1.787\n",
              "3                 1  ...  1.367\n",
              "4                 1  ...  0.870\n",
              "...             ...  ...    ...\n",
              "32847032          X  ...  1.663\n",
              "32847033          X  ...  2.584\n",
              "32847034          X  ...  2.633\n",
              "32847035          X  ...  2.578\n",
              "32847036          X  ...  2.662\n",
              "\n",
              "[32847037 rows x 5 columns]"
            ]
          },
          "metadata": {},
          "execution_count": 115
        }
      ]
    },
    {
      "cell_type": "code",
      "metadata": {
        "colab": {
          "base_uri": "https://localhost:8080/"
        },
        "id": "9VWgLfEn9mlw",
        "outputId": "011ced9f-31a2-4861-a105-fa58b6188920"
      },
      "source": [
        "df_cadd_indel.info()"
      ],
      "execution_count": null,
      "outputs": [
        {
          "output_type": "stream",
          "name": "stdout",
          "text": [
            "<class 'pandas.core.frame.DataFrame'>\n",
            "RangeIndex: 32847037 entries, 0 to 32847036\n",
            "Data columns (total 5 columns):\n",
            " #   Column      Dtype  \n",
            "---  ------      -----  \n",
            " 0   Chromosome  object \n",
            " 1   Position    int64  \n",
            " 2   Reference   object \n",
            " 3   Alternate   object \n",
            " 4   PHRED       float64\n",
            "dtypes: float64(1), int64(1), object(3)\n",
            "memory usage: 1.2+ GB\n"
          ]
        }
      ]
    },
    {
      "cell_type": "markdown",
      "metadata": {
        "id": "PGE6OpiB4kN8"
      },
      "source": [
        "Perform join between variants data and CADD annotations for indels."
      ]
    },
    {
      "cell_type": "code",
      "metadata": {
        "id": "nRDWdlGxc4NQ"
      },
      "source": [
        "df_comb_el_gnomad = pd.merge(df_comb_el_gnomad,df_cadd_indel,how='left',\n",
        "                             left_on=['Chromosome','Position','Reference','Alternate'],\n",
        "                             right_on=['Chromosome','Position','Reference','Alternate'])"
      ],
      "execution_count": null,
      "outputs": []
    },
    {
      "cell_type": "markdown",
      "metadata": {
        "id": "o0IkbRKn4vYL"
      },
      "source": [
        "CADD annotation was found only for 5 variants."
      ]
    },
    {
      "cell_type": "code",
      "metadata": {
        "colab": {
          "base_uri": "https://localhost:8080/"
        },
        "id": "lni2G5N7JeEg",
        "outputId": "8083255e-de17-434b-97b5-b151857fdceb"
      },
      "source": [
        "df_comb_el_gnomad.info()"
      ],
      "execution_count": null,
      "outputs": [
        {
          "output_type": "stream",
          "name": "stdout",
          "text": [
            "<class 'pandas.core.frame.DataFrame'>\n",
            "Int64Index: 5040 entries, 0 to 5039\n",
            "Data columns (total 44 columns):\n",
            " #   Column                                     Non-Null Count  Dtype  \n",
            "---  ------                                     --------------  -----  \n",
            " 0   Chromosome                                 5040 non-null   object \n",
            " 1   Position                                   5040 non-null   float64\n",
            " 2   Reference                                  5040 non-null   object \n",
            " 3   Alternate                                  5040 non-null   object \n",
            " 4   VEP Annotation                             5040 non-null   object \n",
            " 5   ClinVar Clinical Significance              5040 non-null   object \n",
            " 6   Allele Count                               5040 non-null   float64\n",
            " 7   Allele Frequency                           5040 non-null   float64\n",
            " 8   Homozygote Count                           5040 non-null   int64  \n",
            " 9   Hemizygote Count                           5040 non-null   int64  \n",
            " 10  Allele Count African/African-American      5040 non-null   int64  \n",
            " 11  Allele Number African/African-American     5040 non-null   int64  \n",
            " 12  Homozygote Count African/African-American  5040 non-null   int64  \n",
            " 13  Hemizygote Count African/African-American  5040 non-null   int64  \n",
            " 14  Allele Count Latino/Admixed American       5040 non-null   int64  \n",
            " 15  Allele Number Latino/Admixed American      5040 non-null   int64  \n",
            " 16  Homozygote Count Latino/Admixed American   5040 non-null   int64  \n",
            " 17  Hemizygote Count Latino/Admixed American   5040 non-null   int64  \n",
            " 18  Allele Count Ashkenazi Jewish              5040 non-null   int64  \n",
            " 19  Allele Number Ashkenazi Jewish             5040 non-null   int64  \n",
            " 20  Homozygote Count Ashkenazi Jewish          5040 non-null   int64  \n",
            " 21  Hemizygote Count Ashkenazi Jewish          5040 non-null   int64  \n",
            " 22  Allele Count East Asian                    5040 non-null   int64  \n",
            " 23  Allele Number East Asian                   5040 non-null   int64  \n",
            " 24  Homozygote Count East Asian                5040 non-null   int64  \n",
            " 25  Hemizygote Count East Asian                5040 non-null   int64  \n",
            " 26  Allele Count European (Finnish)            5040 non-null   int64  \n",
            " 27  Allele Number European (Finnish)           5040 non-null   int64  \n",
            " 28  Homozygote Count European (Finnish)        5040 non-null   int64  \n",
            " 29  Hemizygote Count European (Finnish)        5040 non-null   int64  \n",
            " 30  Allele Count European (non-Finnish)        5040 non-null   int64  \n",
            " 31  Allele Number European (non-Finnish)       5040 non-null   int64  \n",
            " 32  Homozygote Count European (non-Finnish)    5040 non-null   int64  \n",
            " 33  Hemizygote Count European (non-Finnish)    5040 non-null   int64  \n",
            " 34  Allele Count Other                         5040 non-null   int64  \n",
            " 35  Allele Number Other                        5040 non-null   int64  \n",
            " 36  Homozygote Count Other                     5040 non-null   int64  \n",
            " 37  Hemizygote Count Other                     5040 non-null   int64  \n",
            " 38  Allele Count South Asian                   5040 non-null   float64\n",
            " 39  Allele Number South Asian                  5040 non-null   float64\n",
            " 40  Homozygote Count South Asian               5040 non-null   int64  \n",
            " 41  Hemizygote Count South Asian               5040 non-null   int64  \n",
            " 42  oe_lof_upper                               5040 non-null   float64\n",
            " 43  PHRED                                      5 non-null      float64\n",
            "dtypes: float64(7), int64(32), object(5)\n",
            "memory usage: 1.7+ MB\n"
          ]
        }
      ]
    },
    {
      "cell_type": "markdown",
      "metadata": {
        "id": "yjb5DpHm4_xh"
      },
      "source": [
        "Load part-1 of CADD annotation for SNVs"
      ]
    },
    {
      "cell_type": "code",
      "metadata": {
        "id": "tecqLk3pKv_v"
      },
      "source": [
        "df_cadd_snv_part1 = pd.read_csv(\"/content/drive/MyDrive/MSc-project-lof/gnomad.genomes.r2.1.1.snv_cadd_part1.tsv\",sep='\\t')"
      ],
      "execution_count": null,
      "outputs": []
    },
    {
      "cell_type": "code",
      "metadata": {
        "colab": {
          "base_uri": "https://localhost:8080/"
        },
        "id": "jJcyINCqrSYn",
        "outputId": "e763e3df-8a14-4aa2-ddef-5f9d9198d89f"
      },
      "source": [
        "df_cadd_snv_part1.info()"
      ],
      "execution_count": null,
      "outputs": [
        {
          "output_type": "stream",
          "name": "stdout",
          "text": [
            "<class 'pandas.core.frame.DataFrame'>\n",
            "RangeIndex: 114285105 entries, 0 to 114285104\n",
            "Data columns (total 6 columns):\n",
            " #   Column    Dtype  \n",
            "---  ------    -----  \n",
            " 0   #Chrom    int64  \n",
            " 1   Pos       int64  \n",
            " 2   Ref       object \n",
            " 3   Alt       object \n",
            " 4   RawScore  float64\n",
            " 5   PHRED     float64\n",
            "dtypes: float64(2), int64(2), object(2)\n",
            "memory usage: 5.1+ GB\n"
          ]
        }
      ]
    },
    {
      "cell_type": "code",
      "metadata": {
        "id": "ar1wrq3ZEHYD"
      },
      "source": [
        "df_cadd_snv_part1.drop(\"RawScore\",axis=1,inplace=True)"
      ],
      "execution_count": null,
      "outputs": []
    },
    {
      "cell_type": "code",
      "metadata": {
        "colab": {
          "base_uri": "https://localhost:8080/"
        },
        "id": "pPiCNpJ5ERGv",
        "outputId": "72cc740f-a256-40bd-e0d1-b9327c7bdd2e"
      },
      "source": [
        "df_cadd_snv_part1.info()"
      ],
      "execution_count": null,
      "outputs": [
        {
          "output_type": "stream",
          "name": "stdout",
          "text": [
            "<class 'pandas.core.frame.DataFrame'>\n",
            "RangeIndex: 114285105 entries, 0 to 114285104\n",
            "Data columns (total 5 columns):\n",
            " #   Column  Dtype  \n",
            "---  ------  -----  \n",
            " 0   #Chrom  int64  \n",
            " 1   Pos     int64  \n",
            " 2   Ref     object \n",
            " 3   Alt     object \n",
            " 4   PHRED   float64\n",
            "dtypes: float64(1), int64(2), object(2)\n",
            "memory usage: 4.3+ GB\n"
          ]
        }
      ]
    },
    {
      "cell_type": "code",
      "metadata": {
        "id": "6OiT385TtJUF"
      },
      "source": [
        "df_cadd_snv_part1.rename(columns={\"#Chrom\": \"Chromosome\",\n",
        "                              \"Pos\": \"Position\",\n",
        "                              \"Ref\": \"Reference\",\n",
        "                              \"Alt\": \"Alternate\"},inplace=True)"
      ],
      "execution_count": null,
      "outputs": []
    },
    {
      "cell_type": "code",
      "metadata": {
        "colab": {
          "base_uri": "https://localhost:8080/"
        },
        "id": "H_AMi7i-EdhW",
        "outputId": "05ee2870-9a44-4fab-c68d-06a53533c0d5"
      },
      "source": [
        "df_cadd_snv_part1.info()"
      ],
      "execution_count": null,
      "outputs": [
        {
          "output_type": "stream",
          "name": "stdout",
          "text": [
            "<class 'pandas.core.frame.DataFrame'>\n",
            "RangeIndex: 114285105 entries, 0 to 114285104\n",
            "Data columns (total 5 columns):\n",
            " #   Column      Dtype  \n",
            "---  ------      -----  \n",
            " 0   Chromosome  int64  \n",
            " 1   Position    int64  \n",
            " 2   Reference   object \n",
            " 3   Alternate   object \n",
            " 4   PHRED       float64\n",
            "dtypes: float64(1), int64(2), object(2)\n",
            "memory usage: 4.3+ GB\n"
          ]
        }
      ]
    },
    {
      "cell_type": "code",
      "metadata": {
        "id": "ffZwxypKEz2R"
      },
      "source": [
        "dict_astype = {\"Chromosome\":\"object\",\"Position\":\"float64\",}"
      ],
      "execution_count": null,
      "outputs": []
    },
    {
      "cell_type": "code",
      "metadata": {
        "id": "FeV6oI45FIgF"
      },
      "source": [
        "df_cadd_snv_part1 = df_cadd_snv_part1.astype(dict_astype)"
      ],
      "execution_count": null,
      "outputs": []
    },
    {
      "cell_type": "markdown",
      "metadata": {
        "id": "J3MUGCq55I2L"
      },
      "source": [
        "Perform join between variants data and CADD annotations for SNVs part1."
      ]
    },
    {
      "cell_type": "code",
      "metadata": {
        "id": "Pvv4LwPRCxxh"
      },
      "source": [
        "df_comb_el_gnomad = pd.merge(df_comb_el_gnomad,df_cadd_snv_part1,how='left',\n",
        "                             left_on=['Chromosome','Position','Reference','Alternate'],\n",
        "                             right_on=['Chromosome','Position','Reference','Alternate'])"
      ],
      "execution_count": null,
      "outputs": []
    },
    {
      "cell_type": "markdown",
      "metadata": {
        "id": "7M6-wmQH533w"
      },
      "source": [
        "CADD annotation was not found for any variant on part 1 data as PHRED still has 5 non null values which were fetched using indels data."
      ]
    },
    {
      "cell_type": "code",
      "metadata": {
        "colab": {
          "base_uri": "https://localhost:8080/"
        },
        "id": "ad2HATTWC-Z3",
        "outputId": "a15fa5e1-d13d-460d-c6ba-0448a680bf84"
      },
      "source": [
        "df_comb_el_gnomad.info()"
      ],
      "execution_count": null,
      "outputs": [
        {
          "output_type": "stream",
          "name": "stdout",
          "text": [
            "<class 'pandas.core.frame.DataFrame'>\n",
            "Int64Index: 5040 entries, 0 to 5039\n",
            "Data columns (total 45 columns):\n",
            " #   Column                                     Non-Null Count  Dtype  \n",
            "---  ------                                     --------------  -----  \n",
            " 0   Chromosome                                 5040 non-null   object \n",
            " 1   Position                                   5040 non-null   float64\n",
            " 2   Reference                                  5040 non-null   object \n",
            " 3   Alternate                                  5040 non-null   object \n",
            " 4   VEP Annotation                             5040 non-null   object \n",
            " 5   ClinVar Clinical Significance              5040 non-null   object \n",
            " 6   Allele Count                               5040 non-null   float64\n",
            " 7   Allele Frequency                           5040 non-null   float64\n",
            " 8   Homozygote Count                           5040 non-null   int64  \n",
            " 9   Hemizygote Count                           5040 non-null   int64  \n",
            " 10  Allele Count African/African-American      5040 non-null   int64  \n",
            " 11  Allele Number African/African-American     5040 non-null   int64  \n",
            " 12  Homozygote Count African/African-American  5040 non-null   int64  \n",
            " 13  Hemizygote Count African/African-American  5040 non-null   int64  \n",
            " 14  Allele Count Latino/Admixed American       5040 non-null   int64  \n",
            " 15  Allele Number Latino/Admixed American      5040 non-null   int64  \n",
            " 16  Homozygote Count Latino/Admixed American   5040 non-null   int64  \n",
            " 17  Hemizygote Count Latino/Admixed American   5040 non-null   int64  \n",
            " 18  Allele Count Ashkenazi Jewish              5040 non-null   int64  \n",
            " 19  Allele Number Ashkenazi Jewish             5040 non-null   int64  \n",
            " 20  Homozygote Count Ashkenazi Jewish          5040 non-null   int64  \n",
            " 21  Hemizygote Count Ashkenazi Jewish          5040 non-null   int64  \n",
            " 22  Allele Count East Asian                    5040 non-null   int64  \n",
            " 23  Allele Number East Asian                   5040 non-null   int64  \n",
            " 24  Homozygote Count East Asian                5040 non-null   int64  \n",
            " 25  Hemizygote Count East Asian                5040 non-null   int64  \n",
            " 26  Allele Count European (Finnish)            5040 non-null   int64  \n",
            " 27  Allele Number European (Finnish)           5040 non-null   int64  \n",
            " 28  Homozygote Count European (Finnish)        5040 non-null   int64  \n",
            " 29  Hemizygote Count European (Finnish)        5040 non-null   int64  \n",
            " 30  Allele Count European (non-Finnish)        5040 non-null   int64  \n",
            " 31  Allele Number European (non-Finnish)       5040 non-null   int64  \n",
            " 32  Homozygote Count European (non-Finnish)    5040 non-null   int64  \n",
            " 33  Hemizygote Count European (non-Finnish)    5040 non-null   int64  \n",
            " 34  Allele Count Other                         5040 non-null   int64  \n",
            " 35  Allele Number Other                        5040 non-null   int64  \n",
            " 36  Homozygote Count Other                     5040 non-null   int64  \n",
            " 37  Hemizygote Count Other                     5040 non-null   int64  \n",
            " 38  Allele Count South Asian                   5040 non-null   float64\n",
            " 39  Allele Number South Asian                  5040 non-null   float64\n",
            " 40  Homozygote Count South Asian               5040 non-null   int64  \n",
            " 41  Hemizygote Count South Asian               5040 non-null   int64  \n",
            " 42  oe_lof_upper                               5040 non-null   float64\n",
            " 43  PHRED_x                                    5 non-null      float64\n",
            " 44  PHRED_y                                    0 non-null      float64\n",
            "dtypes: float64(8), int64(32), object(5)\n",
            "memory usage: 1.8+ MB\n"
          ]
        }
      ]
    },
    {
      "cell_type": "code",
      "metadata": {
        "id": "FfAum3iGObc-"
      },
      "source": [
        "# free up RAM\n",
        "del df_cadd_snv_part1"
      ],
      "execution_count": null,
      "outputs": []
    },
    {
      "cell_type": "markdown",
      "metadata": {
        "id": "w-0XXNOn5dOz"
      },
      "source": [
        "Read part 2 of SNV CADD annotations."
      ]
    },
    {
      "cell_type": "code",
      "metadata": {
        "colab": {
          "base_uri": "https://localhost:8080/"
        },
        "id": "LqUcTh7_EtM6",
        "outputId": "c1d484e0-11d4-4285-de61-29661d9e0227"
      },
      "source": [
        "df_cadd_snv_part2 = pd.read_csv(\"/content/drive/MyDrive/MSc-project-lof/gnomad.genomes.r2.1.1.snv_cadd_part2.tsv\",sep='\\t',\n",
        "                                header=None)"
      ],
      "execution_count": null,
      "outputs": [
        {
          "output_type": "stream",
          "name": "stderr",
          "text": [
            "/usr/local/lib/python3.7/dist-packages/IPython/core/interactiveshell.py:2718: DtypeWarning: Columns (0) have mixed types.Specify dtype option on import or set low_memory=False.\n",
            "  interactivity=interactivity, compiler=compiler, result=result)\n"
          ]
        }
      ]
    },
    {
      "cell_type": "code",
      "metadata": {
        "id": "tfSY-85TdpQR"
      },
      "source": [
        "df_cadd_snv_part2.columns = [\"Chromosome\",\t\"Position\",\t\"Reference\",\t\"Alternate\",\"RAW\", \"PHRED\"\t]"
      ],
      "execution_count": null,
      "outputs": []
    },
    {
      "cell_type": "code",
      "metadata": {
        "colab": {
          "base_uri": "https://localhost:8080/"
        },
        "id": "yKJ_AOEHM6ao",
        "outputId": "8e6bacf9-414d-4e1e-90a7-5fc55c8333cc"
      },
      "source": [
        "df_cadd_snv_part2.info()"
      ],
      "execution_count": null,
      "outputs": [
        {
          "output_type": "stream",
          "name": "stdout",
          "text": [
            "<class 'pandas.core.frame.DataFrame'>\n",
            "RangeIndex: 114285107 entries, 0 to 114285106\n",
            "Data columns (total 6 columns):\n",
            " #   Column      Dtype  \n",
            "---  ------      -----  \n",
            " 0   Chromosome  object \n",
            " 1   Position    int64  \n",
            " 2   Reference   object \n",
            " 3   Alternate   object \n",
            " 4   RAW         float64\n",
            " 5   PHRED       float64\n",
            "dtypes: float64(2), int64(1), object(3)\n",
            "memory usage: 5.1+ GB\n"
          ]
        }
      ]
    },
    {
      "cell_type": "code",
      "metadata": {
        "id": "-QKLfIuhN0eQ"
      },
      "source": [
        "df_cadd_snv_part2.drop(\"RAW\",axis=1,inplace=True)"
      ],
      "execution_count": null,
      "outputs": []
    },
    {
      "cell_type": "code",
      "metadata": {
        "colab": {
          "base_uri": "https://localhost:8080/"
        },
        "id": "9xrl2rPRN3c2",
        "outputId": "4d043914-48a4-4f76-ba34-d71380fda54e"
      },
      "source": [
        "df_cadd_snv_part2.info()"
      ],
      "execution_count": null,
      "outputs": [
        {
          "output_type": "stream",
          "name": "stdout",
          "text": [
            "<class 'pandas.core.frame.DataFrame'>\n",
            "RangeIndex: 114285107 entries, 0 to 114285106\n",
            "Data columns (total 5 columns):\n",
            " #   Column      Dtype  \n",
            "---  ------      -----  \n",
            " 0   Chromosome  object \n",
            " 1   Position    int64  \n",
            " 2   Reference   object \n",
            " 3   Alternate   object \n",
            " 4   PHRED       float64\n",
            "dtypes: float64(1), int64(1), object(3)\n",
            "memory usage: 4.3+ GB\n"
          ]
        }
      ]
    },
    {
      "cell_type": "code",
      "metadata": {
        "id": "JSiq2V_WeZRp"
      },
      "source": [
        "dict_astype = {\"Chromosome\":\"object\",\"Position\":\"float64\",}"
      ],
      "execution_count": null,
      "outputs": []
    },
    {
      "cell_type": "code",
      "metadata": {
        "id": "nxUx2pNEecwE"
      },
      "source": [
        "df_cadd_snv_part2 = df_cadd_snv_part2.astype(dict_astype)     "
      ],
      "execution_count": null,
      "outputs": []
    },
    {
      "cell_type": "markdown",
      "metadata": {
        "id": "aHEMIqmd5i2P"
      },
      "source": [
        "Perform join between variants data and CADD annotations for SNVs part2."
      ]
    },
    {
      "cell_type": "code",
      "metadata": {
        "id": "xfi-GGA-eeQT"
      },
      "source": [
        "df_comb_el_gnomad = pd.merge(df_comb_el_gnomad,df_cadd_snv_part2,how='left',\n",
        "                             left_on=['Chromosome','Position','Reference','Alternate'],\n",
        "                             right_on=['Chromosome','Position','Reference','Alternate'])"
      ],
      "execution_count": null,
      "outputs": []
    },
    {
      "cell_type": "markdown",
      "metadata": {
        "id": "lbd2E_hx5nE0"
      },
      "source": [
        "CADD annotations are found for only 97 variants."
      ]
    },
    {
      "cell_type": "code",
      "metadata": {
        "colab": {
          "base_uri": "https://localhost:8080/"
        },
        "id": "QTAMFwBwehHk",
        "outputId": "65601504-099d-417e-aa5f-09f22017c020"
      },
      "source": [
        "df_comb_el_gnomad.info()  "
      ],
      "execution_count": null,
      "outputs": [
        {
          "output_type": "stream",
          "name": "stdout",
          "text": [
            "<class 'pandas.core.frame.DataFrame'>\n",
            "Int64Index: 5040 entries, 0 to 5039\n",
            "Data columns (total 46 columns):\n",
            " #   Column                                     Non-Null Count  Dtype  \n",
            "---  ------                                     --------------  -----  \n",
            " 0   Chromosome                                 5040 non-null   object \n",
            " 1   Position                                   5040 non-null   float64\n",
            " 2   Reference                                  5040 non-null   object \n",
            " 3   Alternate                                  5040 non-null   object \n",
            " 4   VEP Annotation                             5040 non-null   object \n",
            " 5   ClinVar Clinical Significance              5040 non-null   object \n",
            " 6   Allele Count                               5040 non-null   float64\n",
            " 7   Allele Frequency                           5040 non-null   float64\n",
            " 8   Homozygote Count                           5040 non-null   int64  \n",
            " 9   Hemizygote Count                           5040 non-null   int64  \n",
            " 10  Allele Count African/African-American      5040 non-null   int64  \n",
            " 11  Allele Number African/African-American     5040 non-null   int64  \n",
            " 12  Homozygote Count African/African-American  5040 non-null   int64  \n",
            " 13  Hemizygote Count African/African-American  5040 non-null   int64  \n",
            " 14  Allele Count Latino/Admixed American       5040 non-null   int64  \n",
            " 15  Allele Number Latino/Admixed American      5040 non-null   int64  \n",
            " 16  Homozygote Count Latino/Admixed American   5040 non-null   int64  \n",
            " 17  Hemizygote Count Latino/Admixed American   5040 non-null   int64  \n",
            " 18  Allele Count Ashkenazi Jewish              5040 non-null   int64  \n",
            " 19  Allele Number Ashkenazi Jewish             5040 non-null   int64  \n",
            " 20  Homozygote Count Ashkenazi Jewish          5040 non-null   int64  \n",
            " 21  Hemizygote Count Ashkenazi Jewish          5040 non-null   int64  \n",
            " 22  Allele Count East Asian                    5040 non-null   int64  \n",
            " 23  Allele Number East Asian                   5040 non-null   int64  \n",
            " 24  Homozygote Count East Asian                5040 non-null   int64  \n",
            " 25  Hemizygote Count East Asian                5040 non-null   int64  \n",
            " 26  Allele Count European (Finnish)            5040 non-null   int64  \n",
            " 27  Allele Number European (Finnish)           5040 non-null   int64  \n",
            " 28  Homozygote Count European (Finnish)        5040 non-null   int64  \n",
            " 29  Hemizygote Count European (Finnish)        5040 non-null   int64  \n",
            " 30  Allele Count European (non-Finnish)        5040 non-null   int64  \n",
            " 31  Allele Number European (non-Finnish)       5040 non-null   int64  \n",
            " 32  Homozygote Count European (non-Finnish)    5040 non-null   int64  \n",
            " 33  Hemizygote Count European (non-Finnish)    5040 non-null   int64  \n",
            " 34  Allele Count Other                         5040 non-null   int64  \n",
            " 35  Allele Number Other                        5040 non-null   int64  \n",
            " 36  Homozygote Count Other                     5040 non-null   int64  \n",
            " 37  Hemizygote Count Other                     5040 non-null   int64  \n",
            " 38  Allele Count South Asian                   5040 non-null   float64\n",
            " 39  Allele Number South Asian                  5040 non-null   float64\n",
            " 40  Homozygote Count South Asian               5040 non-null   int64  \n",
            " 41  Hemizygote Count South Asian               5040 non-null   int64  \n",
            " 42  oe_lof_upper                               5040 non-null   float64\n",
            " 43  PHRED_x                                    5 non-null      float64\n",
            " 44  PHRED_y                                    0 non-null      float64\n",
            " 45  PHRED                                      97 non-null     float64\n",
            "dtypes: float64(9), int64(32), object(5)\n",
            "memory usage: 1.8+ MB\n"
          ]
        }
      ]
    },
    {
      "cell_type": "markdown",
      "metadata": {
        "id": "sNSixJ4l5vhz"
      },
      "source": [
        "Save the processed data."
      ]
    },
    {
      "cell_type": "code",
      "metadata": {
        "id": "ah7RQR-Ij4ly"
      },
      "source": [
        "df_comb_el_gnomad.to_csv(\"df_comb_el_gnomad_before trnaform_for_train_cadd-indel_snv-p1_snv-p2.csv\",index=False)"
      ],
      "execution_count": null,
      "outputs": []
    }
  ]
}