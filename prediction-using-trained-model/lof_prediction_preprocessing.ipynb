{
  "nbformat": 4,
  "nbformat_minor": 0,
  "metadata": {
    "colab": {
      "name": "lof-prediction-preprocessing.ipynb",
      "provenance": []
    },
    "kernelspec": {
      "name": "python3",
      "display_name": "Python 3"
    },
    "language_info": {
      "name": "python"
    }
  },
  "cells": [
    {
      "cell_type": "markdown",
      "metadata": {
        "id": "iyIuxFK3oZYK"
      },
      "source": [
        "This notebook is the first step of prediction pipeline. It will convert the input data into the representation suitable for the model prediction task.\n",
        "\n",
        "Template for attributes / features:\n",
        "\n",
        "https://drive.google.com/file/d/1zJHIA_zAdgbdzRv8iB5GbU7pBynJH4Hk/view?usp=sharing\n",
        "\n",
        "Template for labels:\n",
        "\n",
        "https://drive.google.com/file/d/1JBPjCurjDPYHGHdf161gnwgNNauCPrbk/view?usp=sharing"
      ]
    },
    {
      "cell_type": "code",
      "metadata": {
        "colab": {
          "base_uri": "https://localhost:8080/"
        },
        "id": "yBFTRu3_rBHk",
        "outputId": "65fdae35-b501-4d52-a74c-b00b6bf20171"
      },
      "source": [
        "# !pip install category_encoders"
      ],
      "execution_count": 2,
      "outputs": [
        {
          "output_type": "stream",
          "name": "stdout",
          "text": [
            "Collecting category_encoders\n",
            "  Downloading category_encoders-2.3.0-py2.py3-none-any.whl (82 kB)\n",
            "\u001b[?25l\r\u001b[K     |████                            | 10 kB 23.2 MB/s eta 0:00:01\r\u001b[K     |████████                        | 20 kB 9.7 MB/s eta 0:00:01\r\u001b[K     |████████████                    | 30 kB 6.5 MB/s eta 0:00:01\r\u001b[K     |████████████████                | 40 kB 3.4 MB/s eta 0:00:01\r\u001b[K     |████████████████████            | 51 kB 3.9 MB/s eta 0:00:01\r\u001b[K     |████████████████████████        | 61 kB 4.1 MB/s eta 0:00:01\r\u001b[K     |████████████████████████████    | 71 kB 4.3 MB/s eta 0:00:01\r\u001b[K     |███████████████████████████████▉| 81 kB 4.9 MB/s eta 0:00:01\r\u001b[K     |████████████████████████████████| 82 kB 389 kB/s \n",
            "\u001b[?25hRequirement already satisfied: pandas>=0.21.1 in /usr/local/lib/python3.7/dist-packages (from category_encoders) (1.1.5)\n",
            "Requirement already satisfied: numpy>=1.14.0 in /usr/local/lib/python3.7/dist-packages (from category_encoders) (1.19.5)\n",
            "Requirement already satisfied: statsmodels>=0.9.0 in /usr/local/lib/python3.7/dist-packages (from category_encoders) (0.10.2)\n",
            "Requirement already satisfied: scipy>=1.0.0 in /usr/local/lib/python3.7/dist-packages (from category_encoders) (1.4.1)\n",
            "Requirement already satisfied: patsy>=0.5.1 in /usr/local/lib/python3.7/dist-packages (from category_encoders) (0.5.2)\n",
            "Requirement already satisfied: scikit-learn>=0.20.0 in /usr/local/lib/python3.7/dist-packages (from category_encoders) (1.0.1)\n",
            "Requirement already satisfied: python-dateutil>=2.7.3 in /usr/local/lib/python3.7/dist-packages (from pandas>=0.21.1->category_encoders) (2.8.2)\n",
            "Requirement already satisfied: pytz>=2017.2 in /usr/local/lib/python3.7/dist-packages (from pandas>=0.21.1->category_encoders) (2018.9)\n",
            "Requirement already satisfied: six in /usr/local/lib/python3.7/dist-packages (from patsy>=0.5.1->category_encoders) (1.15.0)\n",
            "Requirement already satisfied: threadpoolctl>=2.0.0 in /usr/local/lib/python3.7/dist-packages (from scikit-learn>=0.20.0->category_encoders) (3.0.0)\n",
            "Requirement already satisfied: joblib>=0.11 in /usr/local/lib/python3.7/dist-packages (from scikit-learn>=0.20.0->category_encoders) (1.1.0)\n",
            "Installing collected packages: category-encoders\n",
            "Successfully installed category-encoders-2.3.0\n"
          ]
        }
      ]
    },
    {
      "cell_type": "code",
      "metadata": {
        "id": "Z8B7tYe-p-_b"
      },
      "source": [
        "import pandas as pd\n",
        "import matplotlib.pyplot as plt\n",
        "import seaborn as sns\n",
        "from category_encoders.hashing import HashingEncoder\n",
        "import numpy as np"
      ],
      "execution_count": 4,
      "outputs": []
    },
    {
      "cell_type": "markdown",
      "metadata": {
        "id": "IPsme91Ou5Af"
      },
      "source": [
        "# Pre-process/Transform predicotrs"
      ]
    },
    {
      "cell_type": "code",
      "metadata": {
        "id": "3GpOwzDrrhoU"
      },
      "source": [
        "df_pred_X = pd.read_csv(\"/content/df_pred_X.csv\")"
      ],
      "execution_count": 5,
      "outputs": []
    },
    {
      "cell_type": "code",
      "metadata": {
        "colab": {
          "base_uri": "https://localhost:8080/"
        },
        "id": "4sEkz8TZtVzD",
        "outputId": "df94ebf2-90a2-482f-872d-bf41540d23af"
      },
      "source": [
        "df_pred_X.info()"
      ],
      "execution_count": 6,
      "outputs": [
        {
          "output_type": "stream",
          "name": "stdout",
          "text": [
            "<class 'pandas.core.frame.DataFrame'>\n",
            "RangeIndex: 5040 entries, 0 to 5039\n",
            "Data columns (total 41 columns):\n",
            " #   Column                                     Non-Null Count  Dtype  \n",
            "---  ------                                     --------------  -----  \n",
            " 0   Chromosome                                 5040 non-null   object \n",
            " 1   Reference                                  5040 non-null   object \n",
            " 2   Alternate                                  5040 non-null   object \n",
            " 3   VEP Annotation                             5040 non-null   object \n",
            " 4   Allele Count                               5040 non-null   float64\n",
            " 5   Allele Frequency                           5040 non-null   float64\n",
            " 6   Homozygote Count                           5040 non-null   int64  \n",
            " 7   Hemizygote Count                           5040 non-null   int64  \n",
            " 8   Allele Count African/African-American      5040 non-null   int64  \n",
            " 9   Allele Number African/African-American     5040 non-null   int64  \n",
            " 10  Homozygote Count African/African-American  5040 non-null   int64  \n",
            " 11  Hemizygote Count African/African-American  5040 non-null   int64  \n",
            " 12  Allele Count Latino/Admixed American       5040 non-null   int64  \n",
            " 13  Allele Number Latino/Admixed American      5040 non-null   int64  \n",
            " 14  Homozygote Count Latino/Admixed American   5040 non-null   int64  \n",
            " 15  Hemizygote Count Latino/Admixed American   5040 non-null   int64  \n",
            " 16  Allele Count Ashkenazi Jewish              5040 non-null   int64  \n",
            " 17  Allele Number Ashkenazi Jewish             5040 non-null   int64  \n",
            " 18  Homozygote Count Ashkenazi Jewish          5040 non-null   int64  \n",
            " 19  Hemizygote Count Ashkenazi Jewish          5040 non-null   int64  \n",
            " 20  Allele Count East Asian                    5040 non-null   int64  \n",
            " 21  Allele Number East Asian                   5040 non-null   int64  \n",
            " 22  Homozygote Count East Asian                5040 non-null   int64  \n",
            " 23  Hemizygote Count East Asian                5040 non-null   int64  \n",
            " 24  Allele Count European (Finnish)            5040 non-null   int64  \n",
            " 25  Allele Number European (Finnish)           5040 non-null   int64  \n",
            " 26  Homozygote Count European (Finnish)        5040 non-null   int64  \n",
            " 27  Hemizygote Count European (Finnish)        5040 non-null   int64  \n",
            " 28  Allele Count European (non-Finnish)        5040 non-null   int64  \n",
            " 29  Allele Number European (non-Finnish)       5040 non-null   int64  \n",
            " 30  Homozygote Count European (non-Finnish)    5040 non-null   int64  \n",
            " 31  Hemizygote Count European (non-Finnish)    5040 non-null   int64  \n",
            " 32  Allele Count Other                         5040 non-null   int64  \n",
            " 33  Allele Number Other                        5040 non-null   int64  \n",
            " 34  Homozygote Count Other                     5040 non-null   int64  \n",
            " 35  Hemizygote Count Other                     5040 non-null   int64  \n",
            " 36  Allele Count South Asian                   5040 non-null   float64\n",
            " 37  Allele Number South Asian                  5040 non-null   float64\n",
            " 38  Homozygote Count South Asian               5040 non-null   int64  \n",
            " 39  Hemizygote Count South Asian               5040 non-null   int64  \n",
            " 40  oe_lof_upper                               5039 non-null   float64\n",
            "dtypes: float64(5), int64(32), object(4)\n",
            "memory usage: 1.6+ MB\n"
          ]
        }
      ]
    },
    {
      "cell_type": "code",
      "metadata": {
        "colab": {
          "base_uri": "https://localhost:8080/"
        },
        "id": "FnaUwCgbtIh-",
        "outputId": "9c428478-a6a4-4e35-ddc2-f53d27686a3f"
      },
      "source": [
        "# Update data types\n",
        "dict_astype = {\"Chromosome\":\"category\",  \n",
        "               \"Reference\":\"object\",\n",
        "               \"Alternate\":\"object\",\n",
        "               \"VEP Annotation\":\"category\",\\\n",
        "               \"Allele Count\":\"int32\",\"Allele Frequency\":\"float64\",\"Homozygote Count\":\"int32\",\\\n",
        "               \"Hemizygote Count\":\"int32\",\"Allele Count African/African-American\":\"int32\",\\\n",
        "               \"Allele Number African/African-American\":\"int32\",\\\n",
        "               \"Homozygote Count African/African-American\":\"int32\",\"Hemizygote Count African/African-American\":\"int32\",\\\n",
        "               \"Allele Count Latino/Admixed American\":\"int32\",\"Allele Number Latino/Admixed American\":\"int32\",\\\n",
        "               \"Homozygote Count Latino/Admixed American\":\"int32\",\\\n",
        "               \"Hemizygote Count Latino/Admixed American\":\"int32\",\"Allele Count Ashkenazi Jewish\":\"int32\",\\\n",
        "               \"Allele Number Ashkenazi Jewish\":\"int32\",\"Homozygote Count Ashkenazi Jewish\":\"int32\",\\\n",
        "               \"Hemizygote Count Ashkenazi Jewish\":\"int32\",\"Allele Count East Asian\":\"int32\",\\\n",
        "               \"Allele Number East Asian\":\"int32\",\"Homozygote Count East Asian\":\"int32\",\\\n",
        "               \"Hemizygote Count East Asian\":\"int32\",\"Allele Count European (Finnish)\":\"int32\",\\\n",
        "               \"Allele Number European (Finnish)\":\"int32\",\"Homozygote Count European (Finnish)\":\"int32\",\\\n",
        "               \"Hemizygote Count European (Finnish)\":\"int32\",\"Allele Count European (non-Finnish)\":\"int32\",\\\n",
        "               \"Allele Number European (non-Finnish)\":\"int32\",\"Homozygote Count European (non-Finnish)\":\"int32\",\\\n",
        "               \"Hemizygote Count European (non-Finnish)\":\"int32\",\"Allele Count Other\":\"int32\",\\\n",
        "               \"Allele Number Other\":\"int32\",\"Homozygote Count Other\":\"int32\",\"Hemizygote Count Other\":\"int32\",\\\n",
        "               \"Allele Count South Asian\":\"int32\",\"Allele Number South Asian\":\"int32\",\\\n",
        "               \"Homozygote Count South Asian\":\"int32\",\"Hemizygote Count South Asian\":\"int32\",\\\n",
        "               \"oe_lof_upper\":\"float64\"}\n",
        "df_pred_X = df_pred_X.astype(dict_astype)\n",
        "df_pred_X.info()               "
      ],
      "execution_count": 7,
      "outputs": [
        {
          "output_type": "stream",
          "name": "stdout",
          "text": [
            "<class 'pandas.core.frame.DataFrame'>\n",
            "RangeIndex: 5040 entries, 0 to 5039\n",
            "Data columns (total 41 columns):\n",
            " #   Column                                     Non-Null Count  Dtype   \n",
            "---  ------                                     --------------  -----   \n",
            " 0   Chromosome                                 5040 non-null   category\n",
            " 1   Reference                                  5040 non-null   object  \n",
            " 2   Alternate                                  5040 non-null   object  \n",
            " 3   VEP Annotation                             5040 non-null   category\n",
            " 4   Allele Count                               5040 non-null   int32   \n",
            " 5   Allele Frequency                           5040 non-null   float64 \n",
            " 6   Homozygote Count                           5040 non-null   int32   \n",
            " 7   Hemizygote Count                           5040 non-null   int32   \n",
            " 8   Allele Count African/African-American      5040 non-null   int32   \n",
            " 9   Allele Number African/African-American     5040 non-null   int32   \n",
            " 10  Homozygote Count African/African-American  5040 non-null   int32   \n",
            " 11  Hemizygote Count African/African-American  5040 non-null   int32   \n",
            " 12  Allele Count Latino/Admixed American       5040 non-null   int32   \n",
            " 13  Allele Number Latino/Admixed American      5040 non-null   int32   \n",
            " 14  Homozygote Count Latino/Admixed American   5040 non-null   int32   \n",
            " 15  Hemizygote Count Latino/Admixed American   5040 non-null   int32   \n",
            " 16  Allele Count Ashkenazi Jewish              5040 non-null   int32   \n",
            " 17  Allele Number Ashkenazi Jewish             5040 non-null   int32   \n",
            " 18  Homozygote Count Ashkenazi Jewish          5040 non-null   int32   \n",
            " 19  Hemizygote Count Ashkenazi Jewish          5040 non-null   int32   \n",
            " 20  Allele Count East Asian                    5040 non-null   int32   \n",
            " 21  Allele Number East Asian                   5040 non-null   int32   \n",
            " 22  Homozygote Count East Asian                5040 non-null   int32   \n",
            " 23  Hemizygote Count East Asian                5040 non-null   int32   \n",
            " 24  Allele Count European (Finnish)            5040 non-null   int32   \n",
            " 25  Allele Number European (Finnish)           5040 non-null   int32   \n",
            " 26  Homozygote Count European (Finnish)        5040 non-null   int32   \n",
            " 27  Hemizygote Count European (Finnish)        5040 non-null   int32   \n",
            " 28  Allele Count European (non-Finnish)        5040 non-null   int32   \n",
            " 29  Allele Number European (non-Finnish)       5040 non-null   int32   \n",
            " 30  Homozygote Count European (non-Finnish)    5040 non-null   int32   \n",
            " 31  Hemizygote Count European (non-Finnish)    5040 non-null   int32   \n",
            " 32  Allele Count Other                         5040 non-null   int32   \n",
            " 33  Allele Number Other                        5040 non-null   int32   \n",
            " 34  Homozygote Count Other                     5040 non-null   int32   \n",
            " 35  Hemizygote Count Other                     5040 non-null   int32   \n",
            " 36  Allele Count South Asian                   5040 non-null   int32   \n",
            " 37  Allele Number South Asian                  5040 non-null   int32   \n",
            " 38  Homozygote Count South Asian               5040 non-null   int32   \n",
            " 39  Hemizygote Count South Asian               5040 non-null   int32   \n",
            " 40  oe_lof_upper                               5039 non-null   float64 \n",
            "dtypes: category(2), float64(2), int32(35), object(2)\n",
            "memory usage: 857.7+ KB\n"
          ]
        }
      ]
    },
    {
      "cell_type": "code",
      "metadata": {
        "colab": {
          "base_uri": "https://localhost:8080/"
        },
        "id": "T77VHUxRtRRN",
        "outputId": "d6694a0e-9cec-473b-a9cf-be5fdbb1a6ba"
      },
      "source": [
        "# Convert VEP annotation to numeric\n",
        "tup_vep = df_pred_X[\"VEP Annotation\"].factorize()\n",
        "list_vep = tup_vep[0]\n",
        "df_pred_X[\"VEP Annotation\"] = list_vep\n",
        "df_pred_X[\"VEP Annotation\"] "
      ],
      "execution_count": 10,
      "outputs": [
        {
          "output_type": "execute_result",
          "data": {
            "text/plain": [
              "0       0\n",
              "1       1\n",
              "2       1\n",
              "3       2\n",
              "4       2\n",
              "       ..\n",
              "5035    5\n",
              "5036    5\n",
              "5037    5\n",
              "5038    5\n",
              "5039    5\n",
              "Name: VEP Annotation, Length: 5040, dtype: int64"
            ]
          },
          "metadata": {},
          "execution_count": 10
        }
      ]
    },
    {
      "cell_type": "code",
      "metadata": {
        "colab": {
          "base_uri": "https://localhost:8080/"
        },
        "id": "uBzYXCUDtwYU",
        "outputId": "a5a798c0-f589-44ea-90d8-ebd4433d987f"
      },
      "source": [
        "# Convert Chromosome to numeric\n",
        "tup_chrom = df_pred_X[\"Chromosome\"].factorize()\n",
        "df_pred_X[\"Chromosome\"] = tup_chrom[0]\n",
        "df_pred_X[\"Chromosome\"].value_counts()"
      ],
      "execution_count": 11,
      "outputs": [
        {
          "output_type": "execute_result",
          "data": {
            "text/plain": [
              "2     513\n",
              "10    477\n",
              "8     355\n",
              "4     336\n",
              "20    306\n",
              "3     296\n",
              "17    294\n",
              "19    270\n",
              "16    231\n",
              "1     230\n",
              "11    210\n",
              "7     207\n",
              "0     187\n",
              "12    168\n",
              "5     166\n",
              "18    158\n",
              "9     147\n",
              "15    109\n",
              "6      92\n",
              "21     90\n",
              "13     82\n",
              "14     75\n",
              "22     41\n",
              "Name: Chromosome, dtype: int64"
            ]
          },
          "metadata": {},
          "execution_count": 11
        }
      ]
    },
    {
      "cell_type": "code",
      "metadata": {
        "colab": {
          "base_uri": "https://localhost:8080/"
        },
        "id": "6ZCCpNufuWfB",
        "outputId": "6f37f1b4-e6eb-4581-903e-f7b45c68c58d"
      },
      "source": [
        "hashEnc = HashingEncoder(cols=[\"Alternate\",\"Reference\"])\n",
        "hashEnc.fit(df_pred_X)\n",
        "df_pred_X_transformed = hashEnc.transform(df_pred_X)\n",
        "df_pred_X_transformed.info()"
      ],
      "execution_count": 15,
      "outputs": [
        {
          "output_type": "stream",
          "name": "stdout",
          "text": [
            "<class 'pandas.core.frame.DataFrame'>\n",
            "RangeIndex: 5040 entries, 0 to 5039\n",
            "Data columns (total 47 columns):\n",
            " #   Column                                     Non-Null Count  Dtype  \n",
            "---  ------                                     --------------  -----  \n",
            " 0   col_0                                      5040 non-null   int64  \n",
            " 1   col_1                                      5040 non-null   int64  \n",
            " 2   col_2                                      5040 non-null   int64  \n",
            " 3   col_3                                      5040 non-null   int64  \n",
            " 4   col_4                                      5040 non-null   int64  \n",
            " 5   col_5                                      5040 non-null   int64  \n",
            " 6   col_6                                      5040 non-null   int64  \n",
            " 7   col_7                                      5040 non-null   int64  \n",
            " 8   Chromosome                                 5040 non-null   int64  \n",
            " 9   VEP Annotation                             5040 non-null   int64  \n",
            " 10  Allele Count                               5040 non-null   int32  \n",
            " 11  Allele Frequency                           5040 non-null   float64\n",
            " 12  Homozygote Count                           5040 non-null   int32  \n",
            " 13  Hemizygote Count                           5040 non-null   int32  \n",
            " 14  Allele Count African/African-American      5040 non-null   int32  \n",
            " 15  Allele Number African/African-American     5040 non-null   int32  \n",
            " 16  Homozygote Count African/African-American  5040 non-null   int32  \n",
            " 17  Hemizygote Count African/African-American  5040 non-null   int32  \n",
            " 18  Allele Count Latino/Admixed American       5040 non-null   int32  \n",
            " 19  Allele Number Latino/Admixed American      5040 non-null   int32  \n",
            " 20  Homozygote Count Latino/Admixed American   5040 non-null   int32  \n",
            " 21  Hemizygote Count Latino/Admixed American   5040 non-null   int32  \n",
            " 22  Allele Count Ashkenazi Jewish              5040 non-null   int32  \n",
            " 23  Allele Number Ashkenazi Jewish             5040 non-null   int32  \n",
            " 24  Homozygote Count Ashkenazi Jewish          5040 non-null   int32  \n",
            " 25  Hemizygote Count Ashkenazi Jewish          5040 non-null   int32  \n",
            " 26  Allele Count East Asian                    5040 non-null   int32  \n",
            " 27  Allele Number East Asian                   5040 non-null   int32  \n",
            " 28  Homozygote Count East Asian                5040 non-null   int32  \n",
            " 29  Hemizygote Count East Asian                5040 non-null   int32  \n",
            " 30  Allele Count European (Finnish)            5040 non-null   int32  \n",
            " 31  Allele Number European (Finnish)           5040 non-null   int32  \n",
            " 32  Homozygote Count European (Finnish)        5040 non-null   int32  \n",
            " 33  Hemizygote Count European (Finnish)        5040 non-null   int32  \n",
            " 34  Allele Count European (non-Finnish)        5040 non-null   int32  \n",
            " 35  Allele Number European (non-Finnish)       5040 non-null   int32  \n",
            " 36  Homozygote Count European (non-Finnish)    5040 non-null   int32  \n",
            " 37  Hemizygote Count European (non-Finnish)    5040 non-null   int32  \n",
            " 38  Allele Count Other                         5040 non-null   int32  \n",
            " 39  Allele Number Other                        5040 non-null   int32  \n",
            " 40  Homozygote Count Other                     5040 non-null   int32  \n",
            " 41  Hemizygote Count Other                     5040 non-null   int32  \n",
            " 42  Allele Count South Asian                   5040 non-null   int32  \n",
            " 43  Allele Number South Asian                  5040 non-null   int32  \n",
            " 44  Homozygote Count South Asian               5040 non-null   int32  \n",
            " 45  Hemizygote Count South Asian               5040 non-null   int32  \n",
            " 46  oe_lof_upper                               5039 non-null   float64\n",
            "dtypes: float64(2), int32(35), int64(10)\n",
            "memory usage: 1.1 MB\n"
          ]
        }
      ]
    },
    {
      "cell_type": "code",
      "metadata": {
        "id": "2DlUgcfUwRYL"
      },
      "source": [
        "# Save processed data\n",
        "df_pred_X_transformed.to_csv(\"/content/prediction-attributes.csv.csv\", index=False)"
      ],
      "execution_count": 23,
      "outputs": []
    },
    {
      "cell_type": "markdown",
      "metadata": {
        "id": "203_aMqyvDIF"
      },
      "source": [
        "# Pre-process/Transform labels (optional)"
      ]
    },
    {
      "cell_type": "code",
      "metadata": {
        "id": "tumcM42ovKRe"
      },
      "source": [
        "df_pred_y = pd.read_csv(\"/content/df_pred_y.csv\")"
      ],
      "execution_count": 16,
      "outputs": []
    },
    {
      "cell_type": "markdown",
      "metadata": {
        "id": "iufdOYNsrdN0"
      },
      "source": [
        "Merge Pathogenic/Likely pathogenic and Likely pathogenic into Likely pathogenic."
      ]
    },
    {
      "cell_type": "code",
      "metadata": {
        "id": "BygkBOu9q7bq"
      },
      "source": [
        "df_pred_y.loc[df_pred_y['ClinVar Clinical Significance']=='Pathogenic/Likely pathogenic','ClinVar Clinical Significance'] = 'Likely pathogenic'"
      ],
      "execution_count": 17,
      "outputs": []
    },
    {
      "cell_type": "code",
      "metadata": {
        "colab": {
          "base_uri": "https://localhost:8080/"
        },
        "id": "LiMZqvDqvV0k",
        "outputId": "ce8dac12-0992-45a7-a27d-c93a858e9727"
      },
      "source": [
        "df_pred_y['ClinVar Clinical Significance'].unique()"
      ],
      "execution_count": 20,
      "outputs": [
        {
          "output_type": "execute_result",
          "data": {
            "text/plain": [
              "array(['Likely pathogenic', 'Pathogenic', 'Benign'], dtype=object)"
            ]
          },
          "metadata": {},
          "execution_count": 20
        }
      ]
    },
    {
      "cell_type": "code",
      "metadata": {
        "colab": {
          "base_uri": "https://localhost:8080/"
        },
        "id": "-sC_A6j8vetz",
        "outputId": "968f700b-20c6-433f-f17f-e6beff98de5d"
      },
      "source": [
        "# Convert Clinical Significance to numeric\n",
        "tup_y = df_pred_y[\"ClinVar Clinical Significance\"].factorize()\n",
        "df_pred_y[\"ClinVar Clinical Significance\"] = tup_y[0]\n",
        "df_pred_y['ClinVar Clinical Significance'].unique()"
      ],
      "execution_count": 22,
      "outputs": [
        {
          "output_type": "execute_result",
          "data": {
            "text/plain": [
              "array([0, 1, 2])"
            ]
          },
          "metadata": {},
          "execution_count": 22
        }
      ]
    },
    {
      "cell_type": "code",
      "metadata": {
        "id": "BFc9BvDev_FW"
      },
      "source": [
        "# Save processed data\n",
        "df_pred_y.to_csv(\"/content/true-labels.csv\", index=False)"
      ],
      "execution_count": 24,
      "outputs": []
    }
  ]
}