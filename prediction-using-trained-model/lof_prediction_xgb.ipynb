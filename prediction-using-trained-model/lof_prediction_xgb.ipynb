{
  "nbformat": 4,
  "nbformat_minor": 0,
  "metadata": {
    "colab": {
      "name": "lof-prediction-xgb.ipynb",
      "provenance": []
    },
    "kernelspec": {
      "name": "python3",
      "display_name": "Python 3"
    },
    "language_info": {
      "name": "python"
    }
  },
  "cells": [
    {
      "cell_type": "markdown",
      "metadata": {
        "id": "9ek47nn-jUOS"
      },
      "source": [
        "This notebook loads the trained model and makes predictions baed on the attributes.\n",
        "\n",
        "True labels may be provided, but are not mandatory. When true lables are given, program will compare the prediction and true lable and will inform whether there is a match."
      ]
    },
    {
      "cell_type": "code",
      "metadata": {
        "id": "ymNDAp9ZaYYk"
      },
      "source": [
        "import pickle\n",
        "import numpy as np\n",
        "import pandas as pd\n",
        "from sklearn.preprocessing import StandardScaler"
      ],
      "execution_count": 99,
      "outputs": []
    },
    {
      "cell_type": "code",
      "metadata": {
        "id": "EVJBBJr0brC8"
      },
      "source": [
        "# Load the attributes and normalize\n",
        "df_X = pd.read_csv(\"/content/prediction-attributes.csv\")\n",
        "X_test = df_X.to_numpy()\n",
        "scaler = StandardScaler()\n",
        "X_test = scaler.fit_transform(X_test)"
      ],
      "execution_count": 100,
      "outputs": []
    },
    {
      "cell_type": "code",
      "metadata": {
        "id": "XYRIp2Tng34v"
      },
      "source": [
        "# Load true lables if available.\n",
        "true_label_available = True\n",
        "try:\n",
        "  df_y = pd.read_csv(\"/content/true-labels.csv\")\n",
        "  y_test = df_y.to_numpy().reshape(-1,)\n",
        "except:\n",
        "  true_label_available = False"
      ],
      "execution_count": 101,
      "outputs": []
    },
    {
      "cell_type": "code",
      "metadata": {
        "id": "ToBvW52ndsgd"
      },
      "source": [
        "# Load the model\n",
        "with open('/content/model_xgb_full.pkl', 'rb') as f:\n",
        "    model = pickle.load(f)"
      ],
      "execution_count": 102,
      "outputs": []
    },
    {
      "cell_type": "code",
      "metadata": {
        "colab": {
          "base_uri": "https://localhost:8080/"
        },
        "id": "IM7ypDpyeXMN",
        "outputId": "cd1cd4bd-2ea9-4658-e074-af6d8d7ad783"
      },
      "source": [
        "# Get a random index from test data\n",
        "test_index = np.random.randint(0,X_test.shape[0])\n",
        "test_index"
      ],
      "execution_count": 103,
      "outputs": [
        {
          "output_type": "execute_result",
          "data": {
            "text/plain": [
              "85"
            ]
          },
          "metadata": {},
          "execution_count": 103
        }
      ]
    },
    {
      "cell_type": "code",
      "metadata": {
        "id": "NDR_RWTIeS2S"
      },
      "source": [
        "model_input = X_test[test_index]"
      ],
      "execution_count": 104,
      "outputs": []
    },
    {
      "cell_type": "code",
      "metadata": {
        "colab": {
          "base_uri": "https://localhost:8080/"
        },
        "id": "YBK2Zci9e5Nx",
        "outputId": "dbe09e64-f6cb-499c-bed4-d26df6d2c05f"
      },
      "source": [
        "model_input.shape"
      ],
      "execution_count": 105,
      "outputs": [
        {
          "output_type": "execute_result",
          "data": {
            "text/plain": [
              "(47,)"
            ]
          },
          "metadata": {},
          "execution_count": 105
        }
      ]
    },
    {
      "cell_type": "code",
      "metadata": {
        "colab": {
          "base_uri": "https://localhost:8080/"
        },
        "id": "gN80X8v4fCrV",
        "outputId": "f4d7cda2-d538-49b0-d95e-5acae3e2b9b6"
      },
      "source": [
        "# Convert 1-d input to 2-d numpy aaray \n",
        "model_input = model_input[np.newaxis, :]\n",
        "model_input.shape"
      ],
      "execution_count": 106,
      "outputs": [
        {
          "output_type": "execute_result",
          "data": {
            "text/plain": [
              "(1, 47)"
            ]
          },
          "metadata": {},
          "execution_count": 106
        }
      ]
    },
    {
      "cell_type": "code",
      "metadata": {
        "id": "VuW1G5BkeAex"
      },
      "source": [
        "try:\n",
        "    # Call the model instance to make predictions\n",
        "  prediction = model.predict(model_input)  \n",
        "except:\n",
        "    # Error if model instance not found\n",
        "    print(\"Model could not be loaded\")"
      ],
      "execution_count": 107,
      "outputs": []
    },
    {
      "cell_type": "code",
      "metadata": {
        "colab": {
          "base_uri": "https://localhost:8080/"
        },
        "id": "V7JZftFgezbp",
        "outputId": "0dc19618-3c3d-4a8d-8fa7-e61587e4fc23"
      },
      "source": [
        "# Convert numric prediction to text and print results\n",
        "pred_text = \"\"\n",
        "lp = \"Likely Pathogenic\"\n",
        "p = \"Pathogenic\"\n",
        "b = \"Benign\"\n",
        "if prediction[0] == 0:\n",
        "  pred_text = lp\n",
        "elif prediction[0] == 1:\n",
        "  pred_text = p\n",
        "elif prediction[0] == 2:\n",
        "  pred_text = b\n",
        "\n",
        "if true_label_available:\n",
        "  true_label_text = \"\"\n",
        "  if y_test[test_index] == 0:\n",
        "    true_label_text = lp\n",
        "  elif y_test[test_index] == 1:\n",
        "    true_label_text = p\n",
        "  elif y_test[test_index] == 2:\n",
        "    true_label_text = b\n",
        "\n",
        "  if pred_text == true_label_text:\n",
        "    print(\"Model's prediction matches the true label.\")\n",
        "  else:\n",
        "    print(\"Model's prediction does not match the true label.\")\n",
        "  \n",
        "  print(\"True lable is: \", true_label_text)\n",
        "print(\"Model's prediction is: \", pred_text)"
      ],
      "execution_count": 108,
      "outputs": [
        {
          "output_type": "stream",
          "name": "stdout",
          "text": [
            "Model's prediction matches the true label.\n",
            "True lable is:  Likely Pathogenic\n",
            "Model's prediction is:  Likely Pathogenic\n"
          ]
        }
      ]
    }
  ]
}